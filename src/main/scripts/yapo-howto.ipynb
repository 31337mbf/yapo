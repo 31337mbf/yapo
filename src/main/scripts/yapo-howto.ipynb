{
 "cells": [
  {
   "cell_type": "code",
   "execution_count": 1,
   "metadata": {},
   "outputs": [],
   "source": [
    "import yapo\n",
    "import pandas as pd"
   ]
  },
  {
   "cell_type": "markdown",
   "metadata": {},
   "source": [
    "Fetch financial symbols information\n",
    "---"
   ]
  },
  {
   "cell_type": "code",
   "execution_count": 2,
   "metadata": {},
   "outputs": [
    {
     "data": {
      "text/html": [
       "<div>\n",
       "<style>\n",
       "    .dataframe thead tr:only-child th {\n",
       "        text-align: right;\n",
       "    }\n",
       "\n",
       "    .dataframe thead th {\n",
       "        text-align: left;\n",
       "    }\n",
       "\n",
       "    .dataframe tbody tr th {\n",
       "        vertical-align: top;\n",
       "    }\n",
       "</style>\n",
       "<table border=\"1\" class=\"dataframe\">\n",
       "  <thead>\n",
       "    <tr style=\"text-align: right;\">\n",
       "      <th></th>\n",
       "      <th>close</th>\n",
       "      <th>period</th>\n",
       "      <th>close_pctchange</th>\n",
       "    </tr>\n",
       "    <tr>\n",
       "      <th>period</th>\n",
       "      <th></th>\n",
       "      <th></th>\n",
       "      <th></th>\n",
       "    </tr>\n",
       "  </thead>\n",
       "  <tbody>\n",
       "    <tr>\n",
       "      <th>2017-10</th>\n",
       "      <td>255.853023</td>\n",
       "      <td>2017-10</td>\n",
       "      <td>0.000000</td>\n",
       "    </tr>\n",
       "    <tr>\n",
       "      <th>2017-11</th>\n",
       "      <td>263.673379</td>\n",
       "      <td>2017-11</td>\n",
       "      <td>0.030566</td>\n",
       "    </tr>\n",
       "    <tr>\n",
       "      <th>2017-12</th>\n",
       "      <td>266.860000</td>\n",
       "      <td>2017-12</td>\n",
       "      <td>0.012085</td>\n",
       "    </tr>\n",
       "  </tbody>\n",
       "</table>\n",
       "</div>"
      ],
      "text/plain": [
       "              close  period  close_pctchange\n",
       "period                                      \n",
       "2017-10  255.853023 2017-10         0.000000\n",
       "2017-11  263.673379 2017-11         0.030566\n",
       "2017-12  266.860000 2017-12         0.012085"
      ]
     },
     "execution_count": 2,
     "metadata": {},
     "output_type": "execute_result"
    }
   ],
   "source": [
    "asset = yapo.portfolio_asset(name='quandl/SPY', \n",
    "                             start_period='2017-10', end_period='2017-12', currency='usd')\n",
    "asset.values"
   ]
  },
  {
   "cell_type": "code",
   "execution_count": 3,
   "metadata": {},
   "outputs": [
    {
     "data": {
      "text/plain": [
       "['accumulated_rate_of_return',\n",
       " 'assets',\n",
       " 'assets_weighted',\n",
       " 'compound_annual_growth_rate',\n",
       " 'period_max',\n",
       " 'period_min',\n",
       " 'rate_of_return',\n",
       " 'risk',\n",
       " 'weights']"
      ]
     },
     "execution_count": 3,
     "metadata": {},
     "output_type": "execute_result"
    }
   ],
   "source": [
    "port = yapo.portfolio(assets={'quandl/SPY': .5, 'nlu/419': .5},\n",
    "                      start_period='2017-10', end_period='2017-12', currency='USD')\n",
    "[m for m in dir(port) if m[:2] != '__']"
   ]
  },
  {
   "cell_type": "code",
   "execution_count": 4,
   "metadata": {},
   "outputs": [
    {
     "data": {
      "text/plain": [
       "{'adjusted_close': True,\n",
       " 'currency': <Currency.USD: 2>,\n",
       " 'exchange': 'NYSE Arca',\n",
       " 'isin': None,\n",
       " 'long_name': None,\n",
       " 'namespace': 'quandl',\n",
       " 'period': <Period.DAY: 1>,\n",
       " 'security_type': <SecurityType.STOCK_ETF: 1>,\n",
       " 'short_name': 'Vanguard Real Estate',\n",
       " 'ticker': 'VNQ',\n",
       " 'values': <function FinancialSymbol.__init__.<locals>.<lambda> at 0x11b945f28>}"
      ]
     },
     "execution_count": 4,
     "metadata": {},
     "output_type": "execute_result"
    }
   ],
   "source": [
    "yapo.information(name='quandl/VNQ')"
   ]
  },
  {
   "cell_type": "code",
   "execution_count": 5,
   "metadata": {},
   "outputs": [
    {
     "data": {
      "text/plain": [
       "['Сбербанк', 'Microsoft Corporation', 'ОТКРЫТИЕ - Облигации']"
      ]
     },
     "execution_count": 5,
     "metadata": {},
     "output_type": "execute_result"
    }
   ],
   "source": [
    "infos = yapo.information(names=['micex/SBER', 'quandl/MSFT', 'nlu/419'])\n",
    "[i.short_name for i in infos]"
   ]
  },
  {
   "cell_type": "markdown",
   "metadata": {},
   "source": [
    "Portfolio interactions\n",
    "---"
   ]
  },
  {
   "cell_type": "code",
   "execution_count": 6,
   "metadata": {
    "collapsed": true
   },
   "outputs": [],
   "source": [
    "portfolio = yapo.portfolio(assets={'quandl/MSFT': .2,\n",
    "                                   'micex/SBER': .2,\n",
    "                                   'nlu/419': .2,\n",
    "                                   'cbr/USD': .2, \n",
    "                                   'cbr/EUR': .2},\n",
    "                           start_period='2011-3', end_period='2015-5', currency='USD')"
   ]
  },
  {
   "cell_type": "code",
   "execution_count": 7,
   "metadata": {},
   "outputs": [
    {
     "name": "stdout",
     "output_type": "stream",
     "text": [
      "2011-11\n",
      "2015-05\n"
     ]
    }
   ],
   "source": [
    "print(portfolio.period_min)\n",
    "print(portfolio.period_max)"
   ]
  },
  {
   "cell_type": "code",
   "execution_count": 8,
   "metadata": {},
   "outputs": [
    {
     "name": "stdout",
     "output_type": "stream",
     "text": [
      "______________\n",
      "2011-11 ~ 2015-05\n",
      "[ 0.         -0.03050316  0.05448674  0.12361404  0.10967936]\n",
      "[-0.69430992 -0.36570272 -0.06297025 -0.06297025]\n",
      "______________\n",
      "Microsoft Corporation\n",
      "[Period('2011-11', 'M') Period('2011-12', 'M') Period('2012-01', 'M')\n",
      " Period('2012-02', 'M') Period('2012-03', 'M')]\n",
      "[ 21.68285536  22.00496189  25.03106798  27.08225189  27.52167721]\n",
      "[ 0.          0.01485536  0.13751926  0.08194552  0.01622558]\n",
      "2011-11 ~ 2015-05\n",
      "[ 0.          0.01485536  0.15441751  0.24901686  0.26928289]\n",
      "[ 0.17484626  0.19113859  0.22271487  0.22271487]\n",
      "______________\n",
      "Сбербанк\n",
      "[Period('2011-11', 'M') Period('2011-12', 'M') Period('2012-01', 'M')\n",
      " Period('2012-02', 'M') Period('2012-03', 'M')]\n",
      "[ 2.79519565  2.4661372   2.96956663  3.46075861  3.23442966]\n",
      "[ 0.         -0.11772287  0.20413683  0.16540864 -0.06539865]\n",
      "2011-11 ~ 2015-05\n",
      "[ 0.         -0.11772287  0.06238239  0.23810962  0.15713892]\n",
      "[-0.42962912 -0.33478063 -0.18135641 -0.18135641]\n",
      "______________\n",
      "ОТКРЫТИЕ - Облигации\n",
      "[Period('2011-11', 'M') Period('2011-12', 'M') Period('2012-01', 'M')\n",
      " Period('2012-02', 'M') Period('2012-03', 'M')]\n",
      "[ 77.0864196   75.66537562  81.69321614  86.53796334  85.97459101]\n",
      "[ 0.         -0.01843443  0.07966445  0.05930416 -0.00651012]\n",
      "2011-11 ~ 2015-05\n",
      "[ 0.         -0.01843443  0.05976145  0.12260971  0.11530139]\n",
      "[-0.24434713 -0.14104956 -0.04912683 -0.04912683]\n",
      "______________\n",
      "Доллар США\n",
      "[Period('2011-11', 'M') Period('2011-12', 'M') Period('2012-01', 'M')\n",
      " Period('2012-02', 'M') Period('2012-03', 'M')]\n",
      "[ 1.  1.  1.  1.  1.]\n",
      "[ 0.  0.  0.  0.  0.]\n",
      "2011-11 ~ 2015-05\n",
      "[ 0.  0.  0.  0.  0.]\n",
      "[ 0.  0.  0.  0.]\n",
      "______________\n",
      "Евро\n",
      "[Period('2011-11', 'M') Period('2011-12', 'M') Period('2012-01', 'M')\n",
      " Period('2012-02', 'M') Period('2012-03', 'M')]\n",
      "[ 1.33600135  1.29429962  1.31630149  1.34410006  1.3355985 ]\n",
      "[ 0.         -0.03121384  0.01699906  0.02111869 -0.00632509]\n",
      "2011-11 ~ 2015-05\n",
      "[ 0.         -0.03121384 -0.01474539  0.0060619  -0.00030154]\n",
      "[-0.19517993 -0.08101113 -0.05520188 -0.05520188]\n"
     ]
    }
   ],
   "source": [
    "for idx, asset in enumerate([portfolio] + portfolio.assets):\n",
    "    print('______________')\n",
    "    if idx > 0:\n",
    "        print(asset.symbol.short_name)\n",
    "        print(asset.period()[:5])\n",
    "        print(asset.close()[:5])\n",
    "        print(asset.rate_of_return()[:5])\n",
    "    print(asset.period_min, '~', asset.period_max)\n",
    "    print(asset.accumulated_rate_of_return()[:5])\n",
    "    print(asset.compound_annual_growth_rate(years_ago=[1, 2, 10, 15]))"
   ]
  }
 ],
 "metadata": {
  "kernelspec": {
   "display_name": "Python 3",
   "language": "python",
   "name": "python3"
  },
  "language_info": {
   "codemirror_mode": {
    "name": "ipython",
    "version": 3
   },
   "file_extension": ".py",
   "mimetype": "text/x-python",
   "name": "python",
   "nbconvert_exporter": "python",
   "pygments_lexer": "ipython3",
   "version": "3.6.2"
  }
 },
 "nbformat": 4,
 "nbformat_minor": 2
}
