{
 "cells": [
  {
   "cell_type": "code",
   "execution_count": 1,
   "metadata": {
    "collapsed": true
   },
   "outputs": [],
   "source": [
    "import yapo\n",
    "import pandas as pd"
   ]
  },
  {
   "cell_type": "markdown",
   "metadata": {},
   "source": [
    "Get all existing symbols names\n",
    "---"
   ]
  },
  {
   "cell_type": "code",
   "execution_count": 2,
   "metadata": {},
   "outputs": [
    {
     "data": {
      "text/plain": [
       "['cbr', 'infl', 'micex', 'nlu', 'quandl']"
      ]
     },
     "execution_count": 2,
     "metadata": {},
     "output_type": "execute_result"
    }
   ],
   "source": [
    "yapo.available_names() # available namespaces"
   ]
  },
  {
   "cell_type": "code",
   "execution_count": 3,
   "metadata": {},
   "outputs": [
    {
     "data": {
      "text/plain": [
       "['micex/MCFTR', 'micex/ABBN', 'micex/ABRD', 'micex/ACKO', 'micex/AFKS']"
      ]
     },
     "execution_count": 3,
     "metadata": {},
     "output_type": "execute_result"
    }
   ],
   "source": [
    "yapo.available_names(namespace='micex')[:5] # get symbols in the namespace"
   ]
  },
  {
   "cell_type": "code",
   "execution_count": 4,
   "metadata": {},
   "outputs": [
    {
     "data": {
      "text/plain": [
       "['infl/RUB',\n",
       " 'infl/EUR',\n",
       " 'infl/USD',\n",
       " 'nlu/1002',\n",
       " 'nlu/1003',\n",
       " 'nlu/1004',\n",
       " 'nlu/1005']"
      ]
     },
     "execution_count": 4,
     "metadata": {},
     "output_type": "execute_result"
    }
   ],
   "source": [
    "yapo.available_names(namespaces=['infl', 'nlu'])[:7] # get symbols in several namespaces"
   ]
  },
  {
   "cell_type": "markdown",
   "metadata": {},
   "source": [
    "Fetch financial symbols information\n",
    "---"
   ]
  },
  {
   "cell_type": "code",
   "execution_count": 5,
   "metadata": {},
   "outputs": [
    {
     "data": {
      "text/html": [
       "<div>\n",
       "<style>\n",
       "    .dataframe thead tr:only-child th {\n",
       "        text-align: right;\n",
       "    }\n",
       "\n",
       "    .dataframe thead th {\n",
       "        text-align: left;\n",
       "    }\n",
       "\n",
       "    .dataframe tbody tr th {\n",
       "        vertical-align: top;\n",
       "    }\n",
       "</style>\n",
       "<table border=\"1\" class=\"dataframe\">\n",
       "  <thead>\n",
       "    <tr style=\"text-align: right;\">\n",
       "      <th></th>\n",
       "      <th>close</th>\n",
       "      <th>period</th>\n",
       "      <th>close_pctchange</th>\n",
       "    </tr>\n",
       "    <tr>\n",
       "      <th>period</th>\n",
       "      <th></th>\n",
       "      <th></th>\n",
       "      <th></th>\n",
       "    </tr>\n",
       "  </thead>\n",
       "  <tbody>\n",
       "    <tr>\n",
       "      <th>2017-10</th>\n",
       "      <td>255.853023</td>\n",
       "      <td>2017-10</td>\n",
       "      <td>0.000000</td>\n",
       "    </tr>\n",
       "    <tr>\n",
       "      <th>2017-11</th>\n",
       "      <td>263.673379</td>\n",
       "      <td>2017-11</td>\n",
       "      <td>0.030566</td>\n",
       "    </tr>\n",
       "    <tr>\n",
       "      <th>2017-12</th>\n",
       "      <td>266.860000</td>\n",
       "      <td>2017-12</td>\n",
       "      <td>0.012085</td>\n",
       "    </tr>\n",
       "  </tbody>\n",
       "</table>\n",
       "</div>"
      ],
      "text/plain": [
       "              close  period  close_pctchange\n",
       "period                                      \n",
       "2017-10  255.853023 2017-10         0.000000\n",
       "2017-11  263.673379 2017-11         0.030566\n",
       "2017-12  266.860000 2017-12         0.012085"
      ]
     },
     "execution_count": 5,
     "metadata": {},
     "output_type": "execute_result"
    }
   ],
   "source": [
    "asset = yapo.portfolio_asset(name='quandl/SPY', \n",
    "                             start_period='2017-10', end_period='2017-12', currency='usd')\n",
    "asset.values"
   ]
  },
  {
   "cell_type": "code",
   "execution_count": 6,
   "metadata": {},
   "outputs": [
    {
     "data": {
      "text/plain": [
       "['accumulated_rate_of_return',\n",
       " 'assets',\n",
       " 'assets_weighted',\n",
       " 'compound_annual_growth_rate',\n",
       " 'period_max',\n",
       " 'period_min',\n",
       " 'rate_of_return',\n",
       " 'risk',\n",
       " 'weights']"
      ]
     },
     "execution_count": 6,
     "metadata": {},
     "output_type": "execute_result"
    }
   ],
   "source": [
    "port = yapo.portfolio(assets={'quandl/SPY': .5, 'nlu/449': .5},\n",
    "                      start_period='2017-10', end_period='2017-12', currency='USD')\n",
    "[m for m in dir(port) if m[:2] != '__']"
   ]
  },
  {
   "cell_type": "code",
   "execution_count": 7,
   "metadata": {},
   "outputs": [
    {
     "data": {
      "text/plain": [
       "{'adjusted_close': True,\n",
       " 'currency': <Currency.USD: 2>,\n",
       " 'exchange': 'NYSE Arca',\n",
       " 'identifier': <model.FinancialSymbolId.FinancialSymbolId object at 0x114180908>,\n",
       " 'isin': None,\n",
       " 'long_name': None,\n",
       " 'period': <Period.DAY: 1>,\n",
       " 'security_type': <SecurityType.STOCK_ETF: 1>,\n",
       " 'short_name': 'Vanguard Real Estate',\n",
       " 'values': <function FinancialSymbol.__init__.<locals>.<lambda> at 0x1142a77b8>}"
      ]
     },
     "execution_count": 7,
     "metadata": {},
     "output_type": "execute_result"
    }
   ],
   "source": [
    "yapo.information(name='quandl/VNQ')"
   ]
  },
  {
   "cell_type": "code",
   "execution_count": 8,
   "metadata": {},
   "outputs": [
    {
     "data": {
      "text/plain": [
       "['Сбербанк', 'Microsoft Corporation', 'Первый фонд фондов']"
      ]
     },
     "execution_count": 8,
     "metadata": {},
     "output_type": "execute_result"
    }
   ],
   "source": [
    "infos = yapo.information(names=['micex/SBER', 'quandl/MSFT', 'nlu/449'])\n",
    "[i.short_name for i in infos]"
   ]
  },
  {
   "cell_type": "markdown",
   "metadata": {},
   "source": [
    "Portfolio interactions\n",
    "---"
   ]
  },
  {
   "cell_type": "code",
   "execution_count": 9,
   "metadata": {
    "collapsed": true
   },
   "outputs": [],
   "source": [
    "portfolio = yapo.portfolio(assets={'quandl/MSFT': .2,\n",
    "                                   'micex/SBER': .2,\n",
    "                                   'nlu/449': .2,\n",
    "                                   'cbr/USD': .2, \n",
    "                                   'cbr/EUR': .2},\n",
    "                           start_period='2011-3', end_period='2015-5', currency='USD')"
   ]
  },
  {
   "cell_type": "code",
   "execution_count": 10,
   "metadata": {},
   "outputs": [
    {
     "name": "stdout",
     "output_type": "stream",
     "text": [
      "2011-11\n",
      "2015-05\n"
     ]
    }
   ],
   "source": [
    "print(portfolio.period_min)\n",
    "print(portfolio.period_max)"
   ]
  },
  {
   "cell_type": "code",
   "execution_count": 11,
   "metadata": {},
   "outputs": [
    {
     "name": "stdout",
     "output_type": "stream",
     "text": [
      "______________\n",
      "2011-11 ~ 2015-05\n",
      "[ 0.         -0.03969442  0.05341556  0.12830501  0.10634436]\n",
      "[-0.70450447 -0.39453992 -0.13945356 -0.13945356]\n",
      "risk:  0.179145347731 0.0514980419924\n",
      "______________\n",
      "Microsoft Corporation\n",
      "[Period('2011-11', 'M') Period('2011-12', 'M') Period('2012-01', 'M')\n",
      " Period('2012-02', 'M') Period('2012-03', 'M')]\n",
      "[ 21.68285536  22.00496189  25.03106798  27.08225189  27.52167721]\n",
      "[ 0.          0.01485536  0.13751926  0.08194552  0.01622558]\n",
      "2011-11 ~ 2015-05\n",
      "[ 0.          0.01485536  0.15441751  0.24901686  0.26928289]\n",
      "[ 0.17484626  0.19113859  0.22271487  0.22271487]\n",
      "risk:  0.270271129273 0.0628893293087\n",
      "______________\n",
      "Сбербанк\n",
      "[Period('2011-11', 'M') Period('2011-12', 'M') Period('2012-01', 'M')\n",
      " Period('2012-02', 'M') Period('2012-03', 'M')]\n",
      "[ 2.79519565  2.4661372   2.96956663  3.46075861  3.23442966]\n",
      "[ 0.         -0.11772287  0.20413683  0.16540864 -0.06539865]\n",
      "2011-11 ~ 2015-05\n",
      "[ 0.         -0.11772287  0.06238239  0.23810962  0.15713892]\n",
      "[-0.42962912 -0.33478063 -0.18135641 -0.18135641]\n",
      "risk:  0.471385245977 0.139416744635\n",
      "______________\n",
      "Первый фонд фондов\n",
      "[Period('2011-11', 'M') Period('2011-12', 'M') Period('2012-01', 'M')\n",
      " Period('2012-02', 'M') Period('2012-03', 'M')]\n",
      "[ 61.64531825  57.67592969  64.95107806  70.6009955   67.64854304]\n",
      "[ 0.         -0.06439075  0.12613838  0.08698728 -0.04181885]\n",
      "2011-11 ~ 2015-05\n",
      "[ 0.         -0.06439075  0.05362548  0.14527749  0.0973833 ]\n",
      "[-0.25454167 -0.16988675 -0.12561014 -0.12561014]\n",
      "risk:  0.228229613807 0.0714099321905\n",
      "______________\n",
      "Доллар США\n",
      "[Period('2011-11', 'M') Period('2011-12', 'M') Period('2012-01', 'M')\n",
      " Period('2012-02', 'M') Period('2012-03', 'M')]\n",
      "[ 1.  1.  1.  1.  1.]\n",
      "[ 0.  0.  0.  0.  0.]\n",
      "2011-11 ~ 2015-05\n",
      "[ 0.  0.  0.  0.  0.]\n",
      "[ 0.  0.  0.  0.]\n",
      "risk:  0.0 0.0\n",
      "______________\n",
      "Евро\n",
      "[Period('2011-11', 'M') Period('2011-12', 'M') Period('2012-01', 'M')\n",
      " Period('2012-02', 'M') Period('2012-03', 'M')]\n",
      "[ 1.33600135  1.29429962  1.31630149  1.34410006  1.3355985 ]\n",
      "[ 0.         -0.03121384  0.01699906  0.02111869 -0.00632509]\n",
      "2011-11 ~ 2015-05\n",
      "[ 0.         -0.03121384 -0.01474539  0.0060619  -0.00030154]\n",
      "[-0.19517993 -0.08101113 -0.05520188 -0.05520188]\n",
      "risk:  0.0712768588683 0.0215905666837\n"
     ]
    }
   ],
   "source": [
    "for idx, asset in enumerate([portfolio] + portfolio.assets):\n",
    "    print('______________')\n",
    "    if idx > 0:\n",
    "        print(asset.symbol.short_name)\n",
    "        print(asset.period()[:5])\n",
    "        print(asset.close()[:5])\n",
    "        print(asset.rate_of_return()[:5])\n",
    "    print(asset.period_min, '~', asset.period_max)\n",
    "    print(asset.accumulated_rate_of_return()[:5])\n",
    "    print(asset.compound_annual_growth_rate(years_ago=[1, 2, 10, 15]))\n",
    "    print('risk: ', asset.risk(period='year'), asset.risk(period='month'))"
   ]
  }
 ],
 "metadata": {
  "kernelspec": {
   "display_name": "Python 3",
   "language": "python",
   "name": "python3"
  },
  "language_info": {
   "codemirror_mode": {
    "name": "ipython",
    "version": 3
   },
   "file_extension": ".py",
   "mimetype": "text/x-python",
   "name": "python",
   "nbconvert_exporter": "python",
   "pygments_lexer": "ipython3",
   "version": "3.6.2"
  }
 },
 "nbformat": 4,
 "nbformat_minor": 2
}
