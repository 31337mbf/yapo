{
 "cells": [
  {
   "cell_type": "code",
   "execution_count": 1,
   "metadata": {},
   "outputs": [],
   "source": [
    "import yapo\n",
    "from IPython.display import display\n",
    "import itertools as it"
   ]
  },
  {
   "cell_type": "markdown",
   "metadata": {},
   "source": [
    "Get all existing symbols names\n",
    "---"
   ]
  },
  {
   "cell_type": "code",
   "execution_count": 2,
   "metadata": {},
   "outputs": [
    {
     "data": {
      "text/plain": [
       "['cbr', 'infl', 'micex', 'nlu', 'quandl']"
      ]
     },
     "execution_count": 2,
     "metadata": {},
     "output_type": "execute_result"
    }
   ],
   "source": [
    "yapo.available_names() # available namespaces"
   ]
  },
  {
   "cell_type": "code",
   "execution_count": 3,
   "metadata": {},
   "outputs": [
    {
     "data": {
      "text/plain": [
       "[{'fin_sym_id': micex/MCFTR, 'short_name': 'MICEX Total Return'},\n",
       " {'fin_sym_id': micex/ABRD, 'short_name': 'АбрауДюрсо'},\n",
       " {'fin_sym_id': micex/ACKO, 'short_name': 'АСКО ао'},\n",
       " {'fin_sym_id': micex/AFKS, 'short_name': 'Система ао'},\n",
       " {'fin_sym_id': micex/AFLT, 'short_name': 'Аэрофлот'}]"
      ]
     },
     "execution_count": 3,
     "metadata": {},
     "output_type": "execute_result"
    }
   ],
   "source": [
    "yapo.available_names(namespace='micex')[:5] # get symbols in the namespace"
   ]
  },
  {
   "cell_type": "code",
   "execution_count": 4,
   "metadata": {},
   "outputs": [
    {
     "data": {
      "text/plain": [
       "[{'fin_sym_id': infl/RUB, 'short_name': 'Инфляция РФ'},\n",
       " {'fin_sym_id': infl/EUR, 'short_name': 'Инфляция ЕС'},\n",
       " {'fin_sym_id': infl/USD, 'short_name': 'Инфляция США'},\n",
       " {'fin_sym_id': nlu/1002, 'short_name': 'ВТБ-Фонд Акций'},\n",
       " {'fin_sym_id': nlu/1003, 'short_name': 'ВТБ-Фонд Металлургии'},\n",
       " {'fin_sym_id': nlu/1004, 'short_name': 'ВТБ-Фонд Нефтегазового сектора'},\n",
       " {'fin_sym_id': nlu/1005,\n",
       "  'short_name': 'ВТБ – Фонд Еврооблигаций развивающихся рынков'}]"
      ]
     },
     "execution_count": 4,
     "metadata": {},
     "output_type": "execute_result"
    }
   ],
   "source": [
    "yapo.available_names(namespaces=['infl', 'nlu'])[:7] # get symbols in several namespaces"
   ]
  },
  {
   "cell_type": "markdown",
   "metadata": {},
   "source": [
    "Fetch financial symbols information\n",
    "---"
   ]
  },
  {
   "cell_type": "code",
   "execution_count": 5,
   "metadata": {},
   "outputs": [
    {
     "data": {
      "text/plain": [
       "TimeSeries(start_period=2017-10, end_period=2017-12, derivative=0, values=[252.54847688 260.26782757 263.41361486]"
      ]
     },
     "execution_count": 5,
     "metadata": {},
     "output_type": "execute_result"
    }
   ],
   "source": [
    "asset = yapo.portfolio_asset(name='quandl/SPY', \n",
    "                             start_period='2017-10', end_period='2017-12', currency='usd')\n",
    "asset.values"
   ]
  },
  {
   "cell_type": "code",
   "execution_count": 6,
   "metadata": {},
   "outputs": [
    {
     "data": {
      "text/plain": [
       "Portfolio(\n",
       "     assets: micex/FXRU,\n",
       "     currency: Currency.RUB,\n",
       "     start_period: 2017-01,\n",
       "     end_period: 2017-12\n",
       ")"
      ]
     },
     "execution_count": 6,
     "metadata": {},
     "output_type": "execute_result"
    }
   ],
   "source": [
    "yapo.portfolio(assets={'micex/FXRU': 1/3},\n",
    "               start_period='2017-1', end_period='2017-12',\n",
    "               currency='RUB')"
   ]
  },
  {
   "cell_type": "code",
   "execution_count": 7,
   "metadata": {},
   "outputs": [
    {
     "data": {
      "text/plain": [
       "['assets',\n",
       " 'assets_weighted',\n",
       " 'compound_annual_growth_rate',\n",
       " 'currency',\n",
       " 'inflation',\n",
       " 'period',\n",
       " 'period_max',\n",
       " 'period_min',\n",
       " 'rate_of_return',\n",
       " 'risk',\n",
       " 'weights']"
      ]
     },
     "execution_count": 7,
     "metadata": {},
     "output_type": "execute_result"
    }
   ],
   "source": [
    "port = yapo.portfolio(assets={'quandl/SPY': .5, 'nlu/449': .5},\n",
    "                      start_period='2017-10', end_period='2017-12', currency='USD')\n",
    "[m for m in dir(port) if m[:2] != '__']"
   ]
  },
  {
   "cell_type": "code",
   "execution_count": 8,
   "metadata": {},
   "outputs": [
    {
     "data": {
      "text/plain": [
       "{'_FinancialSymbol__values_fetcher': <model.FinancialSymbol.ValuesFetcher object at 0x115826780>,\n",
       " 'adjusted_close': True,\n",
       " 'currency': <Currency.USD: 2>,\n",
       " 'end_period': Timestamp('2018-10-12 00:00:00'),\n",
       " 'exchange': 'NYSE Arca',\n",
       " 'identifier': quandl/VNQ,\n",
       " 'isin': None,\n",
       " 'long_name': None,\n",
       " 'period': <Period.DAY: 1>,\n",
       " 'security_type': <SecurityType.STOCK_ETF: 1>,\n",
       " 'short_name': 'Vanguard Real Estate',\n",
       " 'start_period': Timestamp('2004-09-29 00:00:00')}"
      ]
     },
     "execution_count": 8,
     "metadata": {},
     "output_type": "execute_result"
    }
   ],
   "source": [
    "yapo.information(name='quandl/VNQ')"
   ]
  },
  {
   "cell_type": "code",
   "execution_count": 9,
   "metadata": {},
   "outputs": [
    {
     "data": {
      "text/plain": [
       "['Сбербанк', 'Microsoft Corporation', 'Первый фонд фондов']"
      ]
     },
     "execution_count": 9,
     "metadata": {},
     "output_type": "execute_result"
    }
   ],
   "source": [
    "infos = yapo.information(names=['micex/SBER', 'quandl/MSFT', 'nlu/449'])\n",
    "[i.short_name for i in infos]"
   ]
  },
  {
   "cell_type": "markdown",
   "metadata": {},
   "source": [
    "Portfolio and Asset Interactions\n",
    "---"
   ]
  },
  {
   "cell_type": "code",
   "execution_count": 10,
   "metadata": {},
   "outputs": [],
   "source": [
    "asset = yapo.portfolio_asset(name='micex/SBER',\n",
    "                             start_period='2011-3', end_period='2015-5', currency='USD')\n",
    "portfolio = yapo.portfolio(assets={'quandl/MSFT': .2,\n",
    "                                   'micex/SBER': .2,\n",
    "                                   'nlu/449': .2,\n",
    "                                   'cbr/USD': .2, \n",
    "                                   'cbr/EUR': .2},\n",
    "                           start_period='2011-3', end_period='2015-5', currency='USD')"
   ]
  },
  {
   "cell_type": "code",
   "execution_count": 11,
   "metadata": {},
   "outputs": [
    {
     "data": {
      "text/plain": [
       "[(PortfolioAsset(\n",
       "       symbol: quandl/MSFT,\n",
       "       currency: Currency.USD,\n",
       "       period_min: 2011-11,\n",
       "       period_max: 2015-05\n",
       "  ), 0.2), (PortfolioAsset(\n",
       "       symbol: micex/SBER,\n",
       "       currency: Currency.USD,\n",
       "       period_min: 2011-11,\n",
       "       period_max: 2015-05\n",
       "  ), 0.2), (PortfolioAsset(\n",
       "       symbol: nlu/449,\n",
       "       currency: Currency.USD,\n",
       "       period_min: 2011-11,\n",
       "       period_max: 2015-05\n",
       "  ), 0.2), (PortfolioAsset(\n",
       "       symbol: cbr/USD,\n",
       "       currency: Currency.USD,\n",
       "       period_min: 2011-11,\n",
       "       period_max: 2015-05\n",
       "  ), 0.2), (PortfolioAsset(\n",
       "       symbol: cbr/EUR,\n",
       "       currency: Currency.USD,\n",
       "       period_min: 2011-11,\n",
       "       period_max: 2015-05\n",
       "  ), 0.2)]"
      ]
     },
     "metadata": {},
     "output_type": "display_data"
    }
   ],
   "source": [
    "display(portfolio.assets_weighted())"
   ]
  },
  {
   "cell_type": "code",
   "execution_count": 12,
   "metadata": {},
   "outputs": [
    {
     "data": {
      "text/plain": [
       "PortfolioAsset(\n",
       "     symbol: micex/SBER,\n",
       "     currency: Currency.USD,\n",
       "     period_min: 2011-11,\n",
       "     period_max: 2015-05\n",
       ")"
      ]
     },
     "metadata": {},
     "output_type": "display_data"
    },
    {
     "data": {
      "text/plain": [
       "PortfolioAsset(\n",
       "     symbol: quandl/MSFT,\n",
       "     currency: Currency.USD,\n",
       "     period_min: 2011-11,\n",
       "     period_max: 2015-05\n",
       ")"
      ]
     },
     "metadata": {},
     "output_type": "display_data"
    },
    {
     "data": {
      "text/plain": [
       "Portfolio(\n",
       "     assets: quandl/MSFT, micex/SBER, nlu/449, cbr/USD, cbr/EUR,\n",
       "     currency: Currency.USD,\n",
       "     start_period: 2011-11,\n",
       "     end_period: 2015-05\n",
       ")"
      ]
     },
     "metadata": {},
     "output_type": "display_data"
    }
   ],
   "source": [
    "display(asset)\n",
    "display(portfolio.assets[0])\n",
    "display(portfolio)"
   ]
  },
  {
   "cell_type": "markdown",
   "metadata": {},
   "source": [
    "### Asset Properties: Names, Exchange, Currency, Security Type"
   ]
  },
  {
   "cell_type": "code",
   "execution_count": 13,
   "metadata": {},
   "outputs": [
    {
     "data": {
      "text/plain": [
       "micex/SBER"
      ]
     },
     "metadata": {},
     "output_type": "display_data"
    },
    {
     "data": {
      "text/plain": [
       "'Сбербанк'"
      ]
     },
     "metadata": {},
     "output_type": "display_data"
    },
    {
     "data": {
      "text/plain": [
       "'Сбербанк России ПАО ао'"
      ]
     },
     "metadata": {},
     "output_type": "display_data"
    },
    {
     "data": {
      "text/plain": [
       "'RU0009029540'"
      ]
     },
     "metadata": {},
     "output_type": "display_data"
    },
    {
     "data": {
      "text/plain": [
       "'MICEX'"
      ]
     },
     "metadata": {},
     "output_type": "display_data"
    },
    {
     "data": {
      "text/plain": [
       "<Currency.RUB: 1>"
      ]
     },
     "metadata": {},
     "output_type": "display_data"
    },
    {
     "data": {
      "text/plain": [
       "<SecurityType.STOCK_ETF: 1>"
      ]
     },
     "metadata": {},
     "output_type": "display_data"
    },
    {
     "data": {
      "text/plain": [
       "<Period.DAY: 1>"
      ]
     },
     "metadata": {},
     "output_type": "display_data"
    }
   ],
   "source": [
    "sber_symbol = portfolio.assets[1].symbol\n",
    "\n",
    "display(sber_symbol.identifier)\n",
    "display(sber_symbol.short_name)\n",
    "display(sber_symbol.long_name)\n",
    "display(sber_symbol.isin)\n",
    "display(sber_symbol.exchange)\n",
    "display(sber_symbol.currency)\n",
    "display(sber_symbol.security_type)\n",
    "display(sber_symbol.period)"
   ]
  },
  {
   "cell_type": "markdown",
   "metadata": {},
   "source": [
    "### Period Bounds"
   ]
  },
  {
   "cell_type": "code",
   "execution_count": 14,
   "metadata": {},
   "outputs": [
    {
     "data": {
      "text/plain": [
       "Period('2011-11', 'M')"
      ]
     },
     "metadata": {},
     "output_type": "display_data"
    },
    {
     "data": {
      "text/plain": [
       "Period('2015-05', 'M')"
      ]
     },
     "metadata": {},
     "output_type": "display_data"
    },
    {
     "data": {
      "text/plain": [
       "PeriodIndex(['2011-11', '2011-12', '2012-01', '2012-02', '2012-03', '2012-04',\n",
       "             '2012-05', '2012-06', '2012-07', '2012-08', '2012-09', '2012-10',\n",
       "             '2012-11', '2012-12', '2013-01', '2013-02', '2013-03', '2013-04',\n",
       "             '2013-05', '2013-06', '2013-07', '2013-08', '2013-09', '2013-10',\n",
       "             '2013-11', '2013-12', '2014-01', '2014-02', '2014-03', '2014-04',\n",
       "             '2014-05', '2014-06', '2014-07', '2014-08', '2014-09', '2014-10',\n",
       "             '2014-11', '2014-12', '2015-01', '2015-02', '2015-03', '2015-04',\n",
       "             '2015-05'],\n",
       "            dtype='period[M]', freq='M')"
      ]
     },
     "metadata": {},
     "output_type": "display_data"
    }
   ],
   "source": [
    "display(portfolio.period_min)\n",
    "display(portfolio.period_max)\n",
    "display(portfolio.period())"
   ]
  },
  {
   "cell_type": "markdown",
   "metadata": {},
   "source": [
    "### Inflation"
   ]
  },
  {
   "cell_type": "code",
   "execution_count": 15,
   "metadata": {},
   "outputs": [
    {
     "data": {
      "text/plain": [
       "TimeValue(start_period=2011-12, end_period=2015-05, derivative=1, values=0.0011949761904761903"
      ]
     },
     "metadata": {},
     "output_type": "display_data"
    },
    {
     "data": {
      "text/plain": [
       "TimeValue(start_period=2011-12, end_period=2015-05, derivative=1, values=0.014359403481540856"
      ]
     },
     "metadata": {},
     "output_type": "display_data"
    },
    {
     "data": {
      "text/plain": [
       "TimeValue(start_period=2011-12, end_period=2015-05, derivative=1, values=0.05116649259491268"
      ]
     },
     "metadata": {},
     "output_type": "display_data"
    },
    {
     "data": {
      "text/plain": [
       "TimeValue(start_period=2014-06, end_period=2015-05, derivative=1, values=-0.00039849652052259543"
      ]
     },
     "metadata": {},
     "output_type": "display_data"
    },
    {
     "data": {
      "text/plain": [
       "TimeSeries(start_period=2011-12, end_period=2015-05, derivative=1, values=[-2.467e-03  4.400e-03  4.403e-03  7.595e-03  3.021e-03 -1.173e-03\n",
       " -1.466e-03 -1.630e-03  5.565e-03  4.462e-03 -3.890e-04 -4.738e-03\n",
       " -2.693e-03  2.957e-03  8.190e-03  2.615e-03 -1.040e-03  1.780e-03\n",
       "  2.400e-03  3.940e-04  1.203e-03  1.163e-03 -2.575e-03 -2.042e-03\n",
       " -8.600e-05  3.720e-03  3.698e-03  6.440e-03  3.297e-03  3.493e-03\n",
       "  1.862e-03 -3.900e-04 -1.671e-03  7.530e-04 -2.512e-03 -5.399e-03\n",
       " -5.670e-03 -4.706e-03  4.343e-03  5.952e-03  2.033e-03  5.097e-03]"
      ]
     },
     "metadata": {},
     "output_type": "display_data"
    },
    {
     "data": {
      "text/plain": [
       "TimeSeries(start_period=2014-06, end_period=2015-05, derivative=1, values=[ 0.001862 -0.00039  -0.001671  0.000753 -0.002512 -0.005399 -0.00567\n",
       " -0.004706  0.004343  0.005952  0.002033  0.005097]"
      ]
     },
     "metadata": {},
     "output_type": "display_data"
    }
   ],
   "source": [
    "display(asset.inflation(kind='a_mean'))\n",
    "display(asset.inflation(kind='g_mean'))\n",
    "display(asset.inflation(kind='accumulated'))\n",
    "display(asset.inflation(kind='accumulated', years_ago=1))\n",
    "display(asset.inflation(kind='values'))\n",
    "display(asset.inflation(kind='values', years_ago=1))"
   ]
  },
  {
   "cell_type": "code",
   "execution_count": 16,
   "metadata": {},
   "outputs": [
    {
     "data": {
      "text/plain": [
       "TimeValue(start_period=2011-12, end_period=2015-05, derivative=1, values=0.0011949761904761903"
      ]
     },
     "metadata": {},
     "output_type": "display_data"
    },
    {
     "data": {
      "text/plain": [
       "TimeValue(start_period=2011-12, end_period=2015-05, derivative=1, values=0.014359403481540856"
      ]
     },
     "metadata": {},
     "output_type": "display_data"
    },
    {
     "data": {
      "text/plain": [
       "TimeValue(start_period=2011-12, end_period=2015-05, derivative=1, values=0.05116649259491268"
      ]
     },
     "metadata": {},
     "output_type": "display_data"
    },
    {
     "data": {
      "text/plain": [
       "TimeValue(start_period=2014-06, end_period=2015-05, derivative=1, values=-0.00039849652052259543"
      ]
     },
     "metadata": {},
     "output_type": "display_data"
    },
    {
     "data": {
      "text/plain": [
       "TimeSeries(start_period=2011-12, end_period=2015-05, derivative=1, values=[-2.467e-03  4.400e-03  4.403e-03  7.595e-03  3.021e-03 -1.173e-03\n",
       " -1.466e-03 -1.630e-03  5.565e-03  4.462e-03 -3.890e-04 -4.738e-03\n",
       " -2.693e-03  2.957e-03  8.190e-03  2.615e-03 -1.040e-03  1.780e-03\n",
       "  2.400e-03  3.940e-04  1.203e-03  1.163e-03 -2.575e-03 -2.042e-03\n",
       " -8.600e-05  3.720e-03  3.698e-03  6.440e-03  3.297e-03  3.493e-03\n",
       "  1.862e-03 -3.900e-04 -1.671e-03  7.530e-04 -2.512e-03 -5.399e-03\n",
       " -5.670e-03 -4.706e-03  4.343e-03  5.952e-03  2.033e-03  5.097e-03]"
      ]
     },
     "metadata": {},
     "output_type": "display_data"
    },
    {
     "data": {
      "text/plain": [
       "TimeSeries(start_period=2014-06, end_period=2015-05, derivative=1, values=[ 0.001862 -0.00039  -0.001671  0.000753 -0.002512 -0.005399 -0.00567\n",
       " -0.004706  0.004343  0.005952  0.002033  0.005097]"
      ]
     },
     "metadata": {},
     "output_type": "display_data"
    }
   ],
   "source": [
    "display(portfolio.inflation(kind='a_mean'))\n",
    "display(portfolio.inflation(kind='g_mean'))\n",
    "display(portfolio.inflation(kind='accumulated'))\n",
    "display(portfolio.inflation(kind='accumulated', years_ago=1))\n",
    "display(portfolio.inflation(kind='values'))\n",
    "display(portfolio.inflation(kind='values', years_ago=1))"
   ]
  },
  {
   "cell_type": "markdown",
   "metadata": {},
   "source": [
    "### Rate of Return"
   ]
  },
  {
   "cell_type": "code",
   "execution_count": 17,
   "metadata": {},
   "outputs": [
    {
     "data": {
      "text/plain": [
       "TimeSeries(start_period=2011-11, end_period=2015-05, derivative=0, values=[2.79519565 2.46458422 2.97450658 3.45799525 3.22692835 3.20236218\n",
       " 2.51949869 2.63248509 2.78612282 2.88727728 2.94596159 2.91259056\n",
       " 2.9430232  3.0593263  3.64263663 3.41147347 3.17951061 3.16804187\n",
       " 3.12542538 2.85854046 2.89509609 2.65163592 3.02055025 3.20635782\n",
       " 3.11132937 3.08745707 2.68975849 2.52703876 2.34818744 2.03090903\n",
       " 2.43269076 2.5125927  2.06006085 1.98231325 1.91740338 1.75668233\n",
       " 1.46486355 0.97585427 0.89222114 1.23890599 1.07552814 1.48734404\n",
       " 1.38753596]"
      ]
     },
     "metadata": {},
     "output_type": "display_data"
    }
   ],
   "source": [
    "display(asset.close())"
   ]
  },
  {
   "cell_type": "code",
   "execution_count": 18,
   "metadata": {},
   "outputs": [
    {
     "data": {
      "text/plain": [
       "TimeSeries(start_period=2011-12, end_period=2015-05, derivative=1, values=[-0.11827846  0.20689995  0.16254416 -0.06682106 -0.00761286 -0.21323743\n",
       "  0.0448448   0.05836224  0.03630653  0.02032514 -0.01132772  0.01044865\n",
       "  0.03951824  0.19066627 -0.0634604  -0.06799492 -0.00360708 -0.013452\n",
       " -0.08539155  0.01278821 -0.08409399  0.13912707  0.06151448 -0.02963751\n",
       " -0.0076727  -0.12881105 -0.06049604 -0.07077506 -0.1351163   0.19783344\n",
       "  0.03284509 -0.18010553 -0.03774044 -0.03274451 -0.08382224 -0.16611927\n",
       " -0.33382582 -0.08570248  0.38856382 -0.13187267  0.38289644 -0.0671049 ]"
      ]
     },
     "metadata": {},
     "output_type": "display_data"
    },
    {
     "data": {
      "text/plain": [
       "TimeSeries(start_period=2011-12, end_period=2015-05, derivative=1, values=[-0.11609787  0.20458457  0.1552274  -0.07968405 -0.02423976 -0.22551072\n",
       "  0.03005555  0.04508515  0.01764295 -0.00250146 -0.03307005 -0.00706807\n",
       "  0.02425591  0.16972588 -0.08740557 -0.09419285 -0.03060672 -0.04189031\n",
       " -0.11388281 -0.01914793 -0.11404096  0.10060153  0.02826159 -0.05811164\n",
       " -0.03670852 -0.15743666 -0.0947141  -0.1103481  -0.17467034  0.1390737\n",
       " -0.01964656 -0.2214709  -0.08475905 -0.08069946 -0.127052   -0.20115288\n",
       " -0.35817447 -0.11495501  0.33832502 -0.16823255  0.32228821 -0.11251442]"
      ]
     },
     "metadata": {},
     "output_type": "display_data"
    },
    {
     "data": {
      "text/plain": [
       "TimeSeries(start_period=2011-12, end_period=2015-05, derivative=1, values=[-0.11609787  0.20458457  0.1552274  -0.07968405 -0.02423976 -0.22551072\n",
       "  0.03005555  0.04508515  0.01764295 -0.00250146 -0.03307005 -0.00706807\n",
       "  0.02425591  0.16972588 -0.08740557 -0.09419285 -0.03060672 -0.04189031\n",
       " -0.11388281 -0.01914793 -0.11404096  0.10060153  0.02826159 -0.05811164\n",
       " -0.03670852 -0.15743666 -0.0947141  -0.1103481  -0.17467034  0.1390737\n",
       " -0.01964656 -0.2214709  -0.08475905 -0.08069946 -0.127052   -0.20115288\n",
       " -0.35817447 -0.11495501  0.33832502 -0.16823255  0.32228821 -0.11251442]"
      ]
     },
     "metadata": {},
     "output_type": "display_data"
    },
    {
     "data": {
      "text/plain": [
       "TimeSeries(start_period=2011-12, end_period=2015-05, derivative=1, values=[-0.11827846  0.20689995  0.16254416 -0.06682106 -0.00761286 -0.21323743\n",
       "  0.0448448   0.05836224  0.03630653  0.02032514 -0.01132772  0.01044865\n",
       "  0.03951824  0.19066627 -0.0634604  -0.06799492 -0.00360708 -0.013452\n",
       " -0.08539155  0.01278821 -0.08409399  0.13912707  0.06151448 -0.02963751\n",
       " -0.0076727  -0.12881105 -0.06049604 -0.07077506 -0.1351163   0.19783344\n",
       "  0.03284509 -0.18010553 -0.03774044 -0.03274451 -0.08382224 -0.16611927\n",
       " -0.33382582 -0.08570248  0.38856382 -0.13187267  0.38289644 -0.0671049 ]"
      ]
     },
     "metadata": {},
     "output_type": "display_data"
    },
    {
     "data": {
      "text/plain": [
       "TimeSeries(start_period=2011-12, end_period=2015-05, derivative=1, values=[-0.11609787  0.06210816  0.22933488  0.13854219  0.12647156 -0.11269354\n",
       " -0.07154134 -0.01575008  0.01433982  0.03035895  0.01908376  0.0346339\n",
       "  0.07842501  0.28025856  0.1892727   0.10551727  0.10267637  0.08591025\n",
       " -0.00919524  0.00308017 -0.08237674  0.04407524  0.11116222  0.0804364\n",
       "  0.07223874 -0.06933951 -0.12886225 -0.19569679 -0.30665722 -0.1723817\n",
       " -0.14678719 -0.30018261 -0.32546688 -0.34804505 -0.40118917 -0.49795263\n",
       " -0.66364185 -0.6910145  -0.5728092  -0.63133827 -0.49121337 -0.52776244]"
      ]
     },
     "metadata": {},
     "output_type": "display_data"
    },
    {
     "data": {
      "text/plain": [
       "TimeSeries(start_period=2011-12, end_period=2015-05, derivative=1, values=[-0.11827846  0.06414969  0.23712101  0.15445527  0.14566656 -0.09863244\n",
       " -0.05821079 -0.00324586  0.03294282  0.05393753  0.04199882  0.0528863\n",
       "  0.09449451  0.3031777   0.22047753  0.13749126  0.13338824  0.1181419\n",
       "  0.02266203  0.03574005 -0.05135946  0.08062212  0.14709603  0.11309896\n",
       "  0.10455849 -0.03772085 -0.09593493 -0.15992019 -0.27342866 -0.12968856\n",
       " -0.1011031  -0.26299941 -0.29081413 -0.31403607 -0.37153511 -0.47593524\n",
       " -0.65088159 -0.6808019  -0.55677307 -0.61522259 -0.46789269 -0.5035997 ]"
      ]
     },
     "metadata": {},
     "output_type": "display_data"
    },
    {
     "data": {
      "text/plain": [
       "TimeSeries(start_period=2015-01, end_period=2015-05, derivative=1, values=[-0.08137946  0.27605254  0.10164402  0.51195273  0.39274087]"
      ]
     },
     "metadata": {},
     "output_type": "display_data"
    },
    {
     "data": {
      "text/plain": [
       "TimeSeries(start_period=2015-01, end_period=2015-05, derivative=1, values=[-0.08570248  0.26956045  0.10214012  0.52414564  0.421868  ]"
      ]
     },
     "metadata": {},
     "output_type": "display_data"
    }
   ],
   "source": [
    "display(asset.rate_of_return())\n",
    "display(asset.rate_of_return(real=True))\n",
    "\n",
    "for kind, real in it.product(['values', 'accumulated', 'ytd'],\n",
    "                             [True, False]):\n",
    "    display(asset.rate_of_return(kind=kind, real=real))"
   ]
  },
  {
   "cell_type": "code",
   "execution_count": 19,
   "metadata": {},
   "outputs": [
    {
     "data": {
      "text/plain": [
       "TimeSeries(start_period=2011-12, end_period=2015-05, derivative=1, values=[-0.03980554  0.09751133  0.07051913 -0.01974788 -0.01046064 -0.10213563\n",
       "  0.02219445  0.00741128  0.02416044  0.0128821  -0.01730976 -0.00973927\n",
       "  0.02252256  0.05504962 -0.02298342 -0.02083988  0.02902964  0.00316752\n",
       " -0.02688749 -0.00589592 -0.00789828  0.04394037  0.03344539 -0.00047432\n",
       "  0.00156551 -0.04278782 -0.01316172 -0.00674801 -0.03387616  0.058087\n",
       "  0.02033419 -0.04890946 -0.00350053 -0.02284654 -0.02852365 -0.0475667\n",
       " -0.11228914 -0.06711575  0.12996419 -0.05465876  0.15050455 -0.02808975]"
      ]
     },
     "metadata": {},
     "output_type": "display_data"
    },
    {
     "data": {
      "text/plain": [
       "TimeSeries(start_period=2011-12, end_period=2015-05, derivative=1, values=[-0.03743088  0.0954058   0.06378155 -0.03325973 -0.02703982 -0.11614208\n",
       "  0.00772581 -0.00522663  0.0057156  -0.00977799 -0.03892053 -0.02690602\n",
       "  0.00750976  0.03649435 -0.0479635  -0.0483633   0.00114562 -0.02574987\n",
       " -0.05720123 -0.0372429  -0.04033659  0.00863407  0.00107179 -0.02980421\n",
       " -0.02774063 -0.07423999 -0.04910376 -0.04904778 -0.07806025  0.00618252\n",
       " -0.03152162 -0.09689394 -0.0521922  -0.07129222 -0.07436267 -0.08758103\n",
       " -0.14473494 -0.09696295  0.08908162 -0.0942526   0.10008137 -0.07539837]"
      ]
     },
     "metadata": {},
     "output_type": "display_data"
    },
    {
     "data": {
      "text/plain": [
       "TimeSeries(start_period=2011-12, end_period=2015-05, derivative=1, values=[-0.03743088  0.0954058   0.06378155 -0.03325973 -0.02703982 -0.11614208\n",
       "  0.00772581 -0.00522663  0.0057156  -0.00977799 -0.03892053 -0.02690602\n",
       "  0.00750976  0.03649435 -0.0479635  -0.0483633   0.00114562 -0.02574987\n",
       " -0.05720123 -0.0372429  -0.04033659  0.00863407  0.00107179 -0.02980421\n",
       " -0.02774063 -0.07423999 -0.04910376 -0.04904778 -0.07806025  0.00618252\n",
       " -0.03152162 -0.09689394 -0.0521922  -0.07129222 -0.07436267 -0.08758103\n",
       " -0.14473494 -0.09696295  0.08908162 -0.0942526   0.10008137 -0.07539837]"
      ]
     },
     "metadata": {},
     "output_type": "display_data"
    },
    {
     "data": {
      "text/plain": [
       "TimeSeries(start_period=2011-12, end_period=2015-05, derivative=1, values=[-0.03980554  0.09751133  0.07051913 -0.01974788 -0.01046064 -0.10213563\n",
       "  0.02219445  0.00741128  0.02416044  0.0128821  -0.01730976 -0.00973927\n",
       "  0.02252256  0.05504962 -0.02298342 -0.02083988  0.02902964  0.00316752\n",
       " -0.02688749 -0.00589592 -0.00789828  0.04394037  0.03344539 -0.00047432\n",
       "  0.00156551 -0.04278782 -0.01316172 -0.00674801 -0.03387616  0.058087\n",
       "  0.02033419 -0.04890946 -0.00350053 -0.02284654 -0.02852365 -0.0475667\n",
       " -0.11228914 -0.06711575  0.12996419 -0.05465876  0.15050455 -0.02808975]"
      ]
     },
     "metadata": {},
     "output_type": "display_data"
    },
    {
     "data": {
      "text/plain": [
       "TimeSeries(start_period=2011-12, end_period=2015-05, derivative=1, values=[-0.03743088  0.05180258  0.12103885  0.09061747  0.07595844 -0.03280073\n",
       " -0.00988276 -0.00091621  0.01755937  0.02608926  0.0087203   0.0036514\n",
       "  0.02902736  0.08247406  0.04900376  0.02446367  0.055301    0.05676265\n",
       "  0.02588683  0.01943662  0.01016959  0.05333179  0.09137116  0.09308559\n",
       "  0.09489098  0.04415871  0.02661935  0.01316692 -0.02437193  0.02870611\n",
       "  0.04767325 -0.00317913 -0.0050059  -0.02846963 -0.05380438 -0.09391986\n",
       " -0.19107622 -0.24179965 -0.14696549 -0.19836265 -0.07958378 -0.1099745 ]"
      ]
     },
     "metadata": {},
     "output_type": "display_data"
    },
    {
     "data": {
      "text/plain": [
       "TimeSeries(start_period=2011-12, end_period=2015-05, derivative=1, values=[-0.03980554  0.0538243   0.12813907  0.10586071  0.0942927  -0.01747357\n",
       "  0.00433306  0.01177646  0.03622142  0.04957013  0.03140233  0.02135722\n",
       "  0.04436079  0.10185246  0.07652813  0.05409341  0.08469336  0.08812915\n",
       "  0.05887209  0.05262906  0.0443151   0.0902027   0.12666495  0.12613055\n",
       "  0.12789351  0.07963341  0.06542357  0.05823409  0.02238519  0.08177247\n",
       "  0.10376944  0.04978467  0.04610986  0.02220988 -0.00694728 -0.05418352\n",
       " -0.16038844 -0.2167396  -0.1149438  -0.16331987 -0.03739571 -0.06443502]"
      ]
     },
     "metadata": {},
     "output_type": "display_data"
    },
    {
     "data": {
      "text/plain": [
       "TimeSeries(start_period=2015-01, end_period=2015-05, derivative=1, values=[-0.06270484  0.05951622 -0.00393997  0.13731594  0.09145689]"
      ]
     },
     "metadata": {},
     "output_type": "display_data"
    },
    {
     "data": {
      "text/plain": [
       "TimeSeries(start_period=2015-01, end_period=2015-05, derivative=1, values=[-0.06711575  0.05412579 -0.00349142  0.14648766  0.11428311]"
      ]
     },
     "metadata": {},
     "output_type": "display_data"
    }
   ],
   "source": [
    "display(portfolio.rate_of_return())\n",
    "display(portfolio.rate_of_return(real=True))\n",
    "\n",
    "for kind, real in it.product(['values', 'accumulated', 'ytd'],\n",
    "                             [True, False]):\n",
    "    display(portfolio.rate_of_return(kind=kind, real=real))"
   ]
  },
  {
   "cell_type": "markdown",
   "metadata": {},
   "source": [
    "### Risk"
   ]
  },
  {
   "cell_type": "code",
   "execution_count": 20,
   "metadata": {},
   "outputs": [
    {
     "data": {
      "text/plain": [
       "TimeValue(start_period=2011-12, end_period=2015-05, derivative=1, values=0.4710063731181247"
      ]
     },
     "metadata": {},
     "output_type": "display_data"
    },
    {
     "data": {
      "text/plain": [
       "TimeValue(start_period=2011-12, end_period=2015-05, derivative=1, values=0.4710063731181247"
      ]
     },
     "metadata": {},
     "output_type": "display_data"
    },
    {
     "data": {
      "text/plain": [
       "TimeValue(start_period=2011-12, end_period=2015-05, derivative=1, values=0.139331738236913"
      ]
     },
     "metadata": {},
     "output_type": "display_data"
    }
   ],
   "source": [
    "display(asset.risk())\n",
    "display(asset.risk(period='year'))\n",
    "display(asset.risk(period='month'))"
   ]
  },
  {
   "cell_type": "code",
   "execution_count": 21,
   "metadata": {},
   "outputs": [
    {
     "data": {
      "text/plain": [
       "TimeValue(start_period=2011-12, end_period=2015-05, derivative=1, values=0.17909504439282048"
      ]
     },
     "metadata": {},
     "output_type": "display_data"
    },
    {
     "data": {
      "text/plain": [
       "TimeValue(start_period=2011-12, end_period=2015-05, derivative=1, values=0.17909504439282048"
      ]
     },
     "metadata": {},
     "output_type": "display_data"
    },
    {
     "data": {
      "text/plain": [
       "TimeValue(start_period=2011-12, end_period=2015-05, derivative=1, values=0.05148507713317615"
      ]
     },
     "metadata": {},
     "output_type": "display_data"
    }
   ],
   "source": [
    "display(portfolio.risk())\n",
    "display(portfolio.risk(period='year'))\n",
    "display(portfolio.risk(period='month'))"
   ]
  },
  {
   "cell_type": "markdown",
   "metadata": {},
   "source": [
    "### Compound Annual Growth Rate"
   ]
  },
  {
   "cell_type": "code",
   "execution_count": 22,
   "metadata": {},
   "outputs": [
    {
     "data": {
      "text/plain": [
       "TimeValue(start_period=2011-12, end_period=2015-05, derivative=1, values=-0.18135640623065508"
      ]
     },
     "metadata": {},
     "output_type": "display_data"
    },
    {
     "data": {
      "text/plain": [
       "TimeValue(start_period=2014-06, end_period=2015-05, derivative=1, values=-0.42962912224351035"
      ]
     },
     "metadata": {},
     "output_type": "display_data"
    },
    {
     "data": {
      "text/plain": [
       "array([TimeValue(start_period=2011-12, end_period=2015-05, derivative=1, values=-0.18135640623065508,\n",
       "       TimeValue(start_period=2014-06, end_period=2015-05, derivative=1, values=-0.42962912224351035,\n",
       "       TimeValue(start_period=2013-06, end_period=2015-05, derivative=1, values=-0.3337034620181587,\n",
       "       TimeValue(start_period=2014-06, end_period=2015-05, derivative=1, values=-0.42962912224351035],\n",
       "      dtype=object)"
      ]
     },
     "metadata": {},
     "output_type": "display_data"
    }
   ],
   "source": [
    "display(asset.compound_annual_growth_rate())\n",
    "display(asset.compound_annual_growth_rate(years_ago=1))\n",
    "display(asset.compound_annual_growth_rate(years_ago=[None, 1, 2, 1]))"
   ]
  },
  {
   "cell_type": "code",
   "execution_count": 23,
   "metadata": {},
   "outputs": [
    {
     "data": {
      "text/plain": [
       "TimeValue(start_period=2011-12, end_period=2015-05, derivative=1, values=-0.19294523128631647"
      ]
     },
     "metadata": {},
     "output_type": "display_data"
    },
    {
     "data": {
      "text/plain": [
       "TimeValue(start_period=2014-06, end_period=2015-05, derivative=1, values=-0.42940174082261195"
      ]
     },
     "metadata": {},
     "output_type": "display_data"
    },
    {
     "data": {
      "text/plain": [
       "array([TimeValue(start_period=2011-12, end_period=2015-05, derivative=1, values=-0.19294523128631647,\n",
       "       TimeValue(start_period=2014-06, end_period=2015-05, derivative=1, values=-0.42940174082261195,\n",
       "       TimeValue(start_period=2013-06, end_period=2015-05, derivative=1, values=-0.3405478371392332,\n",
       "       TimeValue(start_period=2014-06, end_period=2015-05, derivative=1, values=-0.42940174082261195],\n",
       "      dtype=object)"
      ]
     },
     "metadata": {},
     "output_type": "display_data"
    }
   ],
   "source": [
    "display(asset.compound_annual_growth_rate(real=True))\n",
    "display(asset.compound_annual_growth_rate(years_ago=1, real=True))\n",
    "display(asset.compound_annual_growth_rate(years_ago=[None, 1, 2, 1], real=True))"
   ]
  },
  {
   "cell_type": "code",
   "execution_count": null,
   "metadata": {},
   "outputs": [],
   "source": []
  }
 ],
 "metadata": {
  "kernelspec": {
   "display_name": "Python 3",
   "language": "python",
   "name": "python3"
  },
  "language_info": {
   "codemirror_mode": {
    "name": "ipython",
    "version": 3
   },
   "file_extension": ".py",
   "mimetype": "text/x-python",
   "name": "python",
   "nbconvert_exporter": "python",
   "pygments_lexer": "ipython3",
   "version": "3.6.5"
  },
  "varInspector": {
   "cols": {
    "lenName": 16,
    "lenType": 16,
    "lenVar": 40
   },
   "kernels_config": {
    "python": {
     "delete_cmd_postfix": "",
     "delete_cmd_prefix": "del ",
     "library": "var_list.py",
     "varRefreshCmd": "print(var_dic_list())"
    },
    "r": {
     "delete_cmd_postfix": ") ",
     "delete_cmd_prefix": "rm(",
     "library": "var_list.r",
     "varRefreshCmd": "cat(var_dic_list()) "
    }
   },
   "types_to_exclude": [
    "module",
    "function",
    "builtin_function_or_method",
    "instance",
    "_Feature"
   ],
   "window_display": false
  }
 },
 "nbformat": 4,
 "nbformat_minor": 2
}
