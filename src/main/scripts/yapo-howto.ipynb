{
 "cells": [
  {
   "cell_type": "code",
   "execution_count": 1,
   "metadata": {},
   "outputs": [],
   "source": [
    "import yapo\n",
    "from IPython.display import display\n",
    "import itertools as it"
   ]
  },
  {
   "cell_type": "markdown",
   "metadata": {},
   "source": [
    "Get all existing symbols names\n",
    "---"
   ]
  },
  {
   "cell_type": "code",
   "execution_count": 2,
   "metadata": {},
   "outputs": [
    {
     "data": {
      "text/plain": [
       "['cbr', 'index', 'infl', 'micex', 'mut_ru', 'ny']"
      ]
     },
     "execution_count": 2,
     "metadata": {},
     "output_type": "execute_result"
    }
   ],
   "source": [
    "yapo.available_names() # available namespaces"
   ]
  },
  {
   "cell_type": "code",
   "execution_count": 3,
   "metadata": {},
   "outputs": [
    {
     "data": {
      "text/plain": [
       "[{'fin_sym_id': micex/MCFTR, 'short_name': 'MICEX Total Return'},\n",
       " {'fin_sym_id': micex/ABRD, 'short_name': 'АбрауДюрсо'},\n",
       " {'fin_sym_id': micex/ACKO, 'short_name': 'АСКО ао'},\n",
       " {'fin_sym_id': micex/AFKS, 'short_name': 'Система ао'},\n",
       " {'fin_sym_id': micex/AFLT, 'short_name': 'Аэрофлот'}]"
      ]
     },
     "execution_count": 3,
     "metadata": {},
     "output_type": "execute_result"
    }
   ],
   "source": [
    "yapo.available_names(namespace='micex')[:5] # get symbols in the namespace"
   ]
  },
  {
   "cell_type": "code",
   "execution_count": 4,
   "metadata": {},
   "outputs": [
    {
     "data": {
      "text/plain": [
       "[{'fin_sym_id': index/OKID10, 'short_name': 'OKID10'}]"
      ]
     },
     "execution_count": 4,
     "metadata": {},
     "output_type": "execute_result"
    }
   ],
   "source": [
    "yapo.available_names(namespace='index')[:5] # get symbols in the namespace"
   ]
  },
  {
   "cell_type": "code",
   "execution_count": 5,
   "metadata": {},
   "outputs": [
    {
     "data": {
      "text/plain": [
       "[{'fin_sym_id': infl/RUB, 'short_name': 'Инфляция РФ'},\n",
       " {'fin_sym_id': infl/EUR, 'short_name': 'Инфляция ЕС'},\n",
       " {'fin_sym_id': infl/USD, 'short_name': 'Инфляция США'},\n",
       " {'fin_sym_id': mut_ru/0007-45141428,\n",
       "  'short_name': 'Сбербанк – Фонд облигаций Илья Муромец'},\n",
       " {'fin_sym_id': mut_ru/0009-46349328, 'short_name': 'Атон - Петр Столыпин'},\n",
       " {'fin_sym_id': mut_ru/0011-46360962,\n",
       "  'short_name': 'Сбербанк – Фонд акций Добрыня Никитич'},\n",
       " {'fin_sym_id': mut_ru/0012-46539678, 'short_name': 'ВТБ — БРИК'}]"
      ]
     },
     "execution_count": 5,
     "metadata": {},
     "output_type": "execute_result"
    }
   ],
   "source": [
    "yapo.available_names(namespaces=['infl', 'mut_ru'])[:7] # get symbols in several namespaces"
   ]
  },
  {
   "cell_type": "markdown",
   "metadata": {},
   "source": [
    "Fetch financial symbols information\n",
    "---"
   ]
  },
  {
   "cell_type": "code",
   "execution_count": 6,
   "metadata": {},
   "outputs": [
    {
     "data": {
      "text/plain": [
       "TimeSeries(start_period=2017-10, end_period=2017-12, kind=TimeSeriesKind.VALUES, values=[251.05134724 258.72493694 261.85207573]"
      ]
     },
     "execution_count": 6,
     "metadata": {},
     "output_type": "execute_result"
    }
   ],
   "source": [
    "asset = yapo.portfolio_asset(name='ny/SPY', \n",
    "                             start_period='2017-10', end_period='2017-12', currency='usd')\n",
    "asset.values"
   ]
  },
  {
   "cell_type": "code",
   "execution_count": 7,
   "metadata": {},
   "outputs": [
    {
     "data": {
      "text/plain": [
       "Portfolio(\n",
       "     assets: micex/FXRU,\n",
       "     currency: Currency.RUB,\n",
       "     start_period: 2017-01,\n",
       "     end_period: 2017-12\n",
       ")"
      ]
     },
     "execution_count": 7,
     "metadata": {},
     "output_type": "execute_result"
    }
   ],
   "source": [
    "yapo.portfolio(assets={'micex/FXRU': 1/3},\n",
    "               start_period='2017-1', end_period='2017-12',\n",
    "               currency='RUB')"
   ]
  },
  {
   "cell_type": "code",
   "execution_count": 8,
   "metadata": {},
   "outputs": [
    {
     "data": {
      "text/plain": [
       "['assets',\n",
       " 'assets_weighted',\n",
       " 'compound_annual_growth_rate',\n",
       " 'currency',\n",
       " 'inflation',\n",
       " 'period',\n",
       " 'period_max',\n",
       " 'period_min',\n",
       " 'rate_of_return',\n",
       " 'risk',\n",
       " 'weights']"
      ]
     },
     "execution_count": 8,
     "metadata": {},
     "output_type": "execute_result"
    }
   ],
   "source": [
    "port = yapo.portfolio(assets={'ny/SPY': .5, 'mut_ru/0890-94127385': .5},\n",
    "                      start_period='2017-10', end_period='2017-12', currency='USD')\n",
    "[m for m in dir(port) if m[:2] != '__']"
   ]
  },
  {
   "cell_type": "code",
   "execution_count": 9,
   "metadata": {},
   "outputs": [
    {
     "data": {
      "text/plain": [
       "ny/VNQ\n",
       "{'_FinancialSymbol__values_fetcher': <yapo._common.financial_symbol.ValuesFetcher object at 0x113d07b70>,\n",
       " 'adjusted_close': True,\n",
       " 'currency': <Currency.USD: 2>,\n",
       " 'end_period': Timestamp('2018-12-21 00:00:00'),\n",
       " 'exchange': 'NYSE Arca',\n",
       " 'identifier': ny/VNQ,\n",
       " 'isin': None,\n",
       " 'long_name': None,\n",
       " 'period': <Period.DAY: 1>,\n",
       " 'security_type': <SecurityType.STOCK_ETF: 1>,\n",
       " 'short_name': 'Vanguard Real Estate',\n",
       " 'start_period': Timestamp('2004-09-29 00:00:00')}"
      ]
     },
     "execution_count": 9,
     "metadata": {},
     "output_type": "execute_result"
    }
   ],
   "source": [
    "yapo.information(name='ny/VNQ')"
   ]
  },
  {
   "cell_type": "code",
   "execution_count": 10,
   "metadata": {},
   "outputs": [
    {
     "data": {
      "text/plain": [
       "['Сбербанк', 'Microsoft Corporation', 'Открытие – Индекс МосБиржи']"
      ]
     },
     "execution_count": 10,
     "metadata": {},
     "output_type": "execute_result"
    }
   ],
   "source": [
    "infos = yapo.information(names=['micex/SBER', 'ny/MSFT', 'mut_ru/0890-94127385'])\n",
    "[i.short_name for i in infos]"
   ]
  },
  {
   "cell_type": "markdown",
   "metadata": {},
   "source": [
    "Portfolio and Asset Interactions\n",
    "---"
   ]
  },
  {
   "cell_type": "code",
   "execution_count": 11,
   "metadata": {},
   "outputs": [],
   "source": [
    "asset = yapo.portfolio_asset(name='micex/SBER',\n",
    "                             start_period='2011-3', end_period='2015-5', currency='USD')\n",
    "portfolio = yapo.portfolio(assets={'ny/MSFT': .2,\n",
    "                                   'micex/SBER': .2,\n",
    "                                   'mut_ru/0890-94127385': .2,\n",
    "                                   'cbr/USD': .2, \n",
    "                                   'cbr/EUR': .2},\n",
    "                           start_period='2011-3', end_period='2015-5', currency='USD')"
   ]
  },
  {
   "cell_type": "code",
   "execution_count": 12,
   "metadata": {},
   "outputs": [
    {
     "data": {
      "text/plain": [
       "[(PortfolioAsset(\n",
       "       symbol: ny/MSFT,\n",
       "       currency: Currency.USD,\n",
       "       period_min: 2011-11,\n",
       "       period_max: 2015-05\n",
       "  ), 0.2), (PortfolioAsset(\n",
       "       symbol: micex/SBER,\n",
       "       currency: Currency.USD,\n",
       "       period_min: 2011-11,\n",
       "       period_max: 2015-05\n",
       "  ), 0.2), (PortfolioAsset(\n",
       "       symbol: mut_ru/0890-94127385,\n",
       "       currency: Currency.USD,\n",
       "       period_min: 2011-11,\n",
       "       period_max: 2015-05\n",
       "  ), 0.2), (PortfolioAsset(\n",
       "       symbol: cbr/USD,\n",
       "       currency: Currency.USD,\n",
       "       period_min: 2011-11,\n",
       "       period_max: 2015-05\n",
       "  ), 0.2), (PortfolioAsset(\n",
       "       symbol: cbr/EUR,\n",
       "       currency: Currency.USD,\n",
       "       period_min: 2011-11,\n",
       "       period_max: 2015-05\n",
       "  ), 0.2)]"
      ]
     },
     "metadata": {},
     "output_type": "display_data"
    }
   ],
   "source": [
    "display(portfolio.assets_weighted())"
   ]
  },
  {
   "cell_type": "code",
   "execution_count": 13,
   "metadata": {},
   "outputs": [
    {
     "data": {
      "text/plain": [
       "PortfolioAsset(\n",
       "     symbol: micex/SBER,\n",
       "     currency: Currency.USD,\n",
       "     period_min: 2011-11,\n",
       "     period_max: 2015-05\n",
       ")"
      ]
     },
     "metadata": {},
     "output_type": "display_data"
    },
    {
     "data": {
      "text/plain": [
       "PortfolioAsset(\n",
       "     symbol: ny/MSFT,\n",
       "     currency: Currency.USD,\n",
       "     period_min: 2011-11,\n",
       "     period_max: 2015-05\n",
       ")"
      ]
     },
     "metadata": {},
     "output_type": "display_data"
    },
    {
     "data": {
      "text/plain": [
       "Portfolio(\n",
       "     assets: ny/MSFT, micex/SBER, mut_ru/0890-94127385, cbr/USD, cbr/EUR,\n",
       "     currency: Currency.USD,\n",
       "     start_period: 2011-11,\n",
       "     end_period: 2015-05\n",
       ")"
      ]
     },
     "metadata": {},
     "output_type": "display_data"
    }
   ],
   "source": [
    "display(asset)\n",
    "display(portfolio.assets[0])\n",
    "display(portfolio)"
   ]
  },
  {
   "cell_type": "markdown",
   "metadata": {},
   "source": [
    "### Asset Properties: Names, Exchange, Currency, Security Type"
   ]
  },
  {
   "cell_type": "code",
   "execution_count": 14,
   "metadata": {},
   "outputs": [
    {
     "data": {
      "text/plain": [
       "micex/SBER"
      ]
     },
     "metadata": {},
     "output_type": "display_data"
    },
    {
     "data": {
      "text/plain": [
       "'Сбербанк'"
      ]
     },
     "metadata": {},
     "output_type": "display_data"
    },
    {
     "data": {
      "text/plain": [
       "'Сбербанк России ПАО ао'"
      ]
     },
     "metadata": {},
     "output_type": "display_data"
    },
    {
     "data": {
      "text/plain": [
       "'RU0009029540'"
      ]
     },
     "metadata": {},
     "output_type": "display_data"
    },
    {
     "data": {
      "text/plain": [
       "'MICEX'"
      ]
     },
     "metadata": {},
     "output_type": "display_data"
    },
    {
     "data": {
      "text/plain": [
       "<Currency.RUB: 1>"
      ]
     },
     "metadata": {},
     "output_type": "display_data"
    },
    {
     "data": {
      "text/plain": [
       "<SecurityType.STOCK_ETF: 1>"
      ]
     },
     "metadata": {},
     "output_type": "display_data"
    },
    {
     "data": {
      "text/plain": [
       "<Period.DAY: 1>"
      ]
     },
     "metadata": {},
     "output_type": "display_data"
    }
   ],
   "source": [
    "sber_symbol = portfolio.assets[1].symbol\n",
    "\n",
    "display(sber_symbol.identifier)\n",
    "display(sber_symbol.short_name)\n",
    "display(sber_symbol.long_name)\n",
    "display(sber_symbol.isin)\n",
    "display(sber_symbol.exchange)\n",
    "display(sber_symbol.currency)\n",
    "display(sber_symbol.security_type)\n",
    "display(sber_symbol.period)"
   ]
  },
  {
   "cell_type": "markdown",
   "metadata": {},
   "source": [
    "### Period Bounds"
   ]
  },
  {
   "cell_type": "code",
   "execution_count": 15,
   "metadata": {},
   "outputs": [
    {
     "data": {
      "text/plain": [
       "Period('2011-11', 'M')"
      ]
     },
     "metadata": {},
     "output_type": "display_data"
    },
    {
     "data": {
      "text/plain": [
       "Period('2015-05', 'M')"
      ]
     },
     "metadata": {},
     "output_type": "display_data"
    },
    {
     "data": {
      "text/plain": [
       "PeriodIndex(['2011-11', '2011-12', '2012-01', '2012-02', '2012-03', '2012-04',\n",
       "             '2012-05', '2012-06', '2012-07', '2012-08', '2012-09', '2012-10',\n",
       "             '2012-11', '2012-12', '2013-01', '2013-02', '2013-03', '2013-04',\n",
       "             '2013-05', '2013-06', '2013-07', '2013-08', '2013-09', '2013-10',\n",
       "             '2013-11', '2013-12', '2014-01', '2014-02', '2014-03', '2014-04',\n",
       "             '2014-05', '2014-06', '2014-07', '2014-08', '2014-09', '2014-10',\n",
       "             '2014-11', '2014-12', '2015-01', '2015-02', '2015-03', '2015-04',\n",
       "             '2015-05'],\n",
       "            dtype='period[M]', freq='M')"
      ]
     },
     "metadata": {},
     "output_type": "display_data"
    }
   ],
   "source": [
    "display(portfolio.period_min)\n",
    "display(portfolio.period_max)\n",
    "display(portfolio.period())"
   ]
  },
  {
   "cell_type": "markdown",
   "metadata": {},
   "source": [
    "### Inflation"
   ]
  },
  {
   "cell_type": "code",
   "execution_count": 16,
   "metadata": {},
   "outputs": [
    {
     "data": {
      "text/plain": [
       "TimeSeries(start_period=2011-12, end_period=2015-05, kind=TimeSeriesKind.REDUCED_VALUE, values=[0.00119498]"
      ]
     },
     "metadata": {},
     "output_type": "display_data"
    },
    {
     "data": {
      "text/plain": [
       "TimeSeries(start_period=2011-12, end_period=2015-05, kind=TimeSeriesKind.REDUCED_VALUE, values=[0.0143594]"
      ]
     },
     "metadata": {},
     "output_type": "display_data"
    },
    {
     "data": {
      "text/plain": [
       "TimeSeries(start_period=2011-12, end_period=2015-05, kind=TimeSeriesKind.REDUCED_VALUE, values=[0.05116649]"
      ]
     },
     "metadata": {},
     "output_type": "display_data"
    },
    {
     "data": {
      "text/plain": [
       "TimeSeries(start_period=2014-06, end_period=2015-05, kind=TimeSeriesKind.REDUCED_VALUE, values=[-0.0003985]"
      ]
     },
     "metadata": {},
     "output_type": "display_data"
    },
    {
     "data": {
      "text/plain": [
       "TimeSeries(start_period=2011-12, end_period=2015-05, kind=TimeSeriesKind.DIFF, values=[-2.467e-03  4.400e-03  4.403e-03  7.595e-03  3.021e-03 -1.173e-03\n",
       " -1.466e-03 -1.630e-03  5.565e-03  4.462e-03 -3.890e-04 -4.738e-03\n",
       " -2.693e-03  2.957e-03  8.190e-03  2.615e-03 -1.040e-03  1.780e-03\n",
       "  2.400e-03  3.940e-04  1.203e-03  1.163e-03 -2.575e-03 -2.042e-03\n",
       " -8.600e-05  3.720e-03  3.698e-03  6.440e-03  3.297e-03  3.493e-03\n",
       "  1.862e-03 -3.900e-04 -1.671e-03  7.530e-04 -2.512e-03 -5.399e-03\n",
       " -5.670e-03 -4.706e-03  4.343e-03  5.952e-03  2.033e-03  5.097e-03]"
      ]
     },
     "metadata": {},
     "output_type": "display_data"
    },
    {
     "data": {
      "text/plain": [
       "TimeSeries(start_period=2014-06, end_period=2015-05, kind=TimeSeriesKind.DIFF, values=[ 0.001862 -0.00039  -0.001671  0.000753 -0.002512 -0.005399 -0.00567\n",
       " -0.004706  0.004343  0.005952  0.002033  0.005097]"
      ]
     },
     "metadata": {},
     "output_type": "display_data"
    }
   ],
   "source": [
    "display(asset.inflation(kind='a_mean'))\n",
    "display(asset.inflation(kind='g_mean'))\n",
    "display(asset.inflation(kind='accumulated'))\n",
    "display(asset.inflation(kind='accumulated', years_ago=1))\n",
    "display(asset.inflation(kind='values'))\n",
    "display(asset.inflation(kind='values', years_ago=1))"
   ]
  },
  {
   "cell_type": "code",
   "execution_count": 17,
   "metadata": {},
   "outputs": [
    {
     "data": {
      "text/plain": [
       "TimeSeries(start_period=2011-12, end_period=2015-05, kind=TimeSeriesKind.REDUCED_VALUE, values=[0.00119498]"
      ]
     },
     "metadata": {},
     "output_type": "display_data"
    },
    {
     "data": {
      "text/plain": [
       "TimeSeries(start_period=2011-12, end_period=2015-05, kind=TimeSeriesKind.REDUCED_VALUE, values=[0.0143594]"
      ]
     },
     "metadata": {},
     "output_type": "display_data"
    },
    {
     "data": {
      "text/plain": [
       "TimeSeries(start_period=2011-12, end_period=2015-05, kind=TimeSeriesKind.REDUCED_VALUE, values=[0.05116649]"
      ]
     },
     "metadata": {},
     "output_type": "display_data"
    },
    {
     "data": {
      "text/plain": [
       "TimeSeries(start_period=2014-06, end_period=2015-05, kind=TimeSeriesKind.REDUCED_VALUE, values=[-0.0003985]"
      ]
     },
     "metadata": {},
     "output_type": "display_data"
    },
    {
     "data": {
      "text/plain": [
       "TimeSeries(start_period=2011-12, end_period=2015-05, kind=TimeSeriesKind.DIFF, values=[-2.467e-03  4.400e-03  4.403e-03  7.595e-03  3.021e-03 -1.173e-03\n",
       " -1.466e-03 -1.630e-03  5.565e-03  4.462e-03 -3.890e-04 -4.738e-03\n",
       " -2.693e-03  2.957e-03  8.190e-03  2.615e-03 -1.040e-03  1.780e-03\n",
       "  2.400e-03  3.940e-04  1.203e-03  1.163e-03 -2.575e-03 -2.042e-03\n",
       " -8.600e-05  3.720e-03  3.698e-03  6.440e-03  3.297e-03  3.493e-03\n",
       "  1.862e-03 -3.900e-04 -1.671e-03  7.530e-04 -2.512e-03 -5.399e-03\n",
       " -5.670e-03 -4.706e-03  4.343e-03  5.952e-03  2.033e-03  5.097e-03]"
      ]
     },
     "metadata": {},
     "output_type": "display_data"
    },
    {
     "data": {
      "text/plain": [
       "TimeSeries(start_period=2014-06, end_period=2015-05, kind=TimeSeriesKind.DIFF, values=[ 0.001862 -0.00039  -0.001671  0.000753 -0.002512 -0.005399 -0.00567\n",
       " -0.004706  0.004343  0.005952  0.002033  0.005097]"
      ]
     },
     "metadata": {},
     "output_type": "display_data"
    }
   ],
   "source": [
    "display(portfolio.inflation(kind='a_mean'))\n",
    "display(portfolio.inflation(kind='g_mean'))\n",
    "display(portfolio.inflation(kind='accumulated'))\n",
    "display(portfolio.inflation(kind='accumulated', years_ago=1))\n",
    "display(portfolio.inflation(kind='values'))\n",
    "display(portfolio.inflation(kind='values', years_ago=1))"
   ]
  },
  {
   "cell_type": "markdown",
   "metadata": {},
   "source": [
    "### Rate of Return"
   ]
  },
  {
   "cell_type": "code",
   "execution_count": 18,
   "metadata": {},
   "outputs": [
    {
     "data": {
      "text/plain": [
       "TimeSeries(start_period=2011-11, end_period=2015-05, kind=TimeSeriesKind.VALUES, values=[2.79519565 2.46458422 2.97450658 3.45799525 3.22692835 3.20236218\n",
       " 2.51949869 2.63248509 2.78612282 2.88727728 2.94596159 2.91259056\n",
       " 2.9430232  3.0593263  3.64263663 3.41147347 3.17951061 3.16804187\n",
       " 3.12542538 2.85854046 2.89509609 2.65163592 3.02055025 3.20635782\n",
       " 3.11132937 3.08745707 2.68975849 2.52703876 2.34818744 2.03090903\n",
       " 2.43269076 2.5125927  2.06006085 1.98231325 1.91740338 1.75668233\n",
       " 1.46486355 0.97585427 0.89222114 1.23890599 1.07552814 1.48734404\n",
       " 1.38753596]"
      ]
     },
     "metadata": {},
     "output_type": "display_data"
    }
   ],
   "source": [
    "display(asset.close())"
   ]
  },
  {
   "cell_type": "code",
   "execution_count": 19,
   "metadata": {},
   "outputs": [
    {
     "data": {
      "text/plain": [
       "TimeSeries(start_period=2011-12, end_period=2015-05, kind=TimeSeriesKind.DIFF, values=[-0.11827846  0.20689995  0.16254416 -0.06682106 -0.00761286 -0.21323743\n",
       "  0.0448448   0.05836224  0.03630653  0.02032514 -0.01132772  0.01044865\n",
       "  0.03951824  0.19066627 -0.0634604  -0.06799492 -0.00360708 -0.013452\n",
       " -0.08539155  0.01278821 -0.08409399  0.13912707  0.06151448 -0.02963751\n",
       " -0.0076727  -0.12881105 -0.06049604 -0.07077506 -0.1351163   0.19783344\n",
       "  0.03284509 -0.18010553 -0.03774044 -0.03274451 -0.08382224 -0.16611927\n",
       " -0.33382582 -0.08570248  0.38856382 -0.13187267  0.38289644 -0.0671049 ]"
      ]
     },
     "metadata": {},
     "output_type": "display_data"
    },
    {
     "data": {
      "text/plain": [
       "TimeSeries(start_period=2011-12, end_period=2015-05, kind=TimeSeriesKind.DIFF, values=[-0.11609787  0.20161286  0.15744792 -0.07385513 -0.01060184 -0.21231348\n",
       "  0.04637879  0.06009019  0.0305714   0.01579267 -0.01094298  0.01525895\n",
       "  0.04232522  0.18715585 -0.07106835 -0.07042576 -0.00256975 -0.01520493\n",
       " -0.08758135  0.01238933 -0.0851945   0.1378038   0.06425493 -0.02765197\n",
       " -0.00758735 -0.13203986 -0.06395752 -0.07672098 -0.13795845  0.19366397\n",
       "  0.0309255  -0.17978565 -0.03612981 -0.0334723  -0.08151501 -0.16159271\n",
       " -0.33002707 -0.08137946  0.38255936 -0.1370092   0.38009071 -0.07183575]"
      ]
     },
     "metadata": {},
     "output_type": "display_data"
    },
    {
     "data": {
      "text/plain": [
       "TimeSeries(start_period=2011-12, end_period=2015-05, kind=TimeSeriesKind.DIFF, values=[-0.11609787  0.20161286  0.15744792 -0.07385513 -0.01060184 -0.21231348\n",
       "  0.04637879  0.06009019  0.0305714   0.01579267 -0.01094298  0.01525895\n",
       "  0.04232522  0.18715585 -0.07106835 -0.07042576 -0.00256975 -0.01520493\n",
       " -0.08758135  0.01238933 -0.0851945   0.1378038   0.06425493 -0.02765197\n",
       " -0.00758735 -0.13203986 -0.06395752 -0.07672098 -0.13795845  0.19366397\n",
       "  0.0309255  -0.17978565 -0.03612981 -0.0334723  -0.08151501 -0.16159271\n",
       " -0.33002707 -0.08137946  0.38255936 -0.1370092   0.38009071 -0.07183575]"
      ]
     },
     "metadata": {},
     "output_type": "display_data"
    },
    {
     "data": {
      "text/plain": [
       "TimeSeries(start_period=2011-12, end_period=2015-05, kind=TimeSeriesKind.DIFF, values=[-0.11827846  0.20689995  0.16254416 -0.06682106 -0.00761286 -0.21323743\n",
       "  0.0448448   0.05836224  0.03630653  0.02032514 -0.01132772  0.01044865\n",
       "  0.03951824  0.19066627 -0.0634604  -0.06799492 -0.00360708 -0.013452\n",
       " -0.08539155  0.01278821 -0.08409399  0.13912707  0.06151448 -0.02963751\n",
       " -0.0076727  -0.12881105 -0.06049604 -0.07077506 -0.1351163   0.19783344\n",
       "  0.03284509 -0.18010553 -0.03774044 -0.03274451 -0.08382224 -0.16611927\n",
       " -0.33382582 -0.08570248  0.38856382 -0.13187267  0.38289644 -0.0671049 ]"
      ]
     },
     "metadata": {},
     "output_type": "display_data"
    },
    {
     "data": {
      "text/plain": [
       "TimeSeries(start_period=2011-12, end_period=2015-05, kind=TimeSeriesKind.CUMULATIVE, values=[-0.11609787  0.06210816  0.22933488  0.13854219  0.12647156 -0.11269354\n",
       " -0.07154134 -0.01575008  0.01433982  0.03035895  0.01908376  0.0346339\n",
       "  0.07842501  0.28025856  0.1892727   0.10551727  0.10267637  0.08591025\n",
       " -0.00919524  0.00308017 -0.08237674  0.04407524  0.11116222  0.0804364\n",
       "  0.07223874 -0.06933951 -0.12886225 -0.19569679 -0.30665722 -0.1723817\n",
       " -0.14678719 -0.30018261 -0.32546688 -0.34804505 -0.40118917 -0.49795263\n",
       " -0.66364185 -0.6910145  -0.5728092  -0.63133827 -0.49121337 -0.52776244]"
      ]
     },
     "metadata": {},
     "output_type": "display_data"
    },
    {
     "data": {
      "text/plain": [
       "TimeSeries(start_period=2011-12, end_period=2015-05, kind=TimeSeriesKind.CUMULATIVE, values=[-0.11827846  0.06414969  0.23712101  0.15445527  0.14566656 -0.09863244\n",
       " -0.05821079 -0.00324586  0.03294282  0.05393753  0.04199882  0.0528863\n",
       "  0.09449451  0.3031777   0.22047753  0.13749126  0.13338824  0.1181419\n",
       "  0.02266203  0.03574005 -0.05135946  0.08062212  0.14709603  0.11309896\n",
       "  0.10455849 -0.03772085 -0.09593493 -0.15992019 -0.27342866 -0.12968856\n",
       " -0.1011031  -0.26299941 -0.29081413 -0.31403607 -0.37153511 -0.47593524\n",
       " -0.65088159 -0.6808019  -0.55677307 -0.61522259 -0.46789269 -0.5035997 ]"
      ]
     },
     "metadata": {},
     "output_type": "display_data"
    },
    {
     "data": {
      "text/plain": [
       "TimeSeries(start_period=2012-01, end_period=2014-12, kind=TimeSeriesKind.YTD, values=[ 0.22007288 -0.00573639 -0.68630294]"
      ]
     },
     "metadata": {},
     "output_type": "display_data"
    },
    {
     "data": {
      "text/plain": [
       "TimeSeries(start_period=2012-01, end_period=2014-12, kind=TimeSeriesKind.YTD, values=[ 0.24131538  0.00919509 -0.68392944]"
      ]
     },
     "metadata": {},
     "output_type": "display_data"
    }
   ],
   "source": [
    "display(asset.rate_of_return())\n",
    "display(asset.rate_of_return(real=True))\n",
    "\n",
    "for kind, real in it.product(['values', 'accumulated', 'ytd'],\n",
    "                             [True, False]):\n",
    "    display(asset.rate_of_return(kind=kind, real=real))"
   ]
  },
  {
   "cell_type": "code",
   "execution_count": 20,
   "metadata": {},
   "outputs": [
    {
     "data": {
      "text/plain": [
       "TimeSeries(start_period=2011-12, end_period=2015-05, kind=TimeSeriesKind.DIFF, values=[-0.04369816  0.10546889  0.0728419  -0.02371434 -0.01171928 -0.10920486\n",
       "  0.02697542  0.00940671  0.03783338  0.01662815 -0.01817523 -0.01093084\n",
       "  0.02908276  0.06725142 -0.02604663 -0.02269608  0.02416955  0.00179539\n",
       " -0.02989067 -0.00301795 -0.00751589  0.05102113  0.03589912 -0.00137969\n",
       "  0.00299008 -0.04170593 -0.01491151 -0.01000818 -0.03638115  0.06543452\n",
       "  0.02236428 -0.05164833 -0.00157424 -0.02244128 -0.02726542 -0.04891903\n",
       " -0.11728464 -0.06205822  0.13361558 -0.05444486  0.15299473 -0.02729916]"
      ]
     },
     "metadata": {},
     "output_type": "display_data"
    },
    {
     "data": {
      "text/plain": [
       "TimeSeries(start_period=2011-12, end_period=2015-05, kind=TimeSeriesKind.DIFF, values=[-4.13331290e-02  1.00626131e-01  6.81388806e-02 -3.10733400e-02\n",
       " -1.46958857e-02 -1.08158734e-01  2.84831783e-02  1.10547273e-02\n",
       "  3.20898038e-02  1.21121026e-02 -1.77931553e-02 -6.22231826e-03\n",
       "  3.18615652e-02  6.41048590e-02 -3.39585104e-02 -2.52450595e-02\n",
       "  2.52357937e-02  1.53673309e-05 -3.22133574e-02 -3.41060860e-03\n",
       " -8.70841173e-03  4.98002137e-02  3.85734495e-02  6.63661534e-04\n",
       "  3.07633978e-03 -4.52575670e-02 -1.85409484e-02 -1.63429305e-02\n",
       " -3.95477614e-02  6.17259146e-02  2.04641766e-02 -5.12783274e-02\n",
       "  9.69170296e-05 -2.31768280e-02 -2.48157550e-02 -4.37562653e-02\n",
       " -1.12251103e-01 -5.76233978e-02  1.28713577e-01 -6.00395093e-02\n",
       "  1.50655444e-01 -3.22318716e-02]"
      ]
     },
     "metadata": {},
     "output_type": "display_data"
    },
    {
     "data": {
      "text/plain": [
       "TimeSeries(start_period=2011-12, end_period=2015-05, kind=TimeSeriesKind.DIFF, values=[-4.13331290e-02  1.00626131e-01  6.81388806e-02 -3.10733400e-02\n",
       " -1.46958857e-02 -1.08158734e-01  2.84831783e-02  1.10547273e-02\n",
       "  3.20898038e-02  1.21121026e-02 -1.77931553e-02 -6.22231826e-03\n",
       "  3.18615652e-02  6.41048590e-02 -3.39585104e-02 -2.52450595e-02\n",
       "  2.52357937e-02  1.53673309e-05 -3.22133574e-02 -3.41060860e-03\n",
       " -8.70841173e-03  4.98002137e-02  3.85734495e-02  6.63661534e-04\n",
       "  3.07633978e-03 -4.52575670e-02 -1.85409484e-02 -1.63429305e-02\n",
       " -3.95477614e-02  6.17259146e-02  2.04641766e-02 -5.12783274e-02\n",
       "  9.69170296e-05 -2.31768280e-02 -2.48157550e-02 -4.37562653e-02\n",
       " -1.12251103e-01 -5.76233978e-02  1.28713577e-01 -6.00395093e-02\n",
       "  1.50655444e-01 -3.22318716e-02]"
      ]
     },
     "metadata": {},
     "output_type": "display_data"
    },
    {
     "data": {
      "text/plain": [
       "TimeSeries(start_period=2011-12, end_period=2015-05, kind=TimeSeriesKind.DIFF, values=[-0.04369816  0.10546889  0.0728419  -0.02371434 -0.01171928 -0.10920486\n",
       "  0.02697542  0.00940671  0.03783338  0.01662815 -0.01817523 -0.01093084\n",
       "  0.02908276  0.06725142 -0.02604663 -0.02269608  0.02416955  0.00179539\n",
       " -0.02989067 -0.00301795 -0.00751589  0.05102113  0.03589912 -0.00137969\n",
       "  0.00299008 -0.04170593 -0.01491151 -0.01000818 -0.03638115  0.06543452\n",
       "  0.02236428 -0.05164833 -0.00157424 -0.02244128 -0.02726542 -0.04891903\n",
       " -0.11728464 -0.06205822  0.13361558 -0.05444486  0.15299473 -0.02729916]"
      ]
     },
     "metadata": {},
     "output_type": "display_data"
    },
    {
     "data": {
      "text/plain": [
       "TimeSeries(start_period=2011-12, end_period=2015-05, kind=TimeSeriesKind.CUMULATIVE, values=[-0.04133313  0.05513381  0.12702945  0.09200888  0.07596084 -0.04041372\n",
       " -0.01308166 -0.00217154  0.02984858  0.04232221  0.02377601  0.01740575\n",
       "  0.04982189  0.11712057  0.07918482  0.05194074  0.07848729  0.07850387\n",
       "  0.04376164  0.04020178  0.03114327  0.08249442  0.12424997  0.12499609\n",
       "  0.12845696  0.07738574  0.05740999  0.04012881 -0.00100595  0.06065787\n",
       "  0.08236336  0.02686158  0.0269611   0.00315939 -0.02173476 -0.06454\n",
       " -0.16954641 -0.21739997 -0.11666872 -0.1697035  -0.04461481 -0.07540866]"
      ]
     },
     "metadata": {},
     "output_type": "display_data"
    },
    {
     "data": {
      "text/plain": [
       "TimeSeries(start_period=2011-12, end_period=2015-05, kind=TimeSeriesKind.CUMULATIVE, values=[-0.04369816  0.05716193  0.13416761  0.10727157  0.09429514 -0.02520721\n",
       "  0.00108824  0.01050518  0.04873601  0.06617455  0.04679658  0.03535421\n",
       "  0.06546517  0.13711922  0.10750109  0.08236517  0.10852544  0.11051568\n",
       "  0.07732163  0.07407032  0.06599773  0.12038614  0.16060702  0.15900574\n",
       "  0.16247125  0.11398931  0.09737805  0.08639529  0.04687098  0.11537248\n",
       "  0.14031699  0.08142152  0.0797191   0.05548882  0.02671047 -0.0235152\n",
       " -0.13804187 -0.19153346 -0.08350973 -0.13340792 -0.0008239  -0.02810057]"
      ]
     },
     "metadata": {},
     "output_type": "display_data"
    },
    {
     "data": {
      "text/plain": [
       "TimeSeries(start_period=2012-01, end_period=2014-12, kind=TimeSeriesKind.YTD, values=[ 0.08649767  0.07486979 -0.20153884]"
      ]
     },
     "metadata": {},
     "output_type": "display_data"
    },
    {
     "data": {
      "text/plain": [
       "TimeSeries(start_period=2012-01, end_period=2014-12, kind=TimeSeriesKind.YTD, values=[ 0.10541452  0.09101178 -0.19549753]"
      ]
     },
     "metadata": {},
     "output_type": "display_data"
    }
   ],
   "source": [
    "display(portfolio.rate_of_return())\n",
    "display(portfolio.rate_of_return(real=True))\n",
    "\n",
    "for kind, real in it.product(['values', 'accumulated', 'ytd'],\n",
    "                             [True, False]):\n",
    "    display(portfolio.rate_of_return(kind=kind, real=real))"
   ]
  },
  {
   "cell_type": "markdown",
   "metadata": {},
   "source": [
    "### Risk"
   ]
  },
  {
   "cell_type": "code",
   "execution_count": 21,
   "metadata": {},
   "outputs": [
    {
     "data": {
      "text/plain": [
       "TimeSeries(start_period=2011-12, end_period=2015-05, kind=TimeSeriesKind.REDUCED_VALUE, values=[0.47100637]"
      ]
     },
     "metadata": {},
     "output_type": "display_data"
    },
    {
     "data": {
      "text/plain": [
       "TimeSeries(start_period=2011-12, end_period=2015-05, kind=TimeSeriesKind.REDUCED_VALUE, values=[0.47100637]"
      ]
     },
     "metadata": {},
     "output_type": "display_data"
    },
    {
     "data": {
      "text/plain": [
       "TimeSeries(start_period=2011-12, end_period=2015-05, kind=TimeSeriesKind.REDUCED_VALUE, values=[0.13933174]"
      ]
     },
     "metadata": {},
     "output_type": "display_data"
    }
   ],
   "source": [
    "display(asset.risk())\n",
    "display(asset.risk(period='year'))\n",
    "display(asset.risk(period='month'))"
   ]
  },
  {
   "cell_type": "code",
   "execution_count": 22,
   "metadata": {},
   "outputs": [
    {
     "data": {
      "text/plain": [
       "TimeSeries(start_period=2011-12, end_period=2015-05, kind=TimeSeriesKind.REDUCED_VALUE, values=[0.19054657]"
      ]
     },
     "metadata": {},
     "output_type": "display_data"
    },
    {
     "data": {
      "text/plain": [
       "TimeSeries(start_period=2011-12, end_period=2015-05, kind=TimeSeriesKind.REDUCED_VALUE, values=[0.19054657]"
      ]
     },
     "metadata": {},
     "output_type": "display_data"
    },
    {
     "data": {
      "text/plain": [
       "TimeSeries(start_period=2011-12, end_period=2015-05, kind=TimeSeriesKind.REDUCED_VALUE, values=[0.05411186]"
      ]
     },
     "metadata": {},
     "output_type": "display_data"
    }
   ],
   "source": [
    "display(portfolio.risk())\n",
    "display(portfolio.risk(period='year'))\n",
    "display(portfolio.risk(period='month'))"
   ]
  },
  {
   "cell_type": "markdown",
   "metadata": {},
   "source": [
    "### Compound Annual Growth Rate"
   ]
  },
  {
   "cell_type": "code",
   "execution_count": 23,
   "metadata": {},
   "outputs": [
    {
     "data": {
      "text/plain": [
       "TimeSeries(start_period=2011-12, end_period=2015-05, kind=TimeSeriesKind.REDUCED_VALUE, values=[-0.18135641]"
      ]
     },
     "metadata": {},
     "output_type": "display_data"
    },
    {
     "data": {
      "text/plain": [
       "TimeSeries(start_period=2014-06, end_period=2015-05, kind=TimeSeriesKind.REDUCED_VALUE, values=[-0.42962912]"
      ]
     },
     "metadata": {},
     "output_type": "display_data"
    },
    {
     "data": {
      "text/plain": [
       "array([TimeSeries(start_period=2011-12, end_period=2015-05, kind=TimeSeriesKind.REDUCED_VALUE, values=[-0.18135641],\n",
       "       TimeSeries(start_period=2014-06, end_period=2015-05, kind=TimeSeriesKind.REDUCED_VALUE, values=[-0.42962912],\n",
       "       TimeSeries(start_period=2013-06, end_period=2015-05, kind=TimeSeriesKind.REDUCED_VALUE, values=[-0.33370346],\n",
       "       TimeSeries(start_period=2014-06, end_period=2015-05, kind=TimeSeriesKind.REDUCED_VALUE, values=[-0.42962912]],\n",
       "      dtype=object)"
      ]
     },
     "metadata": {},
     "output_type": "display_data"
    }
   ],
   "source": [
    "display(asset.compound_annual_growth_rate())\n",
    "display(asset.compound_annual_growth_rate(years_ago=1))\n",
    "display(asset.compound_annual_growth_rate(years_ago=[None, 1, 2, 1]))"
   ]
  },
  {
   "cell_type": "code",
   "execution_count": 24,
   "metadata": {},
   "outputs": [
    {
     "data": {
      "text/plain": [
       "TimeSeries(start_period=2011-12, end_period=2015-05, kind=TimeSeriesKind.REDUCED_VALUE, values=[-0.19294523]"
      ]
     },
     "metadata": {},
     "output_type": "display_data"
    },
    {
     "data": {
      "text/plain": [
       "TimeSeries(start_period=2014-06, end_period=2015-05, kind=TimeSeriesKind.REDUCED_VALUE, values=[-0.42940174]"
      ]
     },
     "metadata": {},
     "output_type": "display_data"
    },
    {
     "data": {
      "text/plain": [
       "array([TimeSeries(start_period=2011-12, end_period=2015-05, kind=TimeSeriesKind.REDUCED_VALUE, values=[-0.19294523],\n",
       "       TimeSeries(start_period=2014-06, end_period=2015-05, kind=TimeSeriesKind.REDUCED_VALUE, values=[-0.42940174],\n",
       "       TimeSeries(start_period=2013-06, end_period=2015-05, kind=TimeSeriesKind.REDUCED_VALUE, values=[-0.34054784],\n",
       "       TimeSeries(start_period=2014-06, end_period=2015-05, kind=TimeSeriesKind.REDUCED_VALUE, values=[-0.42940174]],\n",
       "      dtype=object)"
      ]
     },
     "metadata": {},
     "output_type": "display_data"
    }
   ],
   "source": [
    "display(asset.compound_annual_growth_rate(real=True))\n",
    "display(asset.compound_annual_growth_rate(years_ago=1, real=True))\n",
    "display(asset.compound_annual_growth_rate(years_ago=[None, 1, 2, 1], real=True))"
   ]
  },
  {
   "cell_type": "code",
   "execution_count": null,
   "metadata": {},
   "outputs": [],
   "source": []
  }
 ],
 "metadata": {
  "kernelspec": {
   "display_name": "Python 3",
   "language": "python",
   "name": "python3"
  },
  "language_info": {
   "codemirror_mode": {
    "name": "ipython",
    "version": 3
   },
   "file_extension": ".py",
   "mimetype": "text/x-python",
   "name": "python",
   "nbconvert_exporter": "python",
   "pygments_lexer": "ipython3",
   "version": "3.6.5"
  },
  "varInspector": {
   "cols": {
    "lenName": 16,
    "lenType": 16,
    "lenVar": 40
   },
   "kernels_config": {
    "python": {
     "delete_cmd_postfix": "",
     "delete_cmd_prefix": "del ",
     "library": "var_list.py",
     "varRefreshCmd": "print(var_dic_list())"
    },
    "r": {
     "delete_cmd_postfix": ") ",
     "delete_cmd_prefix": "rm(",
     "library": "var_list.r",
     "varRefreshCmd": "cat(var_dic_list()) "
    }
   },
   "types_to_exclude": [
    "module",
    "function",
    "builtin_function_or_method",
    "instance",
    "_Feature"
   ],
   "window_display": false
  }
 },
 "nbformat": 4,
 "nbformat_minor": 2
}
