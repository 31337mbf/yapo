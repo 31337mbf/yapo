{
 "cells": [
  {
   "cell_type": "code",
   "execution_count": 1,
   "metadata": {
    "collapsed": true
   },
   "outputs": [],
   "source": [
    "import yapo\n",
    "import pandas as pd"
   ]
  },
  {
   "cell_type": "markdown",
   "metadata": {},
   "source": [
    "Fetch financial symbols information\n",
    "---"
   ]
  },
  {
   "cell_type": "code",
   "execution_count": 2,
   "metadata": {
    "collapsed": true
   },
   "outputs": [],
   "source": [
    "port = yapo.portfolio(assets=[('quandl/SPY', 1.)], \n",
    "                      start_period='2017-10', end_period='2017-12', currency='USD')"
   ]
  },
  {
   "cell_type": "code",
   "execution_count": 3,
   "metadata": {},
   "outputs": [
    {
     "data": {
      "text/plain": [
       "{'adjusted_close': True,\n",
       " 'currency': <Currency.USD: 2>,\n",
       " 'exchange': 'NYSE Arca',\n",
       " 'isin': None,\n",
       " 'long_name': None,\n",
       " 'namespace': 'quandl',\n",
       " 'period': <Period.DAY: 1>,\n",
       " 'security_type': <SecurityType.STOCK_ETF: 1>,\n",
       " 'short_name': 'Vanguard REIT',\n",
       " 'ticker': 'VNQ',\n",
       " 'values': <function QuandlFinancialSymbolsSource.fetch_financial_symbol.<locals>.<lambda> at 0x11bb5d8c8>}"
      ]
     },
     "execution_count": 3,
     "metadata": {},
     "output_type": "execute_result"
    }
   ],
   "source": [
    "yapo.information(name='quandl/VNQ')"
   ]
  },
  {
   "cell_type": "code",
   "execution_count": 4,
   "metadata": {},
   "outputs": [
    {
     "data": {
      "text/plain": [
       "[{'adjusted_close': True,\n",
       "  'currency': <Currency.RUB: 1>,\n",
       "  'exchange': 'MICEX',\n",
       "  'isin': 'RU0009029540',\n",
       "  'long_name': 'Сбербанк России ПАО ао',\n",
       "  'namespace': 'micex',\n",
       "  'period': <Period.DAY: 1>,\n",
       "  'security_type': <SecurityType.STOCK_ETF: 1>,\n",
       "  'short_name': 'Сбербанк',\n",
       "  'ticker': 'SBER',\n",
       "  'values': <function MicexStocksFinancialSymbolsSource.fetch_financial_symbol.<locals>.<lambda> at 0x110bd3840>},\n",
       " {'adjusted_close': True,\n",
       "  'currency': <Currency.USD: 2>,\n",
       "  'exchange': 'NASDAQ',\n",
       "  'isin': None,\n",
       "  'long_name': None,\n",
       "  'namespace': 'quandl',\n",
       "  'period': <Period.DAY: 1>,\n",
       "  'security_type': <SecurityType.STOCK_ETF: 1>,\n",
       "  'short_name': 'Microsoft Corporation',\n",
       "  'ticker': 'MSFT',\n",
       "  'values': <function QuandlFinancialSymbolsSource.fetch_financial_symbol.<locals>.<lambda> at 0x11bb5dd90>},\n",
       " {'adjusted_close': True,\n",
       "  'currency': <Currency.RUB: 1>,\n",
       "  'exchange': None,\n",
       "  'isin': None,\n",
       "  'long_name': None,\n",
       "  'namespace': 'nlu',\n",
       "  'period': <Period.DAY: 1>,\n",
       "  'security_type': <SecurityType.MUT: 3>,\n",
       "  'short_name': 'ОТКРЫТИЕ - Облигации',\n",
       "  'ticker': '419',\n",
       "  'values': <function NluFinancialSymbolsSource.fetch_financial_symbol.<locals>.<lambda> at 0x11bb5dc80>}]"
      ]
     },
     "execution_count": 4,
     "metadata": {},
     "output_type": "execute_result"
    }
   ],
   "source": [
    "yapo.information(names=['micex/SBER', 'quandl/MSFT', 'nlu/419'])"
   ]
  },
  {
   "cell_type": "markdown",
   "metadata": {},
   "source": [
    "Portfolio interactions\n",
    "---"
   ]
  },
  {
   "cell_type": "code",
   "execution_count": 5,
   "metadata": {
    "collapsed": true
   },
   "outputs": [],
   "source": [
    "portfolio1 = yapo.portfolio(assets=[('quandl/MSFT', .2),\n",
    "                                    ('micex/SBER', .2),\n",
    "                                    ('nlu/419', .2),\n",
    "                                    ('cbr/USD', .2), \n",
    "                                    ('cbr/EUR', .2)],\n",
    "                                    start_period='2011-3', end_period='2015-5', currency='USD')"
   ]
  },
  {
   "cell_type": "code",
   "execution_count": 6,
   "metadata": {},
   "outputs": [
    {
     "name": "stdout",
     "output_type": "stream",
     "text": [
      "2011-11\n",
      "2015-05\n"
     ]
    }
   ],
   "source": [
    "print(portfolio1.period_min)\n",
    "print(portfolio1.period_max)"
   ]
  },
  {
   "cell_type": "code",
   "execution_count": 7,
   "metadata": {},
   "outputs": [
    {
     "name": "stdout",
     "output_type": "stream",
     "text": [
      "========\n",
      "2011-11 ~ 2015-05\n",
      "[ 0.         -0.03050316  0.05236319  0.12315962  0.10828433]\n",
      "========\n",
      "Microsoft Corporation\n",
      "0.2\n",
      "[Period('2011-11', 'M') Period('2011-12', 'M') Period('2012-01', 'M')\n",
      " Period('2012-02', 'M') Period('2012-03', 'M')]\n",
      "[ 21.78313946  22.10673575  25.1468377   27.20750842  27.6489661 ]\n",
      "[ 0.          0.01485536  0.13751926  0.08194552  0.01622558]\n",
      "1986-03 ~ 2017-12\n",
      "[ 0.          0.01485536  0.15441751  0.24901686  0.26928289]\n",
      "========\n",
      "Сбербанк\n",
      "0.2\n",
      "[Period('2011-11', 'M') Period('2011-12', 'M') Period('2012-01', 'M')\n",
      " Period('2012-02', 'M') Period('2012-03', 'M')]\n",
      "[ 2.79519565  2.4661372   2.96956663  3.46075861  3.23442966]\n",
      "[ 0.         -0.11772287  0.20413683  0.16540864 -0.06539865]\n",
      "2011-11 ~ 2017-12\n",
      "[ 0.         -0.11772287  0.06238239  0.23810962  0.15713892]\n",
      "========\n",
      "ОТКРЫТИЕ - Облигации\n",
      "0.2\n",
      "[Period('2011-11', 'M') Period('2011-12', 'M') Period('2012-01', 'M')\n",
      " Period('2012-02', 'M') Period('2012-03', 'M')]\n",
      "[ 77.0864196   75.66537562  81.69321614  86.53796334  85.97459101]\n",
      "[ 0.         -0.01843443  0.07966445  0.05930416 -0.00651012]\n",
      "2004-01 ~ 2017-12\n",
      "[ 0.         -0.01843443  0.05976145  0.12260971  0.11530139]\n",
      "========\n",
      "Доллар США\n",
      "0.2\n",
      "[Period('2011-11', 'M') Period('2011-12', 'M') Period('2012-01', 'M')\n",
      " Period('2012-02', 'M') Period('2012-03', 'M')]\n",
      "[ 1.  1.  1.  1.  1.]\n",
      "[ 0.  0.  0.  0.  0.]\n",
      "1992-07 ~ 2017-12\n",
      "[ 0.  0.  0.  0.  0.]\n",
      "========\n",
      "Евро\n",
      "0.2\n",
      "[Period('2011-11', 'M') Period('2011-12', 'M') Period('2012-01', 'M')\n",
      " Period('2012-02', 'M') Period('2012-03', 'M')]\n",
      "[ 1.33600135  1.29429962  1.31630149  1.34410006  1.3355985 ]\n",
      "[ 0.         -0.03121384  0.01699906  0.02111869 -0.00632509]\n",
      "1999-01 ~ 2017-12\n",
      "[ 0.         -0.03121384 -0.01474539  0.0060619  -0.00030154]\n"
     ]
    }
   ],
   "source": [
    "for idx, asset in enumerate([portfolio1] + portfolio1.assets):\n",
    "    print('========')\n",
    "    if idx > 0:\n",
    "        print(asset.symbol.short_name)\n",
    "        print(asset.weight)\n",
    "        print(asset.period()[:5])\n",
    "        print(asset.close()[:5])\n",
    "        print(asset.close_change()[:5])\n",
    "    print(asset.period_min, '~', asset.period_max)\n",
    "    print(asset.accumulated_rate_of_return()[:5])"
   ]
  }
 ],
 "metadata": {
  "kernelspec": {
   "display_name": "Python 3",
   "language": "python",
   "name": "python3"
  },
  "language_info": {
   "codemirror_mode": {
    "name": "ipython",
    "version": 3
   },
   "file_extension": ".py",
   "mimetype": "text/x-python",
   "name": "python",
   "nbconvert_exporter": "python",
   "pygments_lexer": "ipython3",
   "version": "3.6.2"
  }
 },
 "nbformat": 4,
 "nbformat_minor": 2
}
