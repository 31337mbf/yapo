{
 "cells": [
  {
   "cell_type": "code",
   "execution_count": 1,
   "metadata": {
    "collapsed": true
   },
   "outputs": [],
   "source": [
    "import yapo\n",
    "import pandas as pd"
   ]
  },
  {
   "cell_type": "markdown",
   "metadata": {},
   "source": [
    "Fetch financial symbols information\n",
    "---"
   ]
  },
  {
   "cell_type": "code",
   "execution_count": 2,
   "metadata": {},
   "outputs": [
    {
     "data": {
      "text/plain": [
       "{'adjusted_close': True,\n",
       " 'currency': <Currency.USD: 2>,\n",
       " 'exchange': 'NYSE Arca',\n",
       " 'isin': None,\n",
       " 'long_name': None,\n",
       " 'namespace': 'quandl',\n",
       " 'period': <Period.DAY: 1>,\n",
       " 'security_type': <SecurityType.STOCK_ETF: 1>,\n",
       " 'short_name': 'Vanguard REIT',\n",
       " 'ticker': 'VNQ',\n",
       " 'values': <function QuandlFinancialSymbolsSource.fetch_financial_symbol.<locals>.<lambda> at 0x10dab16a8>}"
      ]
     },
     "execution_count": 2,
     "metadata": {},
     "output_type": "execute_result"
    }
   ],
   "source": [
    "yapo.information(name='quandl/VNQ')"
   ]
  },
  {
   "cell_type": "code",
   "execution_count": 3,
   "metadata": {},
   "outputs": [
    {
     "data": {
      "text/plain": [
       "[{'adjusted_close': True,\n",
       "  'currency': <Currency.RUB: 1>,\n",
       "  'exchange': 'MICEX',\n",
       "  'isin': 'RU0009029540',\n",
       "  'long_name': 'Сбербанк России ПАО ао',\n",
       "  'namespace': 'micex',\n",
       "  'period': <Period.DAY: 1>,\n",
       "  'security_type': <SecurityType.STOCK_ETF: 1>,\n",
       "  'short_name': 'Сбербанк',\n",
       "  'ticker': 'SBER',\n",
       "  'values': <function MicexStocksFinancialSymbolsSource.fetch_financial_symbol.<locals>.<lambda> at 0x10216cd08>},\n",
       " {'adjusted_close': True,\n",
       "  'currency': <Currency.USD: 2>,\n",
       "  'exchange': 'NASDAQ',\n",
       "  'isin': None,\n",
       "  'long_name': None,\n",
       "  'namespace': 'quandl',\n",
       "  'period': <Period.DAY: 1>,\n",
       "  'security_type': <SecurityType.STOCK_ETF: 1>,\n",
       "  'short_name': 'Microsoft Corporation',\n",
       "  'ticker': 'MSFT',\n",
       "  'values': <function QuandlFinancialSymbolsSource.fetch_financial_symbol.<locals>.<lambda> at 0x10b4570d0>},\n",
       " {'adjusted_close': True,\n",
       "  'currency': <Currency.RUB: 1>,\n",
       "  'exchange': None,\n",
       "  'isin': None,\n",
       "  'long_name': None,\n",
       "  'namespace': 'nlu',\n",
       "  'period': <Period.DAY: 1>,\n",
       "  'security_type': <SecurityType.MUT: 3>,\n",
       "  'short_name': 'ОТКРЫТИЕ - Облигации',\n",
       "  'ticker': '419',\n",
       "  'values': <function NluFinancialSymbolsSource.fetch_financial_symbol.<locals>.<lambda> at 0x10dab1950>}]"
      ]
     },
     "execution_count": 3,
     "metadata": {},
     "output_type": "execute_result"
    }
   ],
   "source": [
    "yapo.information(names=['micex/SBER', 'quandl/MSFT', 'nlu/419'])"
   ]
  },
  {
   "cell_type": "markdown",
   "metadata": {},
   "source": [
    "Portfolio interactions\n",
    "---"
   ]
  },
  {
   "cell_type": "code",
   "execution_count": 4,
   "metadata": {
    "collapsed": true
   },
   "outputs": [],
   "source": [
    "portfolio1 = yapo.portfolio(assets=[('quandl/MSFT', .2),\n",
    "                                    ('micex/SBER', .2),\n",
    "                                    ('nlu/419', .2),\n",
    "                                    ('cbr/USD', .2), \n",
    "                                    ('cbr/EUR', .2)],\n",
    "                                    start_period='2011-3', end_period='2015-5', currency='USD')"
   ]
  },
  {
   "cell_type": "code",
   "execution_count": 5,
   "metadata": {},
   "outputs": [
    {
     "name": "stdout",
     "output_type": "stream",
     "text": [
      "2011-11\n",
      "2015-05\n"
     ]
    }
   ],
   "source": [
    "print(portfolio1.period_min)\n",
    "print(portfolio1.period_max)"
   ]
  },
  {
   "cell_type": "code",
   "execution_count": 6,
   "metadata": {},
   "outputs": [
    {
     "name": "stdout",
     "output_type": "stream",
     "text": [
      "========\n",
      "Microsoft Corporation\n",
      "1986-03 ~ 2017-12\n",
      "0.2\n",
      "2.02133446329\n",
      "========\n",
      "Сбербанк\n",
      "2011-11 ~ 2017-12\n",
      "0.2\n",
      "0.496400301636\n",
      "========\n",
      "ОТКРЫТИЕ - Облигации\n",
      "2004-01 ~ 2017-12\n",
      "0.2\n",
      "0.838357143171\n",
      "========\n",
      "Доллар США\n",
      "1992-07 ~ 2017-12\n",
      "0.2\n",
      "1.0\n",
      "========\n",
      "Евро\n",
      "1999-01 ~ 2017-12\n",
      "0.2\n",
      "0.819759700422\n"
     ]
    }
   ],
   "source": [
    "for asset in portfolio1.assets:\n",
    "    print('========')\n",
    "    print(asset.symbol.short_name)\n",
    "    print(asset.period_min, '~', asset.period_max)\n",
    "    print(asset.weight)\n",
    "    print(asset.accumulated_rate_of_return())"
   ]
  },
  {
   "cell_type": "code",
   "execution_count": 7,
   "metadata": {},
   "outputs": [
    {
     "data": {
      "text/plain": [
       "array([ 21.78313946,  22.10673575,  25.1468377 ,  27.20750842,  27.6489661 ])"
      ]
     },
     "execution_count": 7,
     "metadata": {},
     "output_type": "execute_result"
    }
   ],
   "source": [
    "portfolio1.assets[0].close()[:5]"
   ]
  },
  {
   "cell_type": "code",
   "execution_count": 8,
   "metadata": {},
   "outputs": [
    {
     "data": {
      "text/plain": [
       "array([ 0.        ,  0.01485536,  0.13751926,  0.08194552,  0.01622558])"
      ]
     },
     "execution_count": 8,
     "metadata": {},
     "output_type": "execute_result"
    }
   ],
   "source": [
    "portfolio1.assets[0].close_change()[:5]"
   ]
  },
  {
   "cell_type": "code",
   "execution_count": 9,
   "metadata": {},
   "outputs": [
    {
     "data": {
      "text/plain": [
       "array([Period('2011-11', 'M'), Period('2011-12', 'M'),\n",
       "       Period('2012-01', 'M'), Period('2012-02', 'M'),\n",
       "       Period('2012-03', 'M')], dtype=object)"
      ]
     },
     "execution_count": 9,
     "metadata": {},
     "output_type": "execute_result"
    }
   ],
   "source": [
    "portfolio1.assets[0].period()[:5]"
   ]
  },
  {
   "cell_type": "code",
   "execution_count": 10,
   "metadata": {},
   "outputs": [
    {
     "data": {
      "text/plain": [
       "1.0351703217045101"
      ]
     },
     "execution_count": 10,
     "metadata": {},
     "output_type": "execute_result"
    }
   ],
   "source": [
    "portfolio1.accumulated_rate_of_return()"
   ]
  }
 ],
 "metadata": {
  "kernelspec": {
   "display_name": "Python 3",
   "language": "python",
   "name": "python3"
  },
  "language_info": {
   "codemirror_mode": {
    "name": "ipython",
    "version": 3
   },
   "file_extension": ".py",
   "mimetype": "text/x-python",
   "name": "python",
   "nbconvert_exporter": "python",
   "pygments_lexer": "ipython3",
   "version": "3.6.2"
  }
 },
 "nbformat": 4,
 "nbformat_minor": 2
}
