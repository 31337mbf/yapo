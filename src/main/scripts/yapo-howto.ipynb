{
 "cells": [
  {
   "cell_type": "code",
   "execution_count": 1,
   "metadata": {},
   "outputs": [],
   "source": [
    "import yapo\n",
    "from IPython.display import display"
   ]
  },
  {
   "cell_type": "markdown",
   "metadata": {},
   "source": [
    "Get all existing symbols names\n",
    "---"
   ]
  },
  {
   "cell_type": "code",
   "execution_count": 2,
   "metadata": {},
   "outputs": [
    {
     "data": {
      "text/plain": [
       "['cbr', 'infl', 'micex', 'nlu', 'quandl']"
      ]
     },
     "execution_count": 2,
     "metadata": {},
     "output_type": "execute_result"
    }
   ],
   "source": [
    "yapo.available_names() # available namespaces"
   ]
  },
  {
   "cell_type": "code",
   "execution_count": 3,
   "metadata": {},
   "outputs": [
    {
     "data": {
      "text/plain": [
       "[{'fin_sym_id': micex/MCFTR, 'short_name': 'MICEX Total Return'},\n",
       " {'fin_sym_id': micex/ABRD, 'short_name': 'АбрауДюрсо'},\n",
       " {'fin_sym_id': micex/AFKS, 'short_name': 'Система ао'},\n",
       " {'fin_sym_id': micex/AFLT, 'short_name': 'Аэрофлот'},\n",
       " {'fin_sym_id': micex/AKRN, 'short_name': 'Акрон'}]"
      ]
     },
     "execution_count": 3,
     "metadata": {},
     "output_type": "execute_result"
    }
   ],
   "source": [
    "yapo.available_names(namespace='micex')[:5] # get symbols in the namespace"
   ]
  },
  {
   "cell_type": "code",
   "execution_count": 4,
   "metadata": {},
   "outputs": [
    {
     "data": {
      "text/plain": [
       "[{'fin_sym_id': infl/RUB, 'short_name': 'Инфляция РФ'},\n",
       " {'fin_sym_id': infl/EUR, 'short_name': 'Инфляция ЕС'},\n",
       " {'fin_sym_id': infl/USD, 'short_name': 'Инфляция США'},\n",
       " {'fin_sym_id': nlu/1002, 'short_name': 'ВТБ-Фонд Акций'},\n",
       " {'fin_sym_id': nlu/1003, 'short_name': 'ВТБ-Фонд Металлургии'},\n",
       " {'fin_sym_id': nlu/1004, 'short_name': 'ВТБ-Фонд Нефтегазового сектора'},\n",
       " {'fin_sym_id': nlu/1005,\n",
       "  'short_name': 'ВТБ – Фонд Еврооблигаций развивающихся рынков'}]"
      ]
     },
     "execution_count": 4,
     "metadata": {},
     "output_type": "execute_result"
    }
   ],
   "source": [
    "yapo.available_names(namespaces=['infl', 'nlu'])[:7] # get symbols in several namespaces"
   ]
  },
  {
   "cell_type": "markdown",
   "metadata": {},
   "source": [
    "Fetch financial symbols information\n",
    "---"
   ]
  },
  {
   "cell_type": "code",
   "execution_count": 5,
   "metadata": {},
   "outputs": [
    {
     "data": {
      "text/html": [
       "<div>\n",
       "<style scoped>\n",
       "    .dataframe tbody tr th:only-of-type {\n",
       "        vertical-align: middle;\n",
       "    }\n",
       "\n",
       "    .dataframe tbody tr th {\n",
       "        vertical-align: top;\n",
       "    }\n",
       "\n",
       "    .dataframe thead th {\n",
       "        text-align: right;\n",
       "    }\n",
       "</style>\n",
       "<table border=\"1\" class=\"dataframe\">\n",
       "  <thead>\n",
       "    <tr style=\"text-align: right;\">\n",
       "      <th></th>\n",
       "      <th>close</th>\n",
       "      <th>period</th>\n",
       "      <th>close_pctchange</th>\n",
       "    </tr>\n",
       "    <tr>\n",
       "      <th>period</th>\n",
       "      <th></th>\n",
       "      <th></th>\n",
       "      <th></th>\n",
       "    </tr>\n",
       "  </thead>\n",
       "  <tbody>\n",
       "    <tr>\n",
       "      <th>2017-10</th>\n",
       "      <td>253.692768</td>\n",
       "      <td>2017-10</td>\n",
       "      <td>0.000000</td>\n",
       "    </tr>\n",
       "    <tr>\n",
       "      <th>2017-11</th>\n",
       "      <td>261.447095</td>\n",
       "      <td>2017-11</td>\n",
       "      <td>0.030566</td>\n",
       "    </tr>\n",
       "    <tr>\n",
       "      <th>2017-12</th>\n",
       "      <td>264.607136</td>\n",
       "      <td>2017-12</td>\n",
       "      <td>0.012087</td>\n",
       "    </tr>\n",
       "  </tbody>\n",
       "</table>\n",
       "</div>"
      ],
      "text/plain": [
       "              close  period  close_pctchange\n",
       "period                                      \n",
       "2017-10  253.692768 2017-10         0.000000\n",
       "2017-11  261.447095 2017-11         0.030566\n",
       "2017-12  264.607136 2017-12         0.012087"
      ]
     },
     "execution_count": 5,
     "metadata": {},
     "output_type": "execute_result"
    }
   ],
   "source": [
    "asset = yapo.portfolio_asset(name='quandl/SPY', \n",
    "                             start_period='2017-10', end_period='2017-12', currency='usd')\n",
    "asset.values"
   ]
  },
  {
   "cell_type": "code",
   "execution_count": 6,
   "metadata": {},
   "outputs": [
    {
     "name": "stderr",
     "output_type": "stream",
     "text": [
      "/Users/ycomb/projects/rostsber/yapo/target/dist/yapo-0.1.0.dev/model/Portfolio.py:129: FutureWarning: 'period' is both an index level and a column label.\n",
      "Defaulting to column, but this will raise an ambiguity error in a future version\n",
      "  self.values = self.values.merge(currency_rate, on='period', how='left', suffixes=('', '_currency_rate'))\n",
      "/Users/ycomb/projects/rostsber/yapo/target/dist/yapo-0.1.0.dev/model/Portfolio.py:132: FutureWarning: 'period' is both an index level and a column label.\n",
      "Defaulting to column, but this will raise an ambiguity error in a future version\n",
      "  self.values.sort_values(by='period', ascending=True, inplace=True)\n"
     ]
    },
    {
     "data": {
      "text/plain": [
       "['accumulated_rate_of_return',\n",
       " 'assets',\n",
       " 'assets_weighted',\n",
       " 'compound_annual_growth_rate',\n",
       " 'currency',\n",
       " 'inflation',\n",
       " 'period_max',\n",
       " 'period_min',\n",
       " 'rate_of_return',\n",
       " 'risk',\n",
       " 'weights']"
      ]
     },
     "execution_count": 6,
     "metadata": {},
     "output_type": "execute_result"
    }
   ],
   "source": [
    "port = yapo.portfolio(assets={'quandl/SPY': .5, 'nlu/449': .5},\n",
    "                      start_period='2017-10', end_period='2017-12', currency='USD')\n",
    "[m for m in dir(port) if m[:2] != '__']"
   ]
  },
  {
   "cell_type": "code",
   "execution_count": 7,
   "metadata": {},
   "outputs": [
    {
     "data": {
      "text/plain": [
       "{'_FinancialSymbol__values': <function QuandlFinancialSymbolsSource.fetch_financial_symbol.<locals>.<lambda> at 0x113e9c510>,\n",
       " 'adjusted_close': True,\n",
       " 'currency': <Currency.USD: 2>,\n",
       " 'end_period': Timestamp('2018-06-12 00:00:00'),\n",
       " 'exchange': 'NYSE Arca',\n",
       " 'identifier': quandl/VNQ,\n",
       " 'isin': None,\n",
       " 'long_name': None,\n",
       " 'period': <Period.DAY: 1>,\n",
       " 'security_type': <SecurityType.STOCK_ETF: 1>,\n",
       " 'short_name': 'Vanguard Real Estate',\n",
       " 'start_period': Timestamp('2004-09-29 00:00:00')}"
      ]
     },
     "execution_count": 7,
     "metadata": {},
     "output_type": "execute_result"
    }
   ],
   "source": [
    "yapo.information(name='quandl/VNQ')"
   ]
  },
  {
   "cell_type": "code",
   "execution_count": 8,
   "metadata": {},
   "outputs": [
    {
     "data": {
      "text/plain": [
       "['Сбербанк', 'Microsoft Corporation', 'Первый фонд фондов']"
      ]
     },
     "execution_count": 8,
     "metadata": {},
     "output_type": "execute_result"
    }
   ],
   "source": [
    "infos = yapo.information(names=['micex/SBER', 'quandl/MSFT', 'nlu/449'])\n",
    "[i.short_name for i in infos]"
   ]
  },
  {
   "cell_type": "markdown",
   "metadata": {},
   "source": [
    "Portfolio and Asset Interactions\n",
    "---"
   ]
  },
  {
   "cell_type": "code",
   "execution_count": 9,
   "metadata": {},
   "outputs": [
    {
     "name": "stderr",
     "output_type": "stream",
     "text": [
      "/Users/ycomb/projects/rostsber/yapo/target/dist/yapo-0.1.0.dev/model/Portfolio.py:129: FutureWarning: 'period' is both an index level and a column label.\n",
      "Defaulting to column, but this will raise an ambiguity error in a future version\n",
      "  self.values = self.values.merge(currency_rate, on='period', how='left', suffixes=('', '_currency_rate'))\n",
      "/Users/ycomb/projects/rostsber/yapo/target/dist/yapo-0.1.0.dev/model/Portfolio.py:132: FutureWarning: 'period' is both an index level and a column label.\n",
      "Defaulting to column, but this will raise an ambiguity error in a future version\n",
      "  self.values.sort_values(by='period', ascending=True, inplace=True)\n"
     ]
    }
   ],
   "source": [
    "asset = yapo.portfolio_asset(name='micex/SBER',\n",
    "                             start_period='2011-3', end_period='2015-5', currency='USD')\n",
    "portfolio = yapo.portfolio(assets={'quandl/MSFT': .2,\n",
    "                                   'micex/SBER': .2,\n",
    "                                   'nlu/449': .2,\n",
    "                                   'cbr/USD': .2, \n",
    "                                   'cbr/EUR': .2},\n",
    "                           start_period='2011-3', end_period='2015-5', currency='USD')"
   ]
  },
  {
   "cell_type": "code",
   "execution_count": 10,
   "metadata": {},
   "outputs": [
    {
     "data": {
      "text/plain": [
       "[(PortfolioAsset(\n",
       "       symbol: quandl/MSFT,\n",
       "       currency: Currency.USD,\n",
       "       period_min: 2011-11,\n",
       "       period_max: 2015-05\n",
       "  ), 0.2), (PortfolioAsset(\n",
       "       symbol: micex/SBER,\n",
       "       currency: Currency.USD,\n",
       "       period_min: 2011-11,\n",
       "       period_max: 2015-05\n",
       "  ), 0.2), (PortfolioAsset(\n",
       "       symbol: nlu/449,\n",
       "       currency: Currency.USD,\n",
       "       period_min: 2011-11,\n",
       "       period_max: 2015-05\n",
       "  ), 0.2), (PortfolioAsset(\n",
       "       symbol: cbr/USD,\n",
       "       currency: Currency.USD,\n",
       "       period_min: 2011-11,\n",
       "       period_max: 2015-05\n",
       "  ), 0.2), (PortfolioAsset(\n",
       "       symbol: cbr/EUR,\n",
       "       currency: Currency.USD,\n",
       "       period_min: 2011-11,\n",
       "       period_max: 2015-05\n",
       "  ), 0.2)]"
      ]
     },
     "metadata": {},
     "output_type": "display_data"
    }
   ],
   "source": [
    "display(portfolio.assets_weighted())"
   ]
  },
  {
   "cell_type": "code",
   "execution_count": 11,
   "metadata": {},
   "outputs": [
    {
     "data": {
      "text/plain": [
       "PortfolioAsset(\n",
       "     symbol: micex/SBER,\n",
       "     currency: Currency.USD,\n",
       "     period_min: 2011-11,\n",
       "     period_max: 2015-05\n",
       ")"
      ]
     },
     "metadata": {},
     "output_type": "display_data"
    },
    {
     "data": {
      "text/plain": [
       "PortfolioAsset(\n",
       "     symbol: quandl/MSFT,\n",
       "     currency: Currency.USD,\n",
       "     period_min: 2011-11,\n",
       "     period_max: 2015-05\n",
       ")"
      ]
     },
     "metadata": {},
     "output_type": "display_data"
    },
    {
     "data": {
      "text/plain": [
       "Portfolio(\n",
       "     assets: quandl/MSFT, micex/SBER, nlu/449, cbr/USD, cbr/EUR,\n",
       "     currency: Currency.USD,\n",
       "     start_period: 2011-11,\n",
       "     end_period: 2015-05\n",
       ")"
      ]
     },
     "metadata": {},
     "output_type": "display_data"
    }
   ],
   "source": [
    "display(asset)\n",
    "display(portfolio.assets[0])\n",
    "display(portfolio)"
   ]
  },
  {
   "cell_type": "markdown",
   "metadata": {},
   "source": [
    "### Asset Properties: Names, Exchange, Currency, Security Type"
   ]
  },
  {
   "cell_type": "code",
   "execution_count": 12,
   "metadata": {},
   "outputs": [
    {
     "data": {
      "text/plain": [
       "micex/SBER"
      ]
     },
     "metadata": {},
     "output_type": "display_data"
    },
    {
     "data": {
      "text/plain": [
       "'Сбербанк'"
      ]
     },
     "metadata": {},
     "output_type": "display_data"
    },
    {
     "data": {
      "text/plain": [
       "'Сбербанк России ПАО ао'"
      ]
     },
     "metadata": {},
     "output_type": "display_data"
    },
    {
     "data": {
      "text/plain": [
       "'RU0009029540'"
      ]
     },
     "metadata": {},
     "output_type": "display_data"
    },
    {
     "data": {
      "text/plain": [
       "'MICEX'"
      ]
     },
     "metadata": {},
     "output_type": "display_data"
    },
    {
     "data": {
      "text/plain": [
       "<Currency.RUB: 1>"
      ]
     },
     "metadata": {},
     "output_type": "display_data"
    },
    {
     "data": {
      "text/plain": [
       "<SecurityType.STOCK_ETF: 1>"
      ]
     },
     "metadata": {},
     "output_type": "display_data"
    },
    {
     "data": {
      "text/plain": [
       "<Period.DAY: 1>"
      ]
     },
     "metadata": {},
     "output_type": "display_data"
    }
   ],
   "source": [
    "sber_symbol = portfolio.assets[1].symbol\n",
    "\n",
    "display(sber_symbol.identifier)\n",
    "display(sber_symbol.short_name)\n",
    "display(sber_symbol.long_name)\n",
    "display(sber_symbol.isin)\n",
    "display(sber_symbol.exchange)\n",
    "display(sber_symbol.currency)\n",
    "display(sber_symbol.security_type)\n",
    "display(sber_symbol.period)"
   ]
  },
  {
   "cell_type": "markdown",
   "metadata": {},
   "source": [
    "### Period Bounds"
   ]
  },
  {
   "cell_type": "code",
   "execution_count": 13,
   "metadata": {},
   "outputs": [
    {
     "data": {
      "text/plain": [
       "Period('2011-11', 'M')"
      ]
     },
     "metadata": {},
     "output_type": "display_data"
    },
    {
     "data": {
      "text/plain": [
       "Period('2015-05', 'M')"
      ]
     },
     "metadata": {},
     "output_type": "display_data"
    }
   ],
   "source": [
    "display(portfolio.period_min)\n",
    "display(portfolio.period_max)"
   ]
  },
  {
   "cell_type": "markdown",
   "metadata": {},
   "source": [
    "### Inflation"
   ]
  },
  {
   "cell_type": "code",
   "execution_count": 14,
   "metadata": {},
   "outputs": [
    {
     "data": {
      "text/plain": [
       "0.0010930232558139534"
      ]
     },
     "metadata": {},
     "output_type": "display_data"
    },
    {
     "data": {
      "text/plain": [
       "0.013435467861744765"
      ]
     },
     "metadata": {},
     "output_type": "display_data"
    },
    {
     "data": {
      "text/plain": [
       "0.04781919078162633"
      ]
     },
     "metadata": {},
     "output_type": "display_data"
    },
    {
     "data": {
      "text/plain": [
       "-0.0010919309561331358"
      ]
     },
     "metadata": {},
     "output_type": "display_data"
    },
    {
     "data": {
      "text/plain": [
       "array([-0.001, -0.002,  0.004,  0.004,  0.008,  0.003, -0.001, -0.001,\n",
       "       -0.002,  0.006,  0.004,  0.   , -0.005, -0.003,  0.003,  0.008,\n",
       "        0.003, -0.001,  0.002,  0.002,  0.   ,  0.001,  0.001, -0.003,\n",
       "       -0.002,  0.   ,  0.004,  0.004,  0.006,  0.003,  0.003,  0.002,\n",
       "        0.   , -0.002,  0.001, -0.003, -0.005, -0.006, -0.005,  0.004,\n",
       "        0.006,  0.002,  0.005])"
      ]
     },
     "metadata": {},
     "output_type": "display_data"
    },
    {
     "data": {
      "text/plain": [
       "array([ 0.002,  0.   , -0.002,  0.001, -0.003, -0.005, -0.006, -0.005,\n",
       "        0.004,  0.006,  0.002,  0.005])"
      ]
     },
     "metadata": {},
     "output_type": "display_data"
    }
   ],
   "source": [
    "display(asset.inflation(kind='a_mean'))\n",
    "display(asset.inflation(kind='g_mean'))\n",
    "display(asset.inflation(kind='accumulated'))\n",
    "display(asset.inflation(kind='accumulated', years_ago=1))\n",
    "display(asset.inflation(kind='values'))\n",
    "display(asset.inflation(kind='values', years_ago=1))"
   ]
  },
  {
   "cell_type": "code",
   "execution_count": 15,
   "metadata": {},
   "outputs": [
    {
     "data": {
      "text/plain": [
       "0.0010930232558139534"
      ]
     },
     "metadata": {},
     "output_type": "display_data"
    },
    {
     "data": {
      "text/plain": [
       "0.013435467861744765"
      ]
     },
     "metadata": {},
     "output_type": "display_data"
    },
    {
     "data": {
      "text/plain": [
       "0.04781919078162633"
      ]
     },
     "metadata": {},
     "output_type": "display_data"
    },
    {
     "data": {
      "text/plain": [
       "-0.0010919309561331358"
      ]
     },
     "metadata": {},
     "output_type": "display_data"
    },
    {
     "data": {
      "text/plain": [
       "array([-0.001, -0.002,  0.004,  0.004,  0.008,  0.003, -0.001, -0.001,\n",
       "       -0.002,  0.006,  0.004,  0.   , -0.005, -0.003,  0.003,  0.008,\n",
       "        0.003, -0.001,  0.002,  0.002,  0.   ,  0.001,  0.001, -0.003,\n",
       "       -0.002,  0.   ,  0.004,  0.004,  0.006,  0.003,  0.003,  0.002,\n",
       "        0.   , -0.002,  0.001, -0.003, -0.005, -0.006, -0.005,  0.004,\n",
       "        0.006,  0.002,  0.005])"
      ]
     },
     "metadata": {},
     "output_type": "display_data"
    },
    {
     "data": {
      "text/plain": [
       "array([ 0.002,  0.   , -0.002,  0.001, -0.003, -0.005, -0.006, -0.005,\n",
       "        0.004,  0.006,  0.002,  0.005])"
      ]
     },
     "metadata": {},
     "output_type": "display_data"
    }
   ],
   "source": [
    "display(portfolio.inflation(kind='a_mean'))\n",
    "display(portfolio.inflation(kind='g_mean'))\n",
    "display(portfolio.inflation(kind='accumulated'))\n",
    "display(portfolio.inflation(kind='accumulated', years_ago=1))\n",
    "display(portfolio.inflation(kind='values'))\n",
    "display(portfolio.inflation(kind='values', years_ago=1))"
   ]
  },
  {
   "cell_type": "markdown",
   "metadata": {},
   "source": [
    "### Rate of Return"
   ]
  },
  {
   "cell_type": "code",
   "execution_count": 16,
   "metadata": {},
   "outputs": [
    {
     "data": {
      "text/plain": [
       "array([2.79519565, 2.4661372 , 2.96956663, 3.46075861, 3.23442966,\n",
       "       3.19963764, 2.51734158, 2.63248509, 2.78767619, 2.88479999,\n",
       "       2.94305056, 2.91163894, 2.94334519, 3.05998479, 3.64963017,\n",
       "       3.41506587, 3.18047575, 3.17092133, 3.13555539, 2.86404354,\n",
       "       2.89540014, 2.65374135, 3.02549691, 3.20448641, 3.10530375,\n",
       "       3.09112352, 2.68692119, 2.52870311, 2.34818744, 2.03090903,\n",
       "       2.43269076, 2.5125927 , 2.06006085, 1.98231325, 1.91740338,\n",
       "       1.75668233, 1.46486355, 0.97585427, 0.89222114, 1.23890599,\n",
       "       1.07552814, 1.48734404, 1.38753596])"
      ]
     },
     "metadata": {},
     "output_type": "display_data"
    },
    {
     "data": {
      "text/plain": [
       "array([ 0.        , -0.11772287,  0.20413683,  0.16540864, -0.06539865,\n",
       "       -0.01075677, -0.21324166,  0.04574012,  0.05895232,  0.03484042,\n",
       "        0.02019224, -0.01067315,  0.01088949,  0.03962824,  0.19269553,\n",
       "       -0.0642707 , -0.06869271, -0.00300409, -0.01115321, -0.08659131,\n",
       "        0.01094837, -0.083463  ,  0.14008734,  0.05916036, -0.03095119,\n",
       "       -0.00456645, -0.13076227, -0.05888453, -0.07138666, -0.1351163 ,\n",
       "        0.19783344,  0.03284509, -0.18010553, -0.03774044, -0.03274451,\n",
       "       -0.08382224, -0.16611927, -0.33382582, -0.08570248,  0.38856382,\n",
       "       -0.13187267,  0.38289644, -0.0671049 ])"
      ]
     },
     "metadata": {},
     "output_type": "display_data"
    },
    {
     "data": {
      "text/plain": [
       "array([ 0.        , -0.03969442,  0.09695871,  0.07109203, -0.0194634 ,\n",
       "       -0.01108942, -0.10213647,  0.02237352,  0.0075293 ,  0.02386722,\n",
       "        0.01285552, -0.01717884, -0.0096511 ,  0.02254456,  0.05545548,\n",
       "       -0.02314548, -0.02097944,  0.02915024,  0.00362728, -0.02712744,\n",
       "       -0.00626389, -0.00777208,  0.04413242,  0.03297456, -0.00073705,\n",
       "        0.00218676, -0.04317806, -0.01283942, -0.00687033, -0.03387616,\n",
       "        0.058087  ,  0.02033419, -0.04890946, -0.00350053, -0.02284654,\n",
       "       -0.02852365, -0.0475667 , -0.11228914, -0.06711575,  0.12996419,\n",
       "       -0.05465876,  0.15050455, -0.02808975])"
      ]
     },
     "metadata": {},
     "output_type": "display_data"
    }
   ],
   "source": [
    "display(asset.close())\n",
    "display(asset.rate_of_return())\n",
    "display(portfolio.rate_of_return())"
   ]
  },
  {
   "cell_type": "markdown",
   "metadata": {},
   "source": [
    "### Risk"
   ]
  },
  {
   "cell_type": "code",
   "execution_count": 17,
   "metadata": {},
   "outputs": [
    {
     "name": "stderr",
     "output_type": "stream",
     "text": [
      "/Users/ycomb/projects/rostsber/yapo/target/dist/yapo-0.1.0.dev/model/Portfolio.py:129: FutureWarning: 'period' is both an index level and a column label.\n",
      "Defaulting to column, but this will raise an ambiguity error in a future version\n",
      "  self.values = self.values.merge(currency_rate, on='period', how='left', suffixes=('', '_currency_rate'))\n",
      "/Users/ycomb/projects/rostsber/yapo/target/dist/yapo-0.1.0.dev/model/Portfolio.py:132: FutureWarning: 'period' is both an index level and a column label.\n",
      "Defaulting to column, but this will raise an ambiguity error in a future version\n",
      "  self.values.sort_values(by='period', ascending=True, inplace=True)\n"
     ]
    },
    {
     "data": {
      "text/plain": [
       "0.4713852459773697"
      ]
     },
     "metadata": {},
     "output_type": "display_data"
    },
    {
     "data": {
      "text/plain": [
       "0.4713852459773697"
      ]
     },
     "metadata": {},
     "output_type": "display_data"
    },
    {
     "data": {
      "text/plain": [
       "0.1394167446351344"
      ]
     },
     "metadata": {},
     "output_type": "display_data"
    }
   ],
   "source": [
    "display(asset.risk())\n",
    "display(asset.risk(period='year'))\n",
    "display(asset.risk(period='month'))"
   ]
  },
  {
   "cell_type": "code",
   "execution_count": 18,
   "metadata": {},
   "outputs": [
    {
     "data": {
      "text/plain": [
       "0.17914534773149834"
      ]
     },
     "metadata": {},
     "output_type": "display_data"
    },
    {
     "data": {
      "text/plain": [
       "0.17914534773149834"
      ]
     },
     "metadata": {},
     "output_type": "display_data"
    },
    {
     "data": {
      "text/plain": [
       "0.051498041992400406"
      ]
     },
     "metadata": {},
     "output_type": "display_data"
    }
   ],
   "source": [
    "display(portfolio.risk())\n",
    "display(portfolio.risk(period='year'))\n",
    "display(portfolio.risk(period='month'))"
   ]
  },
  {
   "cell_type": "markdown",
   "metadata": {},
   "source": [
    "### Accumulated Rate of Return"
   ]
  },
  {
   "cell_type": "code",
   "execution_count": 19,
   "metadata": {},
   "outputs": [
    {
     "data": {
      "text/plain": [
       "array([ 0.        , -0.11772287,  0.06238239,  0.23810962,  0.15713892,\n",
       "        0.14469184, -0.09940416, -0.05821079, -0.00269014,  0.03205655,\n",
       "        0.05289609,  0.04165837,  0.05300149,  0.09473009,  0.30567969,\n",
       "        0.22176273,  0.13783654,  0.13441838,  0.12176598,  0.02463079,\n",
       "        0.03584883, -0.05060623,  0.08239182,  0.14642652,  0.11094326,\n",
       "        0.10587018, -0.03873591, -0.09533949, -0.15992019, -0.27342866,\n",
       "       -0.12968856, -0.1011031 , -0.26299941, -0.29081413, -0.31403607,\n",
       "       -0.37153511, -0.47593524, -0.65088159, -0.6808019 , -0.55677307,\n",
       "       -0.61522259, -0.46789269, -0.5035997 ])"
      ]
     },
     "metadata": {},
     "output_type": "display_data"
    },
    {
     "data": {
      "text/plain": [
       "array([ 0.        , -0.03969442,  0.05341556,  0.12830501,  0.10634436,\n",
       "        0.09407563, -0.01766939,  0.0043088 ,  0.01187054,  0.03602107,\n",
       "        0.04933966,  0.03131322,  0.02135991,  0.04438601,  0.10230294,\n",
       "        0.0767896 ,  0.05419916,  0.08492932,  0.08886466,  0.05932655,\n",
       "        0.05269104,  0.04450944,  0.09060617,  0.12656844,  0.1257381 ,\n",
       "        0.12819981,  0.07948633,  0.06562635,  0.05830515,  0.02245384,\n",
       "        0.08184511,  0.10384356,  0.04985516,  0.04618011,  0.02227852,\n",
       "       -0.0068806 , -0.05412001, -0.16033206, -0.216687  , -0.11488437,\n",
       "       -0.16326369, -0.03733107, -0.0643722 ])"
      ]
     },
     "metadata": {},
     "output_type": "display_data"
    }
   ],
   "source": [
    "display(asset.accumulated_rate_of_return())\n",
    "display(portfolio.accumulated_rate_of_return())"
   ]
  },
  {
   "cell_type": "code",
   "execution_count": 20,
   "metadata": {},
   "outputs": [
    {
     "data": {
      "text/plain": [
       "array([ 0.001001  , -0.11506985,  0.06133166,  0.23195726,  0.14225091,\n",
       "        0.12658422, -0.11276323, -0.07125217, -0.01452939,  0.01372248,\n",
       "        0.03007152,  0.01907741,  0.0353514 ,  0.07961941,  0.28380583,\n",
       "        0.19176064,  0.10657565,  0.10435576,  0.08985893, -0.00650038,\n",
       "        0.00437682, -0.08037112,  0.04740983,  0.11271312,  0.0804342 ,\n",
       "        0.07550044, -0.068859  , -0.12718008, -0.19432184, -0.3052663 ,\n",
       "       -0.1703138 , -0.14477314, -0.29880423, -0.3239155 , -0.34670684,\n",
       "       -0.39966634, -0.49687771, -0.66280978, -0.69015862, -0.57147955,\n",
       "       -0.63020843, -0.48963729, -0.52625386])"
      ]
     },
     "metadata": {},
     "output_type": "display_data"
    },
    {
     "data": {
      "text/plain": [
       "array([ 1.00100100e-03, -3.68067680e-02,  5.23737066e-02,  1.22698292e-01,\n",
       "        9.21098843e-02,  7.67687080e-02, -3.22408929e-02, -9.59831548e-03,\n",
       "       -1.41568125e-04,  1.76165706e-02,  2.65921891e-02,  8.95652429e-03,\n",
       "        4.24018002e-03,  2.99702393e-02,  8.38362214e-02,  5.03475295e-02,\n",
       "        2.52361188e-02,  5.61781778e-02,  5.78934418e-02,  2.71412154e-02,\n",
       "        2.07073165e-02,  1.17625310e-02,  5.53587056e-02,  9.34390164e-02,\n",
       "        9.48227393e-02,  9.72168486e-02,  4.56585172e-02,  2.81203847e-02,\n",
       "        1.49670596e-02, -2.23490764e-02,  3.13456935e-02,  5.02168433e-02,\n",
       "       -1.14869912e-03, -2.65051371e-03, -2.64100836e-02, -5.13344273e-02,\n",
       "       -9.19189115e-02, -1.89020678e-01, -2.39648406e-01, -1.44252918e-01,\n",
       "       -1.95851883e-01, -7.66705916e-02, -1.07071325e-01])"
      ]
     },
     "metadata": {},
     "output_type": "display_data"
    }
   ],
   "source": [
    "display(asset.accumulated_rate_of_return(real=True))\n",
    "display(portfolio.accumulated_rate_of_return(real=True))"
   ]
  },
  {
   "cell_type": "markdown",
   "metadata": {},
   "source": [
    "### Compound Annual Growth Rate"
   ]
  },
  {
   "cell_type": "code",
   "execution_count": 21,
   "metadata": {},
   "outputs": [
    {
     "data": {
      "text/plain": [
       "-0.18135640623065508"
      ]
     },
     "metadata": {},
     "output_type": "display_data"
    },
    {
     "data": {
      "text/plain": [
       "-0.42962912224351035"
      ]
     },
     "metadata": {},
     "output_type": "display_data"
    },
    {
     "data": {
      "text/plain": [
       "array([-0.18135641, -0.42962912, -0.33478063, -0.42962912])"
      ]
     },
     "metadata": {},
     "output_type": "display_data"
    }
   ],
   "source": [
    "display(asset.compound_annual_growth_rate())\n",
    "display(asset.compound_annual_growth_rate(years_ago=1))\n",
    "display(asset.compound_annual_growth_rate(years_ago=[None, 1, 2, 1]))"
   ]
  },
  {
   "cell_type": "code",
   "execution_count": 22,
   "metadata": {},
   "outputs": [
    {
     "data": {
      "text/plain": [
       "-0.19220945020149405"
      ]
     },
     "metadata": {},
     "output_type": "display_data"
    },
    {
     "data": {
      "text/plain": [
       "-0.4290056358214863"
      ]
     },
     "metadata": {},
     "output_type": "display_data"
    },
    {
     "data": {
      "text/plain": [
       "array([-0.19220945, -0.42900564, -0.34069298, -0.42900564])"
      ]
     },
     "metadata": {},
     "output_type": "display_data"
    }
   ],
   "source": [
    "display(asset.compound_annual_growth_rate(real=True))\n",
    "display(asset.compound_annual_growth_rate(years_ago=1, real=True))\n",
    "display(asset.compound_annual_growth_rate(years_ago=[None, 1, 2, 1], real=True))"
   ]
  },
  {
   "cell_type": "code",
   "execution_count": null,
   "metadata": {},
   "outputs": [],
   "source": []
  }
 ],
 "metadata": {
  "kernelspec": {
   "display_name": "Python 3",
   "language": "python",
   "name": "python3"
  },
  "language_info": {
   "codemirror_mode": {
    "name": "ipython",
    "version": 3
   },
   "file_extension": ".py",
   "mimetype": "text/x-python",
   "name": "python",
   "nbconvert_exporter": "python",
   "pygments_lexer": "ipython3",
   "version": "3.6.5"
  },
  "varInspector": {
   "cols": {
    "lenName": 16,
    "lenType": 16,
    "lenVar": 40
   },
   "kernels_config": {
    "python": {
     "delete_cmd_postfix": "",
     "delete_cmd_prefix": "del ",
     "library": "var_list.py",
     "varRefreshCmd": "print(var_dic_list())"
    },
    "r": {
     "delete_cmd_postfix": ") ",
     "delete_cmd_prefix": "rm(",
     "library": "var_list.r",
     "varRefreshCmd": "cat(var_dic_list()) "
    }
   },
   "types_to_exclude": [
    "module",
    "function",
    "builtin_function_or_method",
    "instance",
    "_Feature"
   ],
   "window_display": false
  }
 },
 "nbformat": 4,
 "nbformat_minor": 2
}
