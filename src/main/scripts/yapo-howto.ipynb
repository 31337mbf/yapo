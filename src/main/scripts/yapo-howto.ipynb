{
 "cells": [
  {
   "cell_type": "code",
   "execution_count": 1,
   "metadata": {},
   "outputs": [],
   "source": [
    "import yapo\n",
    "from IPython.display import display"
   ]
  },
  {
   "cell_type": "markdown",
   "metadata": {},
   "source": [
    "Get all existing symbols names\n",
    "---"
   ]
  },
  {
   "cell_type": "code",
   "execution_count": 2,
   "metadata": {},
   "outputs": [
    {
     "data": {
      "text/plain": [
       "['cbr', 'infl', 'micex', 'nlu', 'quandl']"
      ]
     },
     "execution_count": 2,
     "metadata": {},
     "output_type": "execute_result"
    }
   ],
   "source": [
    "yapo.available_names() # available namespaces"
   ]
  },
  {
   "cell_type": "code",
   "execution_count": 3,
   "metadata": {},
   "outputs": [
    {
     "data": {
      "text/plain": [
       "[{'fin_sym_id': micex/MCFTR, 'short_name': 'MICEX Total Return'},\n",
       " {'fin_sym_id': micex/ABBN, 'short_name': 'БанкАстаны'},\n",
       " {'fin_sym_id': micex/ABRD, 'short_name': 'АбрауДюрсо'},\n",
       " {'fin_sym_id': micex/ACKO, 'short_name': 'АСКО ао'},\n",
       " {'fin_sym_id': micex/AFKS, 'short_name': 'Система ао'}]"
      ]
     },
     "execution_count": 3,
     "metadata": {},
     "output_type": "execute_result"
    }
   ],
   "source": [
    "yapo.available_names(namespace='micex')[:5] # get symbols in the namespace"
   ]
  },
  {
   "cell_type": "code",
   "execution_count": 4,
   "metadata": {},
   "outputs": [
    {
     "data": {
      "text/plain": [
       "[{'fin_sym_id': infl/RUB, 'short_name': 'Инфляция РФ'},\n",
       " {'fin_sym_id': infl/EUR, 'short_name': 'Инфляция ЕС'},\n",
       " {'fin_sym_id': infl/USD, 'short_name': 'Инфляция США'},\n",
       " {'fin_sym_id': nlu/1002, 'short_name': 'ВТБ-Фонд Акций'},\n",
       " {'fin_sym_id': nlu/1003, 'short_name': 'ВТБ-Фонд Металлургии'},\n",
       " {'fin_sym_id': nlu/1004, 'short_name': 'ВТБ-Фонд Нефтегазового сектора'},\n",
       " {'fin_sym_id': nlu/1005,\n",
       "  'short_name': 'ВТБ – Фонд Еврооблигаций развивающихся рынков'}]"
      ]
     },
     "execution_count": 4,
     "metadata": {},
     "output_type": "execute_result"
    }
   ],
   "source": [
    "yapo.available_names(namespaces=['infl', 'nlu'])[:7] # get symbols in several namespaces"
   ]
  },
  {
   "cell_type": "markdown",
   "metadata": {},
   "source": [
    "Fetch financial symbols information\n",
    "---"
   ]
  },
  {
   "cell_type": "code",
   "execution_count": 5,
   "metadata": {},
   "outputs": [
    {
     "data": {
      "text/plain": [
       "TimeSeries(start_period=2017-10, end_period=2017-12, derivative=0, values=[253.69276824 261.44709513 264.60713592]"
      ]
     },
     "execution_count": 5,
     "metadata": {},
     "output_type": "execute_result"
    }
   ],
   "source": [
    "asset = yapo.portfolio_asset(name='quandl/SPY', \n",
    "                             start_period='2017-10', end_period='2017-12', currency='usd')\n",
    "asset.values"
   ]
  },
  {
   "cell_type": "code",
   "execution_count": 6,
   "metadata": {},
   "outputs": [
    {
     "data": {
      "text/plain": [
       "Portfolio(\n",
       "     assets: micex/FXRU,\n",
       "     currency: Currency.RUB,\n",
       "     start_period: 2017-01,\n",
       "     end_period: 2017-12\n",
       ")"
      ]
     },
     "execution_count": 6,
     "metadata": {},
     "output_type": "execute_result"
    }
   ],
   "source": [
    "yapo.portfolio(assets={'micex/FXRU': 1/3},\n",
    "               start_period='2017-1', end_period='2017-12',\n",
    "               currency='RUB')"
   ]
  },
  {
   "cell_type": "code",
   "execution_count": 7,
   "metadata": {},
   "outputs": [
    {
     "data": {
      "text/plain": [
       "['assets',\n",
       " 'assets_weighted',\n",
       " 'compound_annual_growth_rate',\n",
       " 'currency',\n",
       " 'inflation',\n",
       " 'period',\n",
       " 'period_max',\n",
       " 'period_min',\n",
       " 'rate_of_return',\n",
       " 'risk',\n",
       " 'weights']"
      ]
     },
     "execution_count": 7,
     "metadata": {},
     "output_type": "execute_result"
    }
   ],
   "source": [
    "port = yapo.portfolio(assets={'quandl/SPY': .5, 'nlu/449': .5},\n",
    "                      start_period='2017-10', end_period='2017-12', currency='USD')\n",
    "[m for m in dir(port) if m[:2] != '__']"
   ]
  },
  {
   "cell_type": "code",
   "execution_count": 8,
   "metadata": {},
   "outputs": [
    {
     "data": {
      "text/plain": [
       "{'_FinancialSymbol__values': <function QuandlFinancialSymbolsSource.fetch_financial_symbol.<locals>.<lambda> at 0x11745ad08>,\n",
       " 'adjusted_close': True,\n",
       " 'currency': <Currency.USD: 2>,\n",
       " 'end_period': Timestamp('2018-08-13 00:00:00'),\n",
       " 'exchange': 'NYSE Arca',\n",
       " 'identifier': quandl/VNQ,\n",
       " 'isin': None,\n",
       " 'long_name': None,\n",
       " 'period': <Period.DAY: 1>,\n",
       " 'security_type': <SecurityType.STOCK_ETF: 1>,\n",
       " 'short_name': 'Vanguard Real Estate',\n",
       " 'start_period': Timestamp('2004-09-29 00:00:00')}"
      ]
     },
     "execution_count": 8,
     "metadata": {},
     "output_type": "execute_result"
    }
   ],
   "source": [
    "yapo.information(name='quandl/VNQ')"
   ]
  },
  {
   "cell_type": "code",
   "execution_count": 9,
   "metadata": {},
   "outputs": [
    {
     "data": {
      "text/plain": [
       "['Сбербанк', 'Microsoft Corporation', 'Первый фонд фондов']"
      ]
     },
     "execution_count": 9,
     "metadata": {},
     "output_type": "execute_result"
    }
   ],
   "source": [
    "infos = yapo.information(names=['micex/SBER', 'quandl/MSFT', 'nlu/449'])\n",
    "[i.short_name for i in infos]"
   ]
  },
  {
   "cell_type": "markdown",
   "metadata": {},
   "source": [
    "Portfolio and Asset Interactions\n",
    "---"
   ]
  },
  {
   "cell_type": "code",
   "execution_count": 10,
   "metadata": {},
   "outputs": [],
   "source": [
    "asset = yapo.portfolio_asset(name='micex/SBER',\n",
    "                             start_period='2011-3', end_period='2015-5', currency='USD')\n",
    "portfolio = yapo.portfolio(assets={'quandl/MSFT': .2,\n",
    "                                   'micex/SBER': .2,\n",
    "                                   'nlu/449': .2,\n",
    "                                   'cbr/USD': .2, \n",
    "                                   'cbr/EUR': .2},\n",
    "                           start_period='2011-3', end_period='2015-5', currency='USD')"
   ]
  },
  {
   "cell_type": "code",
   "execution_count": 11,
   "metadata": {},
   "outputs": [
    {
     "data": {
      "text/plain": [
       "[(PortfolioAsset(\n",
       "       symbol: quandl/MSFT,\n",
       "       currency: Currency.USD,\n",
       "       period_min: 2011-11,\n",
       "       period_max: 2015-05\n",
       "  ), 0.2), (PortfolioAsset(\n",
       "       symbol: micex/SBER,\n",
       "       currency: Currency.USD,\n",
       "       period_min: 2011-11,\n",
       "       period_max: 2015-05\n",
       "  ), 0.2), (PortfolioAsset(\n",
       "       symbol: nlu/449,\n",
       "       currency: Currency.USD,\n",
       "       period_min: 2011-11,\n",
       "       period_max: 2015-05\n",
       "  ), 0.2), (PortfolioAsset(\n",
       "       symbol: cbr/USD,\n",
       "       currency: Currency.USD,\n",
       "       period_min: 2011-11,\n",
       "       period_max: 2015-05\n",
       "  ), 0.2), (PortfolioAsset(\n",
       "       symbol: cbr/EUR,\n",
       "       currency: Currency.USD,\n",
       "       period_min: 2011-11,\n",
       "       period_max: 2015-05\n",
       "  ), 0.2)]"
      ]
     },
     "metadata": {},
     "output_type": "display_data"
    }
   ],
   "source": [
    "display(portfolio.assets_weighted())"
   ]
  },
  {
   "cell_type": "code",
   "execution_count": 12,
   "metadata": {},
   "outputs": [
    {
     "data": {
      "text/plain": [
       "PortfolioAsset(\n",
       "     symbol: micex/SBER,\n",
       "     currency: Currency.USD,\n",
       "     period_min: 2011-11,\n",
       "     period_max: 2015-05\n",
       ")"
      ]
     },
     "metadata": {},
     "output_type": "display_data"
    },
    {
     "data": {
      "text/plain": [
       "PortfolioAsset(\n",
       "     symbol: quandl/MSFT,\n",
       "     currency: Currency.USD,\n",
       "     period_min: 2011-11,\n",
       "     period_max: 2015-05\n",
       ")"
      ]
     },
     "metadata": {},
     "output_type": "display_data"
    },
    {
     "data": {
      "text/plain": [
       "Portfolio(\n",
       "     assets: quandl/MSFT, micex/SBER, nlu/449, cbr/USD, cbr/EUR,\n",
       "     currency: Currency.USD,\n",
       "     start_period: 2011-11,\n",
       "     end_period: 2015-05\n",
       ")"
      ]
     },
     "metadata": {},
     "output_type": "display_data"
    }
   ],
   "source": [
    "display(asset)\n",
    "display(portfolio.assets[0])\n",
    "display(portfolio)"
   ]
  },
  {
   "cell_type": "markdown",
   "metadata": {},
   "source": [
    "### Asset Properties: Names, Exchange, Currency, Security Type"
   ]
  },
  {
   "cell_type": "code",
   "execution_count": 13,
   "metadata": {},
   "outputs": [
    {
     "data": {
      "text/plain": [
       "micex/SBER"
      ]
     },
     "metadata": {},
     "output_type": "display_data"
    },
    {
     "data": {
      "text/plain": [
       "'Сбербанк'"
      ]
     },
     "metadata": {},
     "output_type": "display_data"
    },
    {
     "data": {
      "text/plain": [
       "'Сбербанк России ПАО ао'"
      ]
     },
     "metadata": {},
     "output_type": "display_data"
    },
    {
     "data": {
      "text/plain": [
       "'RU0009029540'"
      ]
     },
     "metadata": {},
     "output_type": "display_data"
    },
    {
     "data": {
      "text/plain": [
       "'MICEX'"
      ]
     },
     "metadata": {},
     "output_type": "display_data"
    },
    {
     "data": {
      "text/plain": [
       "<Currency.RUB: 1>"
      ]
     },
     "metadata": {},
     "output_type": "display_data"
    },
    {
     "data": {
      "text/plain": [
       "<SecurityType.STOCK_ETF: 1>"
      ]
     },
     "metadata": {},
     "output_type": "display_data"
    },
    {
     "data": {
      "text/plain": [
       "<Period.DAY: 1>"
      ]
     },
     "metadata": {},
     "output_type": "display_data"
    }
   ],
   "source": [
    "sber_symbol = portfolio.assets[1].symbol\n",
    "\n",
    "display(sber_symbol.identifier)\n",
    "display(sber_symbol.short_name)\n",
    "display(sber_symbol.long_name)\n",
    "display(sber_symbol.isin)\n",
    "display(sber_symbol.exchange)\n",
    "display(sber_symbol.currency)\n",
    "display(sber_symbol.security_type)\n",
    "display(sber_symbol.period)"
   ]
  },
  {
   "cell_type": "markdown",
   "metadata": {},
   "source": [
    "### Period Bounds"
   ]
  },
  {
   "cell_type": "code",
   "execution_count": 14,
   "metadata": {},
   "outputs": [
    {
     "data": {
      "text/plain": [
       "Period('2011-11', 'M')"
      ]
     },
     "metadata": {},
     "output_type": "display_data"
    },
    {
     "data": {
      "text/plain": [
       "Period('2015-05', 'M')"
      ]
     },
     "metadata": {},
     "output_type": "display_data"
    }
   ],
   "source": [
    "display(portfolio.period_min)\n",
    "display(portfolio.period_max)"
   ]
  },
  {
   "cell_type": "markdown",
   "metadata": {},
   "source": [
    "### Inflation"
   ]
  },
  {
   "cell_type": "code",
   "execution_count": 15,
   "metadata": {},
   "outputs": [
    {
     "data": {
      "text/plain": [
       "TimeValue(start_period=2011-12, end_period=2015-05, derivative=1, values=0.0011949761904761903"
      ]
     },
     "metadata": {},
     "output_type": "display_data"
    },
    {
     "data": {
      "text/plain": [
       "TimeValue(start_period=2011-12, end_period=2015-05, derivative=1, values=0.014359403481540856"
      ]
     },
     "metadata": {},
     "output_type": "display_data"
    },
    {
     "data": {
      "text/plain": [
       "TimeValue(start_period=2011-12, end_period=2015-05, derivative=1, values=0.05116649259491268"
      ]
     },
     "metadata": {},
     "output_type": "display_data"
    },
    {
     "data": {
      "text/plain": [
       "TimeValue(start_period=2014-06, end_period=2015-05, derivative=1, values=-0.00039849652052259543"
      ]
     },
     "metadata": {},
     "output_type": "display_data"
    },
    {
     "data": {
      "text/plain": [
       "TimeSeries(start_period=2011-12, end_period=2015-05, derivative=1, values=[-2.467e-03  4.400e-03  4.403e-03  7.595e-03  3.021e-03 -1.173e-03\n",
       " -1.466e-03 -1.630e-03  5.565e-03  4.462e-03 -3.890e-04 -4.738e-03\n",
       " -2.693e-03  2.957e-03  8.190e-03  2.615e-03 -1.040e-03  1.780e-03\n",
       "  2.400e-03  3.940e-04  1.203e-03  1.163e-03 -2.575e-03 -2.042e-03\n",
       " -8.600e-05  3.720e-03  3.698e-03  6.440e-03  3.297e-03  3.493e-03\n",
       "  1.862e-03 -3.900e-04 -1.671e-03  7.530e-04 -2.512e-03 -5.399e-03\n",
       " -5.670e-03 -4.706e-03  4.343e-03  5.952e-03  2.033e-03  5.097e-03]"
      ]
     },
     "metadata": {},
     "output_type": "display_data"
    },
    {
     "data": {
      "text/plain": [
       "TimeSeries(start_period=2014-06, end_period=2015-05, derivative=1, values=[ 0.001862 -0.00039  -0.001671  0.000753 -0.002512 -0.005399 -0.00567\n",
       " -0.004706  0.004343  0.005952  0.002033  0.005097]"
      ]
     },
     "metadata": {},
     "output_type": "display_data"
    }
   ],
   "source": [
    "display(asset.inflation(kind='a_mean'))\n",
    "display(asset.inflation(kind='g_mean'))\n",
    "display(asset.inflation(kind='accumulated'))\n",
    "display(asset.inflation(kind='accumulated', years_ago=1))\n",
    "display(asset.inflation(kind='values'))\n",
    "display(asset.inflation(kind='values', years_ago=1))"
   ]
  },
  {
   "cell_type": "code",
   "execution_count": 16,
   "metadata": {},
   "outputs": [
    {
     "data": {
      "text/plain": [
       "TimeValue(start_period=2011-12, end_period=2015-05, derivative=1, values=0.0011949761904761903"
      ]
     },
     "metadata": {},
     "output_type": "display_data"
    },
    {
     "data": {
      "text/plain": [
       "TimeValue(start_period=2011-12, end_period=2015-05, derivative=1, values=0.014359403481540856"
      ]
     },
     "metadata": {},
     "output_type": "display_data"
    },
    {
     "data": {
      "text/plain": [
       "TimeValue(start_period=2011-12, end_period=2015-05, derivative=1, values=0.05116649259491268"
      ]
     },
     "metadata": {},
     "output_type": "display_data"
    },
    {
     "data": {
      "text/plain": [
       "TimeValue(start_period=2014-06, end_period=2015-05, derivative=1, values=-0.00039849652052259543"
      ]
     },
     "metadata": {},
     "output_type": "display_data"
    },
    {
     "data": {
      "text/plain": [
       "TimeSeries(start_period=2011-12, end_period=2015-05, derivative=1, values=[-2.467e-03  4.400e-03  4.403e-03  7.595e-03  3.021e-03 -1.173e-03\n",
       " -1.466e-03 -1.630e-03  5.565e-03  4.462e-03 -3.890e-04 -4.738e-03\n",
       " -2.693e-03  2.957e-03  8.190e-03  2.615e-03 -1.040e-03  1.780e-03\n",
       "  2.400e-03  3.940e-04  1.203e-03  1.163e-03 -2.575e-03 -2.042e-03\n",
       " -8.600e-05  3.720e-03  3.698e-03  6.440e-03  3.297e-03  3.493e-03\n",
       "  1.862e-03 -3.900e-04 -1.671e-03  7.530e-04 -2.512e-03 -5.399e-03\n",
       " -5.670e-03 -4.706e-03  4.343e-03  5.952e-03  2.033e-03  5.097e-03]"
      ]
     },
     "metadata": {},
     "output_type": "display_data"
    },
    {
     "data": {
      "text/plain": [
       "TimeSeries(start_period=2014-06, end_period=2015-05, derivative=1, values=[ 0.001862 -0.00039  -0.001671  0.000753 -0.002512 -0.005399 -0.00567\n",
       " -0.004706  0.004343  0.005952  0.002033  0.005097]"
      ]
     },
     "metadata": {},
     "output_type": "display_data"
    }
   ],
   "source": [
    "display(portfolio.inflation(kind='a_mean'))\n",
    "display(portfolio.inflation(kind='g_mean'))\n",
    "display(portfolio.inflation(kind='accumulated'))\n",
    "display(portfolio.inflation(kind='accumulated', years_ago=1))\n",
    "display(portfolio.inflation(kind='values'))\n",
    "display(portfolio.inflation(kind='values', years_ago=1))"
   ]
  },
  {
   "cell_type": "markdown",
   "metadata": {},
   "source": [
    "### Rate of Return"
   ]
  },
  {
   "cell_type": "code",
   "execution_count": 17,
   "metadata": {},
   "outputs": [
    {
     "data": {
      "text/plain": [
       "TimeSeries(start_period=2011-11, end_period=2015-05, derivative=0, values=[2.79519565 2.4661372  2.96956663 3.46075861 3.23442966 3.19963764\n",
       " 2.51734158 2.63248509 2.78767619 2.88479999 2.94305056 2.91163894\n",
       " 2.94334519 3.05998479 3.64963017 3.41506587 3.18047575 3.17092133\n",
       " 3.13555539 2.86404354 2.89540014 2.65374135 3.02549691 3.20448641\n",
       " 3.10530375 3.09112352 2.68692119 2.52870311 2.34818744 2.03090903\n",
       " 2.43269076 2.5125927  2.06006085 1.98231325 1.91740338 1.75668233\n",
       " 1.46486355 0.97585427 0.89222114 1.23890599 1.07552814 1.48734404\n",
       " 1.38753596]"
      ]
     },
     "metadata": {},
     "output_type": "display_data"
    },
    {
     "data": {
      "text/plain": [
       "TimeSeries(start_period=2011-12, end_period=2015-05, derivative=1, values=[-0.11772287  0.20413683  0.16540864 -0.06539865 -0.01075677 -0.21324166\n",
       "  0.04574012  0.05895232  0.03484042  0.02019224 -0.01067315  0.01088949\n",
       "  0.03962824  0.19269553 -0.0642707  -0.06869271 -0.00300409 -0.01115321\n",
       " -0.08659131  0.01094837 -0.083463    0.14008734  0.05916036 -0.03095119\n",
       " -0.00456645 -0.13076227 -0.05888453 -0.07138666 -0.1351163   0.19783344\n",
       "  0.03284509 -0.18010553 -0.03774044 -0.03274451 -0.08382224 -0.16611927\n",
       " -0.33382582 -0.08570248  0.38856382 -0.13187267  0.38289644 -0.0671049 ]"
      ]
     },
     "metadata": {},
     "output_type": "display_data"
    },
    {
     "data": {
      "text/plain": [
       "TimeSeries(start_period=2011-12, end_period=2015-05, derivative=1, values=[-0.03969442  0.09695871  0.07109203 -0.0194634  -0.01108942 -0.10213647\n",
       "  0.02237352  0.0075293   0.02386722  0.01285552 -0.01717884 -0.0096511\n",
       "  0.02254456  0.05545548 -0.02314548 -0.02097944  0.02915024  0.00362728\n",
       " -0.02712744 -0.00626389 -0.00777208  0.04413242  0.03297456 -0.00073705\n",
       "  0.00218676 -0.04317806 -0.01283942 -0.00687033 -0.03387616  0.058087\n",
       "  0.02033419 -0.04890946 -0.00350053 -0.02284654 -0.02852365 -0.0475667\n",
       " -0.11228914 -0.06711575  0.12996419 -0.05465876  0.15050455 -0.02808975]"
      ]
     },
     "metadata": {},
     "output_type": "display_data"
    }
   ],
   "source": [
    "display(asset.close())\n",
    "display(asset.rate_of_return())\n",
    "display(portfolio.rate_of_return())"
   ]
  },
  {
   "cell_type": "markdown",
   "metadata": {},
   "source": [
    "### Risk"
   ]
  },
  {
   "cell_type": "code",
   "execution_count": 18,
   "metadata": {},
   "outputs": [
    {
     "data": {
      "text/plain": [
       "TimeValue(start_period=2011-12, end_period=2015-05, derivative=1, values=0.4713852459773697"
      ]
     },
     "metadata": {},
     "output_type": "display_data"
    },
    {
     "data": {
      "text/plain": [
       "TimeValue(start_period=2011-12, end_period=2015-05, derivative=1, values=0.4713852459773697"
      ]
     },
     "metadata": {},
     "output_type": "display_data"
    },
    {
     "data": {
      "text/plain": [
       "TimeValue(start_period=2011-12, end_period=2015-05, derivative=1, values=0.1394167446351344"
      ]
     },
     "metadata": {},
     "output_type": "display_data"
    }
   ],
   "source": [
    "display(asset.risk())\n",
    "display(asset.risk(period='year'))\n",
    "display(asset.risk(period='month'))"
   ]
  },
  {
   "cell_type": "code",
   "execution_count": 19,
   "metadata": {},
   "outputs": [
    {
     "data": {
      "text/plain": [
       "TimeValue(start_period=2011-12, end_period=2015-05, derivative=1, values=0.17914534773149834"
      ]
     },
     "metadata": {},
     "output_type": "display_data"
    },
    {
     "data": {
      "text/plain": [
       "TimeValue(start_period=2011-12, end_period=2015-05, derivative=1, values=0.17914534773149834"
      ]
     },
     "metadata": {},
     "output_type": "display_data"
    },
    {
     "data": {
      "text/plain": [
       "TimeValue(start_period=2011-12, end_period=2015-05, derivative=1, values=0.05149804199240039"
      ]
     },
     "metadata": {},
     "output_type": "display_data"
    }
   ],
   "source": [
    "display(portfolio.risk())\n",
    "display(portfolio.risk(period='year'))\n",
    "display(portfolio.risk(period='month'))"
   ]
  },
  {
   "cell_type": "markdown",
   "metadata": {},
   "source": [
    "### Compound Annual Growth Rate"
   ]
  },
  {
   "cell_type": "code",
   "execution_count": 20,
   "metadata": {},
   "outputs": [
    {
     "data": {
      "text/plain": [
       "TimeValue(start_period=2011-12, end_period=2015-05, derivative=1, values=-0.18135640623065508"
      ]
     },
     "metadata": {},
     "output_type": "display_data"
    },
    {
     "data": {
      "text/plain": [
       "TimeValue(start_period=2014-06, end_period=2015-05, derivative=1, values=-0.42962912224351035"
      ]
     },
     "metadata": {},
     "output_type": "display_data"
    },
    {
     "data": {
      "text/plain": [
       "array([TimeValue(start_period=2011-12, end_period=2015-05, derivative=1, values=-0.18135640623065508,\n",
       "       TimeValue(start_period=2014-06, end_period=2015-05, derivative=1, values=-0.42962912224351035,\n",
       "       TimeValue(start_period=2013-06, end_period=2015-05, derivative=1, values=-0.3347806320271496,\n",
       "       TimeValue(start_period=2014-06, end_period=2015-05, derivative=1, values=-0.42962912224351035],\n",
       "      dtype=object)"
      ]
     },
     "metadata": {},
     "output_type": "display_data"
    }
   ],
   "source": [
    "display(asset.compound_annual_growth_rate())\n",
    "display(asset.compound_annual_growth_rate(years_ago=1))\n",
    "display(asset.compound_annual_growth_rate(years_ago=[None, 1, 2, 1]))"
   ]
  },
  {
   "cell_type": "code",
   "execution_count": 21,
   "metadata": {},
   "outputs": [
    {
     "data": {
      "text/plain": [
       "TimeValue(start_period=2011-12, end_period=2015-05, derivative=1, values=-0.19294523128631647"
      ]
     },
     "metadata": {},
     "output_type": "display_data"
    },
    {
     "data": {
      "text/plain": [
       "TimeValue(start_period=2014-06, end_period=2015-05, derivative=1, values=-0.42940174082261195"
      ]
     },
     "metadata": {},
     "output_type": "display_data"
    },
    {
     "data": {
      "text/plain": [
       "array([TimeValue(start_period=2011-12, end_period=2015-05, derivative=1, values=-0.19294523128631647,\n",
       "       TimeValue(start_period=2014-06, end_period=2015-05, derivative=1, values=-0.42940174082261195,\n",
       "       TimeValue(start_period=2013-06, end_period=2015-05, derivative=1, values=-0.3416139421716101,\n",
       "       TimeValue(start_period=2014-06, end_period=2015-05, derivative=1, values=-0.42940174082261195],\n",
       "      dtype=object)"
      ]
     },
     "metadata": {},
     "output_type": "display_data"
    }
   ],
   "source": [
    "display(asset.compound_annual_growth_rate(real=True))\n",
    "display(asset.compound_annual_growth_rate(years_ago=1, real=True))\n",
    "display(asset.compound_annual_growth_rate(years_ago=[None, 1, 2, 1], real=True))"
   ]
  },
  {
   "cell_type": "code",
   "execution_count": null,
   "metadata": {},
   "outputs": [],
   "source": []
  }
 ],
 "metadata": {
  "kernelspec": {
   "display_name": "Python 3",
   "language": "python",
   "name": "python3"
  },
  "language_info": {
   "codemirror_mode": {
    "name": "ipython",
    "version": 3
   },
   "file_extension": ".py",
   "mimetype": "text/x-python",
   "name": "python",
   "nbconvert_exporter": "python",
   "pygments_lexer": "ipython3",
   "version": "3.6.5"
  },
  "varInspector": {
   "cols": {
    "lenName": 16,
    "lenType": 16,
    "lenVar": 40
   },
   "kernels_config": {
    "python": {
     "delete_cmd_postfix": "",
     "delete_cmd_prefix": "del ",
     "library": "var_list.py",
     "varRefreshCmd": "print(var_dic_list())"
    },
    "r": {
     "delete_cmd_postfix": ") ",
     "delete_cmd_prefix": "rm(",
     "library": "var_list.r",
     "varRefreshCmd": "cat(var_dic_list()) "
    }
   },
   "types_to_exclude": [
    "module",
    "function",
    "builtin_function_or_method",
    "instance",
    "_Feature"
   ],
   "window_display": false
  }
 },
 "nbformat": 4,
 "nbformat_minor": 2
}
