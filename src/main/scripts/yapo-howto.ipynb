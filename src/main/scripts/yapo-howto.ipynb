{
 "cells": [
  {
   "cell_type": "code",
   "execution_count": 1,
   "metadata": {},
   "outputs": [],
   "source": [
    "import yapo\n",
    "from IPython.display import display"
   ]
  },
  {
   "cell_type": "markdown",
   "metadata": {},
   "source": [
    "Get all existing symbols names\n",
    "---"
   ]
  },
  {
   "cell_type": "code",
   "execution_count": 2,
   "metadata": {},
   "outputs": [
    {
     "data": {
      "text/plain": [
       "['cbr', 'infl', 'micex', 'nlu', 'quandl']"
      ]
     },
     "execution_count": 2,
     "metadata": {},
     "output_type": "execute_result"
    }
   ],
   "source": [
    "yapo.available_names() # available namespaces"
   ]
  },
  {
   "cell_type": "code",
   "execution_count": 3,
   "metadata": {},
   "outputs": [
    {
     "data": {
      "text/plain": [
       "[{'fin_sym_id': micex/MCFTR, 'short_name': 'MICEX Total Return'},\n",
       " {'fin_sym_id': micex/ABRD, 'short_name': 'АбрауДюрсо'},\n",
       " {'fin_sym_id': micex/AFKS, 'short_name': 'Система ао'},\n",
       " {'fin_sym_id': micex/AFLT, 'short_name': 'Аэрофлот'},\n",
       " {'fin_sym_id': micex/AKRN, 'short_name': 'Акрон'}]"
      ]
     },
     "execution_count": 3,
     "metadata": {},
     "output_type": "execute_result"
    }
   ],
   "source": [
    "yapo.available_names(namespace='micex')[:5] # get symbols in the namespace"
   ]
  },
  {
   "cell_type": "code",
   "execution_count": 4,
   "metadata": {},
   "outputs": [
    {
     "data": {
      "text/plain": [
       "[{'fin_sym_id': infl/RUB, 'short_name': 'Инфляция РФ'},\n",
       " {'fin_sym_id': infl/EUR, 'short_name': 'Инфляция ЕС'},\n",
       " {'fin_sym_id': infl/USD, 'short_name': 'Инфляция США'},\n",
       " {'fin_sym_id': nlu/1002, 'short_name': 'ВТБ-Фонд Акций'},\n",
       " {'fin_sym_id': nlu/1003, 'short_name': 'ВТБ-Фонд Металлургии'},\n",
       " {'fin_sym_id': nlu/1004, 'short_name': 'ВТБ-Фонд Нефтегазового сектора'},\n",
       " {'fin_sym_id': nlu/1005,\n",
       "  'short_name': 'ВТБ – Фонд Еврооблигаций развивающихся рынков'}]"
      ]
     },
     "execution_count": 4,
     "metadata": {},
     "output_type": "execute_result"
    }
   ],
   "source": [
    "yapo.available_names(namespaces=['infl', 'nlu'])[:7] # get symbols in several namespaces"
   ]
  },
  {
   "cell_type": "markdown",
   "metadata": {},
   "source": [
    "Fetch financial symbols information\n",
    "---"
   ]
  },
  {
   "cell_type": "code",
   "execution_count": 5,
   "metadata": {},
   "outputs": [
    {
     "data": {
      "text/plain": [
       "TimeSeries(start_period=2017-10, end_period=2017-12, derivative=0, values=[253.69276824 261.44709513 264.60713592]"
      ]
     },
     "execution_count": 5,
     "metadata": {},
     "output_type": "execute_result"
    }
   ],
   "source": [
    "asset = yapo.portfolio_asset(name='quandl/SPY', \n",
    "                             start_period='2017-10', end_period='2017-12', currency='usd')\n",
    "asset.values"
   ]
  },
  {
   "cell_type": "code",
   "execution_count": 6,
   "metadata": {},
   "outputs": [
    {
     "data": {
      "text/plain": [
       "['accumulated_rate_of_return',\n",
       " 'assets',\n",
       " 'assets_weighted',\n",
       " 'compound_annual_growth_rate',\n",
       " 'currency',\n",
       " 'inflation',\n",
       " 'period_max',\n",
       " 'period_min',\n",
       " 'rate_of_return',\n",
       " 'risk',\n",
       " 'weights']"
      ]
     },
     "execution_count": 6,
     "metadata": {},
     "output_type": "execute_result"
    }
   ],
   "source": [
    "port = yapo.portfolio(assets={'quandl/SPY': .5, 'nlu/449': .5},\n",
    "                      start_period='2017-10', end_period='2017-12', currency='USD')\n",
    "[m for m in dir(port) if m[:2] != '__']"
   ]
  },
  {
   "cell_type": "code",
   "execution_count": 7,
   "metadata": {},
   "outputs": [
    {
     "data": {
      "text/plain": [
       "{'_FinancialSymbol__values': <function QuandlFinancialSymbolsSource.fetch_financial_symbol.<locals>.<lambda> at 0x110f39e18>,\n",
       " 'adjusted_close': True,\n",
       " 'currency': <Currency.USD: 2>,\n",
       " 'end_period': Timestamp('2018-06-12 00:00:00'),\n",
       " 'exchange': 'NYSE Arca',\n",
       " 'identifier': quandl/VNQ,\n",
       " 'isin': None,\n",
       " 'long_name': None,\n",
       " 'period': <Period.DAY: 1>,\n",
       " 'security_type': <SecurityType.STOCK_ETF: 1>,\n",
       " 'short_name': 'Vanguard Real Estate',\n",
       " 'start_period': Timestamp('2004-09-29 00:00:00')}"
      ]
     },
     "execution_count": 7,
     "metadata": {},
     "output_type": "execute_result"
    }
   ],
   "source": [
    "yapo.information(name='quandl/VNQ')"
   ]
  },
  {
   "cell_type": "code",
   "execution_count": 8,
   "metadata": {},
   "outputs": [
    {
     "data": {
      "text/plain": [
       "['Сбербанк', 'Microsoft Corporation', 'Первый фонд фондов']"
      ]
     },
     "execution_count": 8,
     "metadata": {},
     "output_type": "execute_result"
    }
   ],
   "source": [
    "infos = yapo.information(names=['micex/SBER', 'quandl/MSFT', 'nlu/449'])\n",
    "[i.short_name for i in infos]"
   ]
  },
  {
   "cell_type": "markdown",
   "metadata": {},
   "source": [
    "Portfolio and Asset Interactions\n",
    "---"
   ]
  },
  {
   "cell_type": "code",
   "execution_count": 9,
   "metadata": {},
   "outputs": [],
   "source": [
    "asset = yapo.portfolio_asset(name='micex/SBER',\n",
    "                             start_period='2011-3', end_period='2015-5', currency='USD')\n",
    "portfolio = yapo.portfolio(assets={'quandl/MSFT': .2,\n",
    "                                   'micex/SBER': .2,\n",
    "                                   'nlu/449': .2,\n",
    "                                   'cbr/USD': .2, \n",
    "                                   'cbr/EUR': .2},\n",
    "                           start_period='2011-3', end_period='2015-5', currency='USD')"
   ]
  },
  {
   "cell_type": "code",
   "execution_count": 10,
   "metadata": {},
   "outputs": [
    {
     "data": {
      "text/plain": [
       "[(PortfolioAsset(\n",
       "       symbol: quandl/MSFT,\n",
       "       currency: Currency.USD,\n",
       "       period_min: 2011-11,\n",
       "       period_max: 2015-05\n",
       "  ), 0.2), (PortfolioAsset(\n",
       "       symbol: micex/SBER,\n",
       "       currency: Currency.USD,\n",
       "       period_min: 2011-11,\n",
       "       period_max: 2015-05\n",
       "  ), 0.2), (PortfolioAsset(\n",
       "       symbol: nlu/449,\n",
       "       currency: Currency.USD,\n",
       "       period_min: 2011-11,\n",
       "       period_max: 2015-05\n",
       "  ), 0.2), (PortfolioAsset(\n",
       "       symbol: cbr/USD,\n",
       "       currency: Currency.USD,\n",
       "       period_min: 2011-11,\n",
       "       period_max: 2015-05\n",
       "  ), 0.2), (PortfolioAsset(\n",
       "       symbol: cbr/EUR,\n",
       "       currency: Currency.USD,\n",
       "       period_min: 2011-11,\n",
       "       period_max: 2015-05\n",
       "  ), 0.2)]"
      ]
     },
     "metadata": {},
     "output_type": "display_data"
    }
   ],
   "source": [
    "display(portfolio.assets_weighted())"
   ]
  },
  {
   "cell_type": "code",
   "execution_count": 11,
   "metadata": {},
   "outputs": [
    {
     "data": {
      "text/plain": [
       "PortfolioAsset(\n",
       "     symbol: micex/SBER,\n",
       "     currency: Currency.USD,\n",
       "     period_min: 2011-11,\n",
       "     period_max: 2015-05\n",
       ")"
      ]
     },
     "metadata": {},
     "output_type": "display_data"
    },
    {
     "data": {
      "text/plain": [
       "PortfolioAsset(\n",
       "     symbol: quandl/MSFT,\n",
       "     currency: Currency.USD,\n",
       "     period_min: 2011-11,\n",
       "     period_max: 2015-05\n",
       ")"
      ]
     },
     "metadata": {},
     "output_type": "display_data"
    },
    {
     "data": {
      "text/plain": [
       "Portfolio(\n",
       "     assets: quandl/MSFT, micex/SBER, nlu/449, cbr/USD, cbr/EUR,\n",
       "     currency: Currency.USD,\n",
       "     start_period: 2011-11,\n",
       "     end_period: 2015-05\n",
       ")"
      ]
     },
     "metadata": {},
     "output_type": "display_data"
    }
   ],
   "source": [
    "display(asset)\n",
    "display(portfolio.assets[0])\n",
    "display(portfolio)"
   ]
  },
  {
   "cell_type": "markdown",
   "metadata": {},
   "source": [
    "### Asset Properties: Names, Exchange, Currency, Security Type"
   ]
  },
  {
   "cell_type": "code",
   "execution_count": 12,
   "metadata": {},
   "outputs": [
    {
     "data": {
      "text/plain": [
       "micex/SBER"
      ]
     },
     "metadata": {},
     "output_type": "display_data"
    },
    {
     "data": {
      "text/plain": [
       "'Сбербанк'"
      ]
     },
     "metadata": {},
     "output_type": "display_data"
    },
    {
     "data": {
      "text/plain": [
       "'Сбербанк России ПАО ао'"
      ]
     },
     "metadata": {},
     "output_type": "display_data"
    },
    {
     "data": {
      "text/plain": [
       "'RU0009029540'"
      ]
     },
     "metadata": {},
     "output_type": "display_data"
    },
    {
     "data": {
      "text/plain": [
       "'MICEX'"
      ]
     },
     "metadata": {},
     "output_type": "display_data"
    },
    {
     "data": {
      "text/plain": [
       "<Currency.RUB: 1>"
      ]
     },
     "metadata": {},
     "output_type": "display_data"
    },
    {
     "data": {
      "text/plain": [
       "<SecurityType.STOCK_ETF: 1>"
      ]
     },
     "metadata": {},
     "output_type": "display_data"
    },
    {
     "data": {
      "text/plain": [
       "<Period.DAY: 1>"
      ]
     },
     "metadata": {},
     "output_type": "display_data"
    }
   ],
   "source": [
    "sber_symbol = portfolio.assets[1].symbol\n",
    "\n",
    "display(sber_symbol.identifier)\n",
    "display(sber_symbol.short_name)\n",
    "display(sber_symbol.long_name)\n",
    "display(sber_symbol.isin)\n",
    "display(sber_symbol.exchange)\n",
    "display(sber_symbol.currency)\n",
    "display(sber_symbol.security_type)\n",
    "display(sber_symbol.period)"
   ]
  },
  {
   "cell_type": "markdown",
   "metadata": {},
   "source": [
    "### Period Bounds"
   ]
  },
  {
   "cell_type": "code",
   "execution_count": 13,
   "metadata": {},
   "outputs": [
    {
     "data": {
      "text/plain": [
       "Period('2011-11', 'M')"
      ]
     },
     "metadata": {},
     "output_type": "display_data"
    },
    {
     "data": {
      "text/plain": [
       "Period('2015-05', 'M')"
      ]
     },
     "metadata": {},
     "output_type": "display_data"
    }
   ],
   "source": [
    "display(portfolio.period_min)\n",
    "display(portfolio.period_max)"
   ]
  },
  {
   "cell_type": "markdown",
   "metadata": {},
   "source": [
    "### Inflation"
   ]
  },
  {
   "cell_type": "code",
   "execution_count": 14,
   "metadata": {},
   "outputs": [
    {
     "data": {
      "text/plain": [
       "0.001142857142857143"
      ]
     },
     "metadata": {},
     "output_type": "display_data"
    },
    {
     "data": {
      "text/plain": [
       "0.013725207135709239"
      ]
     },
     "metadata": {},
     "output_type": "display_data"
    },
    {
     "data": {
      "text/plain": [
       "0.04886805884046663"
      ]
     },
     "metadata": {},
     "output_type": "display_data"
    },
    {
     "data": {
      "text/plain": [
       "-0.0010919309561331358"
      ]
     },
     "metadata": {},
     "output_type": "display_data"
    },
    {
     "data": {
      "text/plain": [
       "array([-0.002,  0.004,  0.004,  0.008,  0.003, -0.001, -0.001, -0.002,\n",
       "        0.006,  0.004,  0.   , -0.005, -0.003,  0.003,  0.008,  0.003,\n",
       "       -0.001,  0.002,  0.002,  0.   ,  0.001,  0.001, -0.003, -0.002,\n",
       "        0.   ,  0.004,  0.004,  0.006,  0.003,  0.003,  0.002,  0.   ,\n",
       "       -0.002,  0.001, -0.003, -0.005, -0.006, -0.005,  0.004,  0.006,\n",
       "        0.002,  0.005])"
      ]
     },
     "metadata": {},
     "output_type": "display_data"
    },
    {
     "data": {
      "text/plain": [
       "array([ 0.002,  0.   , -0.002,  0.001, -0.003, -0.005, -0.006, -0.005,\n",
       "        0.004,  0.006,  0.002,  0.005])"
      ]
     },
     "metadata": {},
     "output_type": "display_data"
    }
   ],
   "source": [
    "display(asset.inflation(kind='a_mean'))\n",
    "display(asset.inflation(kind='g_mean'))\n",
    "display(asset.inflation(kind='accumulated'))\n",
    "display(asset.inflation(kind='accumulated', years_ago=1))\n",
    "display(asset.inflation(kind='values'))\n",
    "display(asset.inflation(kind='values', years_ago=1))"
   ]
  },
  {
   "cell_type": "code",
   "execution_count": 15,
   "metadata": {},
   "outputs": [
    {
     "data": {
      "text/plain": [
       "0.001142857142857143"
      ]
     },
     "metadata": {},
     "output_type": "display_data"
    },
    {
     "data": {
      "text/plain": [
       "0.013725207135709239"
      ]
     },
     "metadata": {},
     "output_type": "display_data"
    },
    {
     "data": {
      "text/plain": [
       "0.04886805884046663"
      ]
     },
     "metadata": {},
     "output_type": "display_data"
    },
    {
     "data": {
      "text/plain": [
       "-0.0010919309561331358"
      ]
     },
     "metadata": {},
     "output_type": "display_data"
    },
    {
     "data": {
      "text/plain": [
       "array([-0.002,  0.004,  0.004,  0.008,  0.003, -0.001, -0.001, -0.002,\n",
       "        0.006,  0.004,  0.   , -0.005, -0.003,  0.003,  0.008,  0.003,\n",
       "       -0.001,  0.002,  0.002,  0.   ,  0.001,  0.001, -0.003, -0.002,\n",
       "        0.   ,  0.004,  0.004,  0.006,  0.003,  0.003,  0.002,  0.   ,\n",
       "       -0.002,  0.001, -0.003, -0.005, -0.006, -0.005,  0.004,  0.006,\n",
       "        0.002,  0.005])"
      ]
     },
     "metadata": {},
     "output_type": "display_data"
    },
    {
     "data": {
      "text/plain": [
       "array([ 0.002,  0.   , -0.002,  0.001, -0.003, -0.005, -0.006, -0.005,\n",
       "        0.004,  0.006,  0.002,  0.005])"
      ]
     },
     "metadata": {},
     "output_type": "display_data"
    }
   ],
   "source": [
    "display(portfolio.inflation(kind='a_mean'))\n",
    "display(portfolio.inflation(kind='g_mean'))\n",
    "display(portfolio.inflation(kind='accumulated'))\n",
    "display(portfolio.inflation(kind='accumulated', years_ago=1))\n",
    "display(portfolio.inflation(kind='values'))\n",
    "display(portfolio.inflation(kind='values', years_ago=1))"
   ]
  },
  {
   "cell_type": "markdown",
   "metadata": {},
   "source": [
    "### Rate of Return"
   ]
  },
  {
   "cell_type": "code",
   "execution_count": 16,
   "metadata": {},
   "outputs": [
    {
     "data": {
      "text/plain": [
       "array([2.79519565, 2.4661372 , 2.96956663, 3.46075861, 3.23442966,\n",
       "       3.19963764, 2.51734158, 2.63248509, 2.78767619, 2.88479999,\n",
       "       2.94305056, 2.91163894, 2.94334519, 3.05998479, 3.64963017,\n",
       "       3.41506587, 3.18047575, 3.17092133, 3.13555539, 2.86404354,\n",
       "       2.89540014, 2.65374135, 3.02549691, 3.20448641, 3.10530375,\n",
       "       3.09112352, 2.68692119, 2.52870311, 2.34818744, 2.03090903,\n",
       "       2.43269076, 2.5125927 , 2.06006085, 1.98231325, 1.91740338,\n",
       "       1.75668233, 1.46486355, 0.97585427, 0.89222114, 1.23890599,\n",
       "       1.07552814, 1.48734404, 1.38753596])"
      ]
     },
     "metadata": {},
     "output_type": "display_data"
    },
    {
     "data": {
      "text/plain": [
       "array([-0.11772287,  0.20413683,  0.16540864, -0.06539865, -0.01075677,\n",
       "       -0.21324166,  0.04574012,  0.05895232,  0.03484042,  0.02019224,\n",
       "       -0.01067315,  0.01088949,  0.03962824,  0.19269553, -0.0642707 ,\n",
       "       -0.06869271, -0.00300409, -0.01115321, -0.08659131,  0.01094837,\n",
       "       -0.083463  ,  0.14008734,  0.05916036, -0.03095119, -0.00456645,\n",
       "       -0.13076227, -0.05888453, -0.07138666, -0.1351163 ,  0.19783344,\n",
       "        0.03284509, -0.18010553, -0.03774044, -0.03274451, -0.08382224,\n",
       "       -0.16611927, -0.33382582, -0.08570248,  0.38856382, -0.13187267,\n",
       "        0.38289644, -0.0671049 ])"
      ]
     },
     "metadata": {},
     "output_type": "display_data"
    },
    {
     "data": {
      "text/plain": [
       "array([-0.03969442,  0.09695871,  0.07109203, -0.0194634 , -0.01108942,\n",
       "       -0.10213647,  0.02237352,  0.0075293 ,  0.02386722,  0.01285552,\n",
       "       -0.01717884, -0.0096511 ,  0.02254456,  0.05545548, -0.02314548,\n",
       "       -0.02097944,  0.02915024,  0.00362728, -0.02712744, -0.00626389,\n",
       "       -0.00777208,  0.04413242,  0.03297456, -0.00073705,  0.00218676,\n",
       "       -0.04317806, -0.01283942, -0.00687033, -0.03387616,  0.058087  ,\n",
       "        0.02033419, -0.04890946, -0.00350053, -0.02284654, -0.02852365,\n",
       "       -0.0475667 , -0.11228914, -0.06711575,  0.12996419, -0.05465876,\n",
       "        0.15050455, -0.02808975])"
      ]
     },
     "metadata": {},
     "output_type": "display_data"
    }
   ],
   "source": [
    "display(asset.close())\n",
    "display(asset.rate_of_return())\n",
    "display(portfolio.rate_of_return())"
   ]
  },
  {
   "cell_type": "markdown",
   "metadata": {},
   "source": [
    "### Risk"
   ]
  },
  {
   "cell_type": "code",
   "execution_count": 17,
   "metadata": {},
   "outputs": [
    {
     "data": {
      "text/plain": [
       "0.4713852459773697"
      ]
     },
     "metadata": {},
     "output_type": "display_data"
    },
    {
     "data": {
      "text/plain": [
       "0.4713852459773697"
      ]
     },
     "metadata": {},
     "output_type": "display_data"
    },
    {
     "data": {
      "text/plain": [
       "0.1394167446351344"
      ]
     },
     "metadata": {},
     "output_type": "display_data"
    }
   ],
   "source": [
    "display(asset.risk())\n",
    "display(asset.risk(period='year'))\n",
    "display(asset.risk(period='month'))"
   ]
  },
  {
   "cell_type": "code",
   "execution_count": 18,
   "metadata": {},
   "outputs": [
    {
     "data": {
      "text/plain": [
       "0.17914534773149834"
      ]
     },
     "metadata": {},
     "output_type": "display_data"
    },
    {
     "data": {
      "text/plain": [
       "0.17914534773149834"
      ]
     },
     "metadata": {},
     "output_type": "display_data"
    },
    {
     "data": {
      "text/plain": [
       "0.051498041992400406"
      ]
     },
     "metadata": {},
     "output_type": "display_data"
    }
   ],
   "source": [
    "display(portfolio.risk())\n",
    "display(portfolio.risk(period='year'))\n",
    "display(portfolio.risk(period='month'))"
   ]
  },
  {
   "cell_type": "markdown",
   "metadata": {},
   "source": [
    "### Accumulated Rate of Return"
   ]
  },
  {
   "cell_type": "code",
   "execution_count": 19,
   "metadata": {},
   "outputs": [
    {
     "data": {
      "text/plain": [
       "array([-0.11772287,  0.06238239,  0.23810962,  0.15713892,  0.14469184,\n",
       "       -0.09940416, -0.05821079, -0.00269014,  0.03205655,  0.05289609,\n",
       "        0.04165837,  0.05300149,  0.09473009,  0.30567969,  0.22176273,\n",
       "        0.13783654,  0.13441838,  0.12176598,  0.02463079,  0.03584883,\n",
       "       -0.05060623,  0.08239182,  0.14642652,  0.11094326,  0.10587018,\n",
       "       -0.03873591, -0.09533949, -0.15992019, -0.27342866, -0.12968856,\n",
       "       -0.1011031 , -0.26299941, -0.29081413, -0.31403607, -0.37153511,\n",
       "       -0.47593524, -0.65088159, -0.6808019 , -0.55677307, -0.61522259,\n",
       "       -0.46789269, -0.5035997 ])"
      ]
     },
     "metadata": {},
     "output_type": "display_data"
    },
    {
     "data": {
      "text/plain": [
       "array([-0.03969442,  0.05341556,  0.12830501,  0.10634436,  0.09407563,\n",
       "       -0.01766939,  0.0043088 ,  0.01187054,  0.03602107,  0.04933966,\n",
       "        0.03131322,  0.02135991,  0.04438601,  0.10230294,  0.0767896 ,\n",
       "        0.05419916,  0.08492932,  0.08886466,  0.05932655,  0.05269104,\n",
       "        0.04450944,  0.09060617,  0.12656844,  0.1257381 ,  0.12819981,\n",
       "        0.07948633,  0.06562635,  0.05830515,  0.02245384,  0.08184511,\n",
       "        0.10384356,  0.04985516,  0.04618011,  0.02227852, -0.0068806 ,\n",
       "       -0.05412001, -0.16033206, -0.216687  , -0.11488437, -0.16326369,\n",
       "       -0.03733107, -0.0643722 ])"
      ]
     },
     "metadata": {},
     "output_type": "display_data"
    }
   ],
   "source": [
    "display(asset.accumulated_rate_of_return())\n",
    "display(portfolio.accumulated_rate_of_return())"
   ]
  },
  {
   "cell_type": "code",
   "execution_count": 20,
   "metadata": {},
   "outputs": [
    {
     "data": {
      "text/plain": [
       "array([-0.11595478,  0.06027033,  0.2307253 ,  0.14110866,  0.12545764,\n",
       "       -0.11365047, -0.07218092, -0.01551486,  0.01270876,  0.02904145,\n",
       "        0.01805834,  0.03431605,  0.07853979,  0.28252202,  0.19056888,\n",
       "        0.10546907,  0.1032514 ,  0.08876907, -0.00749388,  0.00337244,\n",
       "       -0.08129075,  0.04636242,  0.11160041,  0.07935376,  0.07442494,\n",
       "       -0.06979014, -0.1280529 , -0.19512752, -0.30596103, -0.17114349,\n",
       "       -0.14562836, -0.29950542, -0.32459158, -0.34736013, -0.40026667,\n",
       "       -0.49738084, -0.66314697, -0.69046846, -0.57190807, -0.63057823,\n",
       "       -0.49014765, -0.5267276 ])"
      ]
     },
     "metadata": {},
     "output_type": "display_data"
    },
    {
     "data": {
      "text/plain": [
       "array([-0.03776996,  0.05132133,  0.12157559,  0.09101777,  0.07569194,\n",
       "       -0.03320865, -0.01058872, -0.00114143,  0.01659895,  0.0255656 ,\n",
       "        0.00794757,  0.00323594,  0.02894027,  0.08275239,  0.04929718,\n",
       "        0.02421088,  0.055122  ,  0.05683555,  0.02611407,  0.01968661,\n",
       "        0.01075077,  0.05430335,  0.09234558,  0.09372792,  0.09611963,\n",
       "        0.04461286,  0.02709226,  0.01395209, -0.02332673,  0.03031435,\n",
       "        0.04916663, -0.00214755, -0.00364786, -0.02738367, -0.05228309,\n",
       "       -0.09282699, -0.18983166, -0.24040876, -0.14510866, -0.19665603,\n",
       "       -0.07759392, -0.10796425])"
      ]
     },
     "metadata": {},
     "output_type": "display_data"
    }
   ],
   "source": [
    "display(asset.accumulated_rate_of_return(real=True))\n",
    "display(portfolio.accumulated_rate_of_return(real=True))"
   ]
  },
  {
   "cell_type": "markdown",
   "metadata": {},
   "source": [
    "### Compound Annual Growth Rate"
   ]
  },
  {
   "cell_type": "code",
   "execution_count": 21,
   "metadata": {},
   "outputs": [
    {
     "data": {
      "text/plain": [
       "-0.18135640623065508"
      ]
     },
     "metadata": {},
     "output_type": "display_data"
    },
    {
     "data": {
      "text/plain": [
       "-0.42962912224351035"
      ]
     },
     "metadata": {},
     "output_type": "display_data"
    },
    {
     "data": {
      "text/plain": [
       "array([-0.18135641, -0.42962912, -0.33478063, -0.42962912])"
      ]
     },
     "metadata": {},
     "output_type": "display_data"
    }
   ],
   "source": [
    "display(asset.compound_annual_growth_rate())\n",
    "display(asset.compound_annual_growth_rate(years_ago=1))\n",
    "display(asset.compound_annual_growth_rate(years_ago=[None, 1, 2, 1]))"
   ]
  },
  {
   "cell_type": "code",
   "execution_count": 22,
   "metadata": {},
   "outputs": [
    {
     "data": {
      "text/plain": [
       "-0.192440329976177"
      ]
     },
     "metadata": {},
     "output_type": "display_data"
    },
    {
     "data": {
      "text/plain": [
       "-0.4290056358214863"
      ]
     },
     "metadata": {},
     "output_type": "display_data"
    },
    {
     "data": {
      "text/plain": [
       "array([-0.19244033, -0.42900564, -0.34069298, -0.42900564])"
      ]
     },
     "metadata": {},
     "output_type": "display_data"
    }
   ],
   "source": [
    "display(asset.compound_annual_growth_rate(real=True))\n",
    "display(asset.compound_annual_growth_rate(years_ago=1, real=True))\n",
    "display(asset.compound_annual_growth_rate(years_ago=[None, 1, 2, 1], real=True))"
   ]
  },
  {
   "cell_type": "code",
   "execution_count": null,
   "metadata": {},
   "outputs": [],
   "source": []
  }
 ],
 "metadata": {
  "kernelspec": {
   "display_name": "Python 3",
   "language": "python",
   "name": "python3"
  },
  "language_info": {
   "codemirror_mode": {
    "name": "ipython",
    "version": 3
   },
   "file_extension": ".py",
   "mimetype": "text/x-python",
   "name": "python",
   "nbconvert_exporter": "python",
   "pygments_lexer": "ipython3",
   "version": "3.6.5"
  },
  "varInspector": {
   "cols": {
    "lenName": 16,
    "lenType": 16,
    "lenVar": 40
   },
   "kernels_config": {
    "python": {
     "delete_cmd_postfix": "",
     "delete_cmd_prefix": "del ",
     "library": "var_list.py",
     "varRefreshCmd": "print(var_dic_list())"
    },
    "r": {
     "delete_cmd_postfix": ") ",
     "delete_cmd_prefix": "rm(",
     "library": "var_list.r",
     "varRefreshCmd": "cat(var_dic_list()) "
    }
   },
   "types_to_exclude": [
    "module",
    "function",
    "builtin_function_or_method",
    "instance",
    "_Feature"
   ],
   "window_display": false
  }
 },
 "nbformat": 4,
 "nbformat_minor": 2
}
