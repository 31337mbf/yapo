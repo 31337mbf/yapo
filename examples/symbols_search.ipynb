{
 "cells": [
  {
   "cell_type": "code",
   "execution_count": 1,
   "metadata": {},
   "outputs": [],
   "source": [
    "import yapo as y\n",
    "import pandas as pd\n",
    "import numpy as np"
   ]
  },
  {
   "cell_type": "markdown",
   "metadata": {},
   "source": [
    "# Available names"
   ]
  },
  {
   "cell_type": "markdown",
   "metadata": {},
   "source": [
    "To get the list of all existing namespaces for assets:"
   ]
  },
  {
   "cell_type": "code",
   "execution_count": 2,
   "metadata": {},
   "outputs": [
    {
     "data": {
      "text/plain": [
       "['cbr', 'index', 'infl', 'micex', 'mut_ru', 'us']"
      ]
     },
     "execution_count": 2,
     "metadata": {},
     "output_type": "execute_result"
    }
   ],
   "source": [
    "y.available_names()"
   ]
  },
  {
   "cell_type": "markdown",
   "metadata": {},
   "source": [
    "To look at financial symbols at particular namespace, `available_names` accepts `namespace` parameter:"
   ]
  },
  {
   "cell_type": "code",
   "execution_count": 3,
   "metadata": {},
   "outputs": [
    {
     "data": {
      "text/plain": [
       "[{'fin_sym_id': us/^DJI, 'short_name': '^DJI'},\n",
       " {'fin_sym_id': us/^GSPC, 'short_name': '^GSPC'},\n",
       " {'fin_sym_id': us/^IXIC, 'short_name': '^IXIC'},\n",
       " {'fin_sym_id': us/^RUT, 'short_name': '^RUT'},\n",
       " {'fin_sym_id': us/A, 'short_name': 'A'},\n",
       " {'fin_sym_id': us/AA, 'short_name': 'AA'},\n",
       " {'fin_sym_id': us/AAAAX, 'short_name': 'AAAAX'},\n",
       " {'fin_sym_id': us/AAADX, 'short_name': 'AAADX'},\n",
       " {'fin_sym_id': us/AAAGX, 'short_name': 'AAAGX'},\n",
       " {'fin_sym_id': us/AAAIF, 'short_name': 'AAAIF'}]"
      ]
     },
     "execution_count": 3,
     "metadata": {},
     "output_type": "execute_result"
    }
   ],
   "source": [
    "y.available_names(namespace='us')[:10]"
   ]
  },
  {
   "cell_type": "markdown",
   "metadata": {},
   "source": [
    "We can get detailed information on the financial symbol:"
   ]
  },
  {
   "cell_type": "code",
   "execution_count": 4,
   "metadata": {},
   "outputs": [
    {
     "data": {
      "text/plain": [
       "\n",
       "FinancialSymbol(identifier=us/MSFT,\n",
       "                start_period=1986-03, end_period=2019-06, period=Period.MONTH,\n",
       "                currency=Currency.USD, exchange=NASDAQ,\n",
       "                short_name=Microsoft Corporation, long_name=None,\n",
       "                isin=None,\n",
       "                security_type=SecurityType.STOCK_ETF, adjusted_close=True)"
      ]
     },
     "execution_count": 4,
     "metadata": {},
     "output_type": "execute_result"
    }
   ],
   "source": [
    "y.information(name='us/MSFT')"
   ]
  },
  {
   "cell_type": "markdown",
   "metadata": {},
   "source": [
    "# Full-text search\n",
    "\n",
    "Searching through the raw list of tickers might be confusing. To ease it the library provides the search method. Nevertheless, the implementation is simple, it tries its best to fulfill intuitive requirements in the searching.\n",
    "\n",
    "If you give it namespace and ticker then it considers it as the best match"
   ]
  },
  {
   "cell_type": "code",
   "execution_count": 5,
   "metadata": {},
   "outputs": [
    {
     "data": {
      "text/plain": [
       "[\n",
       " FinancialSymbol(identifier=us/MSFT,\n",
       "                 start_period=1986-03, end_period=2019-06, period=Period.MONTH,\n",
       "                 currency=Currency.USD, exchange=NASDAQ,\n",
       "                 short_name=Microsoft Corporation, long_name=None,\n",
       "                 isin=None,\n",
       "                 security_type=SecurityType.STOCK_ETF, adjusted_close=True)]"
      ]
     },
     "execution_count": 5,
     "metadata": {},
     "output_type": "execute_result"
    }
   ],
   "source": [
    "y.search('us/MSFT')"
   ]
  },
  {
   "cell_type": "code",
   "execution_count": null,
   "metadata": {},
   "outputs": [],
   "source": []
  },
  {
   "cell_type": "markdown",
   "metadata": {},
   "source": [
    "Then you can try to search only by the ticker name"
   ]
  },
  {
   "cell_type": "code",
   "execution_count": 6,
   "metadata": {},
   "outputs": [
    {
     "data": {
      "text/plain": [
       "[\n",
       " FinancialSymbol(identifier=us/MSFAX,\n",
       "                 start_period=2002-03, end_period=2019-06, period=Period.MONTH,\n",
       "                 currency=Currency.USD, exchange=NMFQS,\n",
       "                 short_name=GLOBAL FRANCHISE PORTFOLIO CLASS I, long_name=None,\n",
       "                 isin=None,\n",
       "                 security_type=SecurityType.STOCK_ETF, adjusted_close=True), \n",
       " FinancialSymbol(identifier=us/MSFBX,\n",
       "                 start_period=2002-03, end_period=2019-06, period=Period.MONTH,\n",
       "                 currency=Currency.USD, exchange=NMFQS,\n",
       "                 short_name=GLOBAL FRANCHISE PORTFOLIO CLASS A, long_name=None,\n",
       "                 isin=None,\n",
       "                 security_type=SecurityType.STOCK_ETF, adjusted_close=True)]"
      ]
     },
     "execution_count": 6,
     "metadata": {},
     "output_type": "execute_result"
    }
   ],
   "source": [
    "y.search('MSF', top=2)"
   ]
  },
  {
   "cell_type": "code",
   "execution_count": null,
   "metadata": {},
   "outputs": [],
   "source": []
  },
  {
   "cell_type": "markdown",
   "metadata": {},
   "source": [
    "The query case doesn't matter:"
   ]
  },
  {
   "cell_type": "code",
   "execution_count": 7,
   "metadata": {},
   "outputs": [
    {
     "data": {
      "text/plain": [
       "[\n",
       " FinancialSymbol(identifier=us/AAP,\n",
       "                 start_period=2001-11, end_period=2019-06, period=Period.MONTH,\n",
       "                 currency=Currency.USD, exchange=NYSE,\n",
       "                 short_name=Advance Auto Parts, Inc, long_name=None,\n",
       "                 isin=None,\n",
       "                 security_type=SecurityType.STOCK_ETF, adjusted_close=True), \n",
       " FinancialSymbol(identifier=us/AAPEX,\n",
       "                 start_period=2009-11, end_period=2019-06, period=Period.MONTH,\n",
       "                 currency=Currency.USD, exchange=NMFQS,\n",
       "                 short_name=Aberdeen APAC ex-Japan Eq Ins Fd Inst Se, long_name=None,\n",
       "                 isin=None,\n",
       "                 security_type=SecurityType.STOCK_ETF, adjusted_close=True)]"
      ]
     },
     "execution_count": 7,
     "metadata": {},
     "output_type": "execute_result"
    }
   ],
   "source": [
    "y.search('AaP', top=2)"
   ]
  },
  {
   "cell_type": "code",
   "execution_count": null,
   "metadata": {},
   "outputs": [],
   "source": []
  },
  {
   "cell_type": "markdown",
   "metadata": {},
   "source": [
    "Last, the search by the string in short and long names"
   ]
  },
  {
   "cell_type": "code",
   "execution_count": 8,
   "metadata": {},
   "outputs": [
    {
     "data": {
      "text/plain": [
       "[\n",
       " FinancialSymbol(identifier=us/MSFT,\n",
       "                 start_period=1986-03, end_period=2019-06, period=Period.MONTH,\n",
       "                 currency=Currency.USD, exchange=NASDAQ,\n",
       "                 short_name=Microsoft Corporation, long_name=None,\n",
       "                 isin=None,\n",
       "                 security_type=SecurityType.STOCK_ETF, adjusted_close=True)]"
      ]
     },
     "execution_count": 8,
     "metadata": {},
     "output_type": "execute_result"
    }
   ],
   "source": [
    "y.search('mIcrOso', top=2)"
   ]
  },
  {
   "cell_type": "code",
   "execution_count": null,
   "metadata": {},
   "outputs": [],
   "source": []
  }
 ],
 "metadata": {
  "kernelspec": {
   "display_name": "Python 3",
   "language": "python",
   "name": "python3"
  },
  "language_info": {
   "codemirror_mode": {
    "name": "ipython",
    "version": 3
   },
   "file_extension": ".py",
   "mimetype": "text/x-python",
   "name": "python",
   "nbconvert_exporter": "python",
   "pygments_lexer": "ipython3",
   "version": "3.7.3"
  }
 },
 "nbformat": 4,
 "nbformat_minor": 2
}
