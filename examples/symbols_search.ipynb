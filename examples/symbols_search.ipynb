{
 "cells": [
  {
   "cell_type": "code",
   "execution_count": 1,
   "metadata": {},
   "outputs": [],
   "source": [
    "import yapo as y\n",
    "import pandas as pd\n",
    "import numpy as np"
   ]
  },
  {
   "cell_type": "markdown",
   "metadata": {},
   "source": [
    "# Available names"
   ]
  },
  {
   "cell_type": "markdown",
   "metadata": {},
   "source": [
    "To get the list of all existing namespaces for assets:"
   ]
  },
  {
   "cell_type": "code",
   "execution_count": 2,
   "metadata": {},
   "outputs": [
    {
     "data": {
      "text/plain": [
       "['cbr', 'index', 'infl', 'micex', 'mut_ru', 'us']"
      ]
     },
     "execution_count": 2,
     "metadata": {},
     "output_type": "execute_result"
    }
   ],
   "source": [
    "y.available_names()"
   ]
  },
  {
   "cell_type": "markdown",
   "metadata": {},
   "source": [
    "To look at financial symbols at particular namespace, `available_names` accepts `namespace` parameter:"
   ]
  },
  {
   "cell_type": "code",
   "execution_count": 3,
   "metadata": {},
   "outputs": [
    {
     "data": {
      "text/plain": [
       "[{'fin_sym_id': us/^DJI, 'short_name': 'Dow Jones Industrial Average'},\n",
       " {'fin_sym_id': us/^GSPC, 'short_name': 'S&P 500'},\n",
       " {'fin_sym_id': us/^IXIC, 'short_name': 'NASDAQ Composite'},\n",
       " {'fin_sym_id': us/^RUT, 'short_name': 'Russell 2000'},\n",
       " {'fin_sym_id': us/A, 'short_name': 'Agilent Technologies, Inc'},\n",
       " {'fin_sym_id': us/AA, 'short_name': 'Alcoa Corporation'},\n",
       " {'fin_sym_id': us/AAAAX, 'short_name': 'DEUTSCHE REAL ASSETS FUND CLASS A'},\n",
       " {'fin_sym_id': us/AAADX, 'short_name': 'ALPINE RISING DIVIDEND FUND CLASS A'},\n",
       " {'fin_sym_id': us/AAAGX, 'short_name': 'THRIVENT LARGE CAP GROWTH FUND CLASS A'},\n",
       " {'fin_sym_id': us/AAAIF, 'short_name': 'Alternative Investment Trust'}]"
      ]
     },
     "execution_count": 3,
     "metadata": {},
     "output_type": "execute_result"
    }
   ],
   "source": [
    "y.available_names(namespace='us')[:10]"
   ]
  },
  {
   "cell_type": "markdown",
   "metadata": {},
   "source": [
    "We can get detailed information on the financial symbol:"
   ]
  },
  {
   "cell_type": "code",
   "execution_count": 4,
   "metadata": {},
   "outputs": [],
   "source": [
    "def print_fin_sym(fin_sym):\n",
    "    print('== {}'.format(fin_sym.identifier))\n",
    "    print(fin_sym.start_period)\n",
    "    \n",
    "    period_now = pd.Period.now(freq='M')\n",
    "    assert fin_sym.end_period in {period_now - 1, period_now}\n",
    "    \n",
    "    print(fin_sym.currency)\n",
    "    print(fin_sym.exchange)\n",
    "    print(fin_sym.short_name)\n",
    "    print(fin_sym.long_name)\n",
    "    print(fin_sym.security_type)\n",
    "    print(fin_sym.adjusted_close)"
   ]
  },
  {
   "cell_type": "code",
   "execution_count": 5,
   "metadata": {},
   "outputs": [
    {
     "name": "stdout",
     "output_type": "stream",
     "text": [
      "== us/MSFT\n",
      "1986-03\n",
      "Currency.USD\n",
      "NASDAQ\n",
      "Microsoft Corporation\n",
      "None\n",
      "SecurityType.STOCK_ETF\n",
      "True\n"
     ]
    }
   ],
   "source": [
    "print_fin_sym(y.information(name='us/MSFT'))"
   ]
  },
  {
   "cell_type": "markdown",
   "metadata": {},
   "source": [
    "# Full-text search\n",
    "\n",
    "Searching through the raw list of tickers might be confusing. To ease it the library provides the search method. Nevertheless, the implementation is simple, it tries its best to fulfill intuitive requirements in the searching.\n",
    "\n",
    "If you give it namespace and ticker then it considers it as the best match"
   ]
  },
  {
   "cell_type": "code",
   "execution_count": 6,
   "metadata": {},
   "outputs": [
    {
     "name": "stdout",
     "output_type": "stream",
     "text": [
      "== us/MSFT\n",
      "1986-03\n",
      "Currency.USD\n",
      "NASDAQ\n",
      "Microsoft Corporation\n",
      "None\n",
      "SecurityType.STOCK_ETF\n",
      "True\n"
     ]
    }
   ],
   "source": [
    "for fs in y.search('us/MSFT'):\n",
    "    print_fin_sym(fs)"
   ]
  },
  {
   "cell_type": "code",
   "execution_count": null,
   "metadata": {},
   "outputs": [],
   "source": []
  },
  {
   "cell_type": "markdown",
   "metadata": {},
   "source": [
    "Then you can try to search only by the ticker name"
   ]
  },
  {
   "cell_type": "code",
   "execution_count": 7,
   "metadata": {},
   "outputs": [
    {
     "data": {
      "text/plain": [
       "[\n",
       " FinancialSymbol(identifier=us/MSF,\n",
       "                 start_period=2019-06, end_period=2019-06, period=Period.MONTH,\n",
       "                 currency=Currency.USD, exchange=NYSE MKT,\n",
       "                 short_name=Morgan Stanley Emerging Markets Fund, Inc, long_name=None,\n",
       "                 isin=None,\n",
       "                 security_type=SecurityType.STOCK_ETF, adjusted_close=True), \n",
       " FinancialSymbol(identifier=us/MSFAX,\n",
       "                 start_period=2002-03, end_period=2019-07, period=Period.MONTH,\n",
       "                 currency=Currency.USD, exchange=NMFQS,\n",
       "                 short_name=GLOBAL FRANCHISE PORTFOLIO CLASS I, long_name=None,\n",
       "                 isin=None,\n",
       "                 security_type=SecurityType.STOCK_ETF, adjusted_close=True)]"
      ]
     },
     "execution_count": 7,
     "metadata": {},
     "output_type": "execute_result"
    }
   ],
   "source": [
    "y.search('MSF', top=2)"
   ]
  },
  {
   "cell_type": "code",
   "execution_count": 8,
   "metadata": {},
   "outputs": [
    {
     "name": "stdout",
     "output_type": "stream",
     "text": [
      "== us/MSF\n",
      "2019-06\n",
      "Currency.USD\n",
      "NYSE MKT\n",
      "Morgan Stanley Emerging Markets Fund, Inc\n",
      "None\n",
      "SecurityType.STOCK_ETF\n",
      "True\n",
      "== us/MSFAX\n",
      "2002-03\n",
      "Currency.USD\n",
      "NMFQS\n",
      "GLOBAL FRANCHISE PORTFOLIO CLASS I\n",
      "None\n",
      "SecurityType.STOCK_ETF\n",
      "True\n"
     ]
    }
   ],
   "source": [
    "for fs in y.search('MSF', top=2):\n",
    "    print_fin_sym(fs)"
   ]
  },
  {
   "cell_type": "code",
   "execution_count": null,
   "metadata": {},
   "outputs": [],
   "source": []
  },
  {
   "cell_type": "markdown",
   "metadata": {},
   "source": [
    "The query case doesn't matter:"
   ]
  },
  {
   "cell_type": "code",
   "execution_count": 9,
   "metadata": {},
   "outputs": [
    {
     "name": "stdout",
     "output_type": "stream",
     "text": [
      "== us/AAP\n",
      "2001-11\n",
      "Currency.USD\n",
      "NYSE MKT\n",
      "Advance Auto Parts, Inc\n",
      "None\n",
      "SecurityType.STOCK_ETF\n",
      "True\n",
      "== us/AAPEX\n",
      "2009-11\n",
      "Currency.USD\n",
      "NMFQS\n",
      "Aberdeen APAC ex-Japan Eq Ins Fd Inst Se\n",
      "None\n",
      "SecurityType.STOCK_ETF\n",
      "True\n"
     ]
    }
   ],
   "source": [
    "for fs in y.search('AaP', top=2):\n",
    "    print_fin_sym(fs)"
   ]
  },
  {
   "cell_type": "code",
   "execution_count": null,
   "metadata": {},
   "outputs": [],
   "source": []
  },
  {
   "cell_type": "markdown",
   "metadata": {},
   "source": [
    "Last, the search by the string in short and long names"
   ]
  },
  {
   "cell_type": "code",
   "execution_count": 10,
   "metadata": {},
   "outputs": [
    {
     "name": "stdout",
     "output_type": "stream",
     "text": [
      "== us/MSFT\n",
      "1986-03\n",
      "Currency.USD\n",
      "NASDAQ\n",
      "Microsoft Corporation\n",
      "None\n",
      "SecurityType.STOCK_ETF\n",
      "True\n"
     ]
    }
   ],
   "source": [
    "for fs in y.search('mIcrOso', top=2):\n",
    "    print_fin_sym(fs)"
   ]
  },
  {
   "cell_type": "code",
   "execution_count": null,
   "metadata": {},
   "outputs": [],
   "source": []
  }
 ],
 "metadata": {
  "kernelspec": {
   "display_name": "Python 3",
   "language": "python",
   "name": "python3"
  },
  "language_info": {
   "codemirror_mode": {
    "name": "ipython",
    "version": 3
   },
   "file_extension": ".py",
   "mimetype": "text/x-python",
   "name": "python",
   "nbconvert_exporter": "python",
   "pygments_lexer": "ipython3",
   "version": "3.7.3"
  }
 },
 "nbformat": 4,
 "nbformat_minor": 2
}
