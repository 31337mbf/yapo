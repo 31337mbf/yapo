{
 "cells": [
  {
   "cell_type": "code",
   "execution_count": 1,
   "metadata": {},
   "outputs": [],
   "source": [
    "import yapo as y\n",
    "\n",
    "import numpy as np\n",
    "import matplotlib.pyplot as plt\n",
    "\n",
    "%matplotlib inline\n",
    "plt.rcParams[\"figure.figsize\"] = (15., 9.)"
   ]
  },
  {
   "cell_type": "code",
   "execution_count": 23,
   "metadata": {},
   "outputs": [
    {
     "data": {
      "text/plain": [
       "{'ny/SPY': 0.35,\n",
       " 'ny/VB': 0.24,\n",
       " 'ny/BIV': 0.05,\n",
       " 'ny/EDV': 0.36,\n",
       " 'ny/VNQ': -0.0,\n",
       " 'ny/VGK': -0.0,\n",
       " 'ny/GLD': 0.0}"
      ]
     },
     "execution_count": 23,
     "metadata": {},
     "output_type": "execute_result"
    }
   ],
   "source": [
    "w=[ 0.35,  0.24,  0.05,  0.36, -0.  , -0.  ,  0.  ]\n",
    "dict(zip(asset_names, w))"
   ]
  },
  {
   "cell_type": "code",
   "execution_count": 24,
   "metadata": {},
   "outputs": [],
   "source": [
    "p=y.portfolio(assets=dict(zip(asset_names, w)),\n",
    "              start_period='2008-2', end_period='2017-8', currency='usd')"
   ]
  },
  {
   "cell_type": "code",
   "execution_count": 25,
   "metadata": {},
   "outputs": [
    {
     "data": {
      "text/plain": [
       "TimeSeries(start_period=2008-03, end_period=2017-08, kind=TimeSeriesKind.REDUCED_VALUE, values=[0.11675372]"
      ]
     },
     "execution_count": 25,
     "metadata": {},
     "output_type": "execute_result"
    }
   ],
   "source": [
    "p.risk()"
   ]
  },
  {
   "cell_type": "code",
   "execution_count": 9,
   "metadata": {},
   "outputs": [
    {
     "data": {
      "text/plain": [
       "TimeSeries(start_period=2008-03, end_period=2017-08, kind=TimeSeriesKind.REDUCED_VALUE, values=[0.03340736]"
      ]
     },
     "execution_count": 9,
     "metadata": {},
     "output_type": "execute_result"
    }
   ],
   "source": [
    "p.risk(period='month')"
   ]
  },
  {
   "cell_type": "code",
   "execution_count": 2,
   "metadata": {},
   "outputs": [
    {
     "ename": "SolverError",
     "evalue": "The solver GUROBI is not installed.",
     "output_type": "error",
     "traceback": [
      "\u001b[0;31m---------------------------------------------------------------------------\u001b[0m",
      "\u001b[0;31mSolverError\u001b[0m                               Traceback (most recent call last)",
      "\u001b[0;32m<ipython-input-2-f682331cf66c>\u001b[0m in \u001b[0;36m<module>\u001b[0;34m\u001b[0m\n\u001b[1;32m      2\u001b[0m efficiency_frontier = y.optimal_portfolios(asset_names=asset_names,\n\u001b[1;32m      3\u001b[0m                                            \u001b[0mstart_period\u001b[0m\u001b[0;34m=\u001b[0m\u001b[0;34m'2008-2'\u001b[0m\u001b[0;34m,\u001b[0m \u001b[0mend_period\u001b[0m\u001b[0;34m=\u001b[0m\u001b[0;34m'2017-8'\u001b[0m\u001b[0;34m,\u001b[0m \u001b[0mcurrency\u001b[0m\u001b[0;34m=\u001b[0m\u001b[0;34m'usd'\u001b[0m\u001b[0;34m,\u001b[0m\u001b[0;34m\u001b[0m\u001b[0;34m\u001b[0m\u001b[0m\n\u001b[0;32m----> 4\u001b[0;31m                                            samples_count=10)\n\u001b[0m",
      "\u001b[0;32m~/projects/rostsber/okama/lib/yapo/_instance.py\u001b[0m in \u001b[0;36moptimal_portfolios\u001b[0;34m(self, asset_names, start_period, end_period, currency, samples_count)\u001b[0m\n\u001b[1;32m    216\u001b[0m         opt_port = markovitz.compute(assets=assets, samples_count=samples_count,\n\u001b[1;32m    217\u001b[0m                                      \u001b[0mstart_period\u001b[0m\u001b[0;34m=\u001b[0m\u001b[0mstart_period_pd\u001b[0m\u001b[0;34m,\u001b[0m \u001b[0mend_period\u001b[0m\u001b[0;34m=\u001b[0m\u001b[0mend_period_pd\u001b[0m\u001b[0;34m,\u001b[0m\u001b[0;34m\u001b[0m\u001b[0;34m\u001b[0m\u001b[0m\n\u001b[0;32m--> 218\u001b[0;31m                                      currency=currency_enum)\n\u001b[0m\u001b[1;32m    219\u001b[0m         \u001b[0;32mreturn\u001b[0m \u001b[0mopt_port\u001b[0m\u001b[0;34m\u001b[0m\u001b[0;34m\u001b[0m\u001b[0m\n",
      "\u001b[0;32m~/projects/rostsber/okama/lib/yapo/_portfolio/optimal/markovitz.py\u001b[0m in \u001b[0;36mcompute\u001b[0;34m(assets, samples_count, start_period, end_period, currency)\u001b[0m\n\u001b[1;32m     47\u001b[0m                                            \u001b[0mcvx\u001b[0m\u001b[0;34m.\u001b[0m\u001b[0mabs\u001b[0m\u001b[0;34m(\u001b[0m\u001b[0mret\u001b[0m \u001b[0;34m-\u001b[0m \u001b[0mreturn_trg\u001b[0m\u001b[0;34m)\u001b[0m \u001b[0;34m<=\u001b[0m \u001b[0;36m1e-8\u001b[0m\u001b[0;34m,\u001b[0m\u001b[0;34m\u001b[0m\u001b[0;34m\u001b[0m\u001b[0m\n\u001b[1;32m     48\u001b[0m                                            ])\n\u001b[0;32m---> 49\u001b[0;31m         \u001b[0mproblem\u001b[0m\u001b[0;34m.\u001b[0m\u001b[0msolve\u001b[0m\u001b[0;34m(\u001b[0m\u001b[0msolver\u001b[0m\u001b[0;34m=\u001b[0m\u001b[0mcvx\u001b[0m\u001b[0;34m.\u001b[0m\u001b[0mGUROBI\u001b[0m\u001b[0;34m)\u001b[0m\u001b[0;34m\u001b[0m\u001b[0;34m\u001b[0m\u001b[0m\n\u001b[0m\u001b[1;32m     50\u001b[0m \u001b[0;34m\u001b[0m\u001b[0m\n\u001b[1;32m     51\u001b[0m         \u001b[0mret_yearly\u001b[0m \u001b[0;34m=\u001b[0m \u001b[0;34m(\u001b[0m\u001b[0mret\u001b[0m\u001b[0;34m.\u001b[0m\u001b[0mvalue\u001b[0m \u001b[0;34m+\u001b[0m \u001b[0;36m1.\u001b[0m\u001b[0;34m)\u001b[0m \u001b[0;34m**\u001b[0m \u001b[0m_MONTHS_PER_YEAR\u001b[0m \u001b[0;34m-\u001b[0m \u001b[0;36m1.\u001b[0m\u001b[0;34m\u001b[0m\u001b[0;34m\u001b[0m\u001b[0m\n",
      "\u001b[0;32m~/Library/Caches/pypoetry/virtualenvs/yapo-py3.7/lib/python3.7/site-packages/cvxpy/problems/problem.py\u001b[0m in \u001b[0;36msolve\u001b[0;34m(self, *args, **kwargs)\u001b[0m\n\u001b[1;32m    287\u001b[0m         \u001b[0;32melse\u001b[0m\u001b[0;34m:\u001b[0m\u001b[0;34m\u001b[0m\u001b[0;34m\u001b[0m\u001b[0m\n\u001b[1;32m    288\u001b[0m             \u001b[0msolve_func\u001b[0m \u001b[0;34m=\u001b[0m \u001b[0mProblem\u001b[0m\u001b[0;34m.\u001b[0m\u001b[0m_solve\u001b[0m\u001b[0;34m\u001b[0m\u001b[0;34m\u001b[0m\u001b[0m\n\u001b[0;32m--> 289\u001b[0;31m         \u001b[0;32mreturn\u001b[0m \u001b[0msolve_func\u001b[0m\u001b[0;34m(\u001b[0m\u001b[0mself\u001b[0m\u001b[0;34m,\u001b[0m \u001b[0;34m*\u001b[0m\u001b[0margs\u001b[0m\u001b[0;34m,\u001b[0m \u001b[0;34m**\u001b[0m\u001b[0mkwargs\u001b[0m\u001b[0;34m)\u001b[0m\u001b[0;34m\u001b[0m\u001b[0;34m\u001b[0m\u001b[0m\n\u001b[0m\u001b[1;32m    290\u001b[0m \u001b[0;34m\u001b[0m\u001b[0m\n\u001b[1;32m    291\u001b[0m     \u001b[0;34m@\u001b[0m\u001b[0mclassmethod\u001b[0m\u001b[0;34m\u001b[0m\u001b[0;34m\u001b[0m\u001b[0m\n",
      "\u001b[0;32m~/Library/Caches/pypoetry/virtualenvs/yapo-py3.7/lib/python3.7/site-packages/cvxpy/problems/problem.py\u001b[0m in \u001b[0;36m_solve\u001b[0;34m(self, solver, warm_start, verbose, parallel, gp, qcp, **kwargs)\u001b[0m\n\u001b[1;32m    565\u001b[0m                     solver, warm_start, verbose, **kwargs)\n\u001b[1;32m    566\u001b[0m \u001b[0;34m\u001b[0m\u001b[0m\n\u001b[0;32m--> 567\u001b[0;31m         \u001b[0mself\u001b[0m\u001b[0;34m.\u001b[0m\u001b[0m_construct_chains\u001b[0m\u001b[0;34m(\u001b[0m\u001b[0msolver\u001b[0m\u001b[0;34m=\u001b[0m\u001b[0msolver\u001b[0m\u001b[0;34m,\u001b[0m \u001b[0mgp\u001b[0m\u001b[0;34m=\u001b[0m\u001b[0mgp\u001b[0m\u001b[0;34m)\u001b[0m\u001b[0;34m\u001b[0m\u001b[0;34m\u001b[0m\u001b[0m\n\u001b[0m\u001b[1;32m    568\u001b[0m         data, solving_inverse_data = self._solving_chain.apply(\n\u001b[1;32m    569\u001b[0m             self._intermediate_problem)\n",
      "\u001b[0;32m~/Library/Caches/pypoetry/virtualenvs/yapo-py3.7/lib/python3.7/site-packages/cvxpy/problems/problem.py\u001b[0m in \u001b[0;36m_construct_chains\u001b[0;34m(self, solver, gp)\u001b[0m\n\u001b[1;32m    508\u001b[0m \u001b[0;34m\u001b[0m\u001b[0m\n\u001b[1;32m    509\u001b[0m             \u001b[0;32mexcept\u001b[0m \u001b[0mException\u001b[0m \u001b[0;32mas\u001b[0m \u001b[0me\u001b[0m\u001b[0;34m:\u001b[0m\u001b[0;34m\u001b[0m\u001b[0;34m\u001b[0m\u001b[0m\n\u001b[0;32m--> 510\u001b[0;31m                 \u001b[0;32mraise\u001b[0m \u001b[0me\u001b[0m\u001b[0;34m\u001b[0m\u001b[0;34m\u001b[0m\u001b[0m\n\u001b[0m\u001b[1;32m    511\u001b[0m \u001b[0;34m\u001b[0m\u001b[0m\n\u001b[1;32m    512\u001b[0m     def _solve(self,\n",
      "\u001b[0;32m~/Library/Caches/pypoetry/virtualenvs/yapo-py3.7/lib/python3.7/site-packages/cvxpy/problems/problem.py\u001b[0m in \u001b[0;36m_construct_chains\u001b[0;34m(self, solver, gp)\u001b[0m\n\u001b[1;32m    494\u001b[0m             \u001b[0;32mtry\u001b[0m\u001b[0;34m:\u001b[0m\u001b[0;34m\u001b[0m\u001b[0;34m\u001b[0m\u001b[0m\n\u001b[1;32m    495\u001b[0m                 candidate_solvers = self._find_candidate_solvers(solver=solver,\n\u001b[0;32m--> 496\u001b[0;31m                                                                  gp=gp)\n\u001b[0m\u001b[1;32m    497\u001b[0m \u001b[0;34m\u001b[0m\u001b[0m\n\u001b[1;32m    498\u001b[0m                 \u001b[0mself\u001b[0m\u001b[0;34m.\u001b[0m\u001b[0m_intermediate_chain\u001b[0m \u001b[0;34m=\u001b[0m\u001b[0;31m \u001b[0m\u001b[0;31m\\\u001b[0m\u001b[0;34m\u001b[0m\u001b[0;34m\u001b[0m\u001b[0m\n",
      "\u001b[0;32m~/Library/Caches/pypoetry/virtualenvs/yapo-py3.7/lib/python3.7/site-packages/cvxpy/problems/problem.py\u001b[0m in \u001b[0;36m_find_candidate_solvers\u001b[0;34m(self, solver, gp)\u001b[0m\n\u001b[1;32m    431\u001b[0m         \u001b[0;32mif\u001b[0m \u001b[0msolver\u001b[0m \u001b[0;32mis\u001b[0m \u001b[0;32mnot\u001b[0m \u001b[0;32mNone\u001b[0m\u001b[0;34m:\u001b[0m\u001b[0;34m\u001b[0m\u001b[0;34m\u001b[0m\u001b[0m\n\u001b[1;32m    432\u001b[0m             \u001b[0;32mif\u001b[0m \u001b[0msolver\u001b[0m \u001b[0;32mnot\u001b[0m \u001b[0;32min\u001b[0m \u001b[0mslv_def\u001b[0m\u001b[0;34m.\u001b[0m\u001b[0mINSTALLED_SOLVERS\u001b[0m\u001b[0;34m:\u001b[0m\u001b[0;34m\u001b[0m\u001b[0;34m\u001b[0m\u001b[0m\n\u001b[0;32m--> 433\u001b[0;31m                 \u001b[0;32mraise\u001b[0m \u001b[0merror\u001b[0m\u001b[0;34m.\u001b[0m\u001b[0mSolverError\u001b[0m\u001b[0;34m(\u001b[0m\u001b[0;34m\"The solver %s is not installed.\"\u001b[0m \u001b[0;34m%\u001b[0m \u001b[0msolver\u001b[0m\u001b[0;34m)\u001b[0m\u001b[0;34m\u001b[0m\u001b[0;34m\u001b[0m\u001b[0m\n\u001b[0m\u001b[1;32m    434\u001b[0m             \u001b[0;32mif\u001b[0m \u001b[0msolver\u001b[0m \u001b[0;32min\u001b[0m \u001b[0mslv_def\u001b[0m\u001b[0;34m.\u001b[0m\u001b[0mCONIC_SOLVERS\u001b[0m\u001b[0;34m:\u001b[0m\u001b[0;34m\u001b[0m\u001b[0;34m\u001b[0m\u001b[0m\n\u001b[1;32m    435\u001b[0m                 \u001b[0mcandidates\u001b[0m\u001b[0;34m[\u001b[0m\u001b[0;34m'conic_solvers'\u001b[0m\u001b[0;34m]\u001b[0m \u001b[0;34m+=\u001b[0m \u001b[0;34m[\u001b[0m\u001b[0msolver\u001b[0m\u001b[0;34m]\u001b[0m\u001b[0;34m\u001b[0m\u001b[0;34m\u001b[0m\u001b[0m\n",
      "\u001b[0;31mSolverError\u001b[0m: The solver GUROBI is not installed."
     ]
    }
   ],
   "source": [
    "asset_names = ['ny/SPY', 'ny/VB', 'ny/BIV', 'ny/EDV', 'ny/VNQ', 'ny/VGK', 'ny/GLD']\n",
    "efficiency_frontier = y.optimal_portfolios(asset_names=asset_names,\n",
    "                                           start_period='2008-2', end_period='2017-8', currency='usd',\n",
    "                                           samples_count=10)"
   ]
  },
  {
   "cell_type": "code",
   "execution_count": 16,
   "metadata": {},
   "outputs": [
    {
     "data": {
      "text/plain": [
       "[array([ 0.01, -0.  ,  0.97, -0.  , -0.  ,  0.01, -0.  ]),\n",
       " array([ 0.08, -0.  ,  0.92,  0.  , -0.  , -0.  ,  0.  ]),\n",
       " array([ 0.13,  0.01,  0.86,  0.  ,  0.  , -0.  , -0.  ]),\n",
       " array([ 0.18,  0.09,  0.65,  0.08, -0.  ,  0.  , -0.  ]),\n",
       " array([ 0.22,  0.12,  0.51,  0.15, -0.  ,  0.  ,  0.  ]),\n",
       " array([ 0.26,  0.16,  0.38,  0.21,  0.  , -0.  ,  0.  ]),\n",
       " array([ 0.3 ,  0.19,  0.24,  0.27,  0.  , -0.  ,  0.  ]),\n",
       " array([ 0.27,  0.16,  0.34,  0.23, -0.  , -0.  ,  0.  ]),\n",
       " array([ 0.31,  0.2 ,  0.2 ,  0.3 , -0.  , -0.  ,  0.  ]),\n",
       " array([ 0.35,  0.24,  0.05,  0.36, -0.  , -0.  ,  0.  ])]"
      ]
     },
     "execution_count": 16,
     "metadata": {},
     "output_type": "execute_result"
    }
   ],
   "source": [
    "[np.round(p.weights, 2) for p in efficiency_frontier.points]"
   ]
  },
  {
   "cell_type": "code",
   "execution_count": 34,
   "metadata": {},
   "outputs": [
    {
     "data": {
      "text/plain": [
       "[0.05744970909990709,\n",
       " 0.05602376604378216,\n",
       " 0.056694503314729895,\n",
       " 0.0687627971873375,\n",
       " 0.0783326893291163,\n",
       " 0.08883071378479167,\n",
       " 0.10004536610343018,\n",
       " 0.09184876195238237,\n",
       " 0.1039157955995426,\n",
       " 0.11647093904987399]"
      ]
     },
     "execution_count": 34,
     "metadata": {},
     "output_type": "execute_result"
    }
   ],
   "source": [
    "risks"
   ]
  },
  {
   "cell_type": "code",
   "execution_count": 35,
   "metadata": {},
   "outputs": [
    {
     "data": {
      "text/plain": [
       "[0.04828947009946649,\n",
       " 0.05200174021108128,\n",
       " 0.055473854242899634,\n",
       " 0.06936429581945225,\n",
       " 0.07827229423201776,\n",
       " 0.0872482669647956,\n",
       " 0.09629268522940415,\n",
       " 0.0897277144423736,\n",
       " 0.09932213251983635,\n",
       " 0.10890522981907647]"
      ]
     },
     "execution_count": 35,
     "metadata": {},
     "output_type": "execute_result"
    }
   ],
   "source": [
    "returns"
   ]
  },
  {
   "cell_type": "code",
   "execution_count": 5,
   "metadata": {},
   "outputs": [
    {
     "name": "stdout",
     "output_type": "stream",
     "text": [
      "0\n",
      "1\n",
      "2\n",
      "3\n",
      "4\n",
      "5\n",
      "6\n",
      "7\n",
      "8\n",
      "9\n"
     ]
    }
   ],
   "source": [
    "risks = []\n",
    "returns = []\n",
    "returns1 = []\n",
    "returns2 = []\n",
    "returns3 = []\n",
    "_MONTHS_PER_YEAR = 12\n",
    "for idx, pnt in enumerate(sorted(efficiency_frontier.points, key=lambda x: x.ret)):\n",
    "    print(idx)\n",
    "    p=y.portfolio(assets=dict(zip(asset_names, pnt.weights)),\n",
    "                  start_period='2008-2', end_period='2017-8', currency='usd')\n",
    "    risks.append(p.risk().value)\n",
    "    returns.append((p.rate_of_return().values.mean() + 1.) ** _MONTHS_PER_YEAR - 1.)\n",
    "    returns1.append(p.rate_of_return().values.mean())\n",
    "    returns2.append(pnt.ret)\n",
    "    returns3.append(pnt.ret1)"
   ]
  },
  {
   "cell_type": "code",
   "execution_count": 11,
   "metadata": {},
   "outputs": [
    {
     "data": {
      "text/plain": [
       "array([0.00030124, 0.00029568, 0.00109514, 0.00069542, 0.00069542,\n",
       "       0.00019187, 0.00050355, 0.00023237, 0.00072924])"
      ]
     },
     "execution_count": 11,
     "metadata": {},
     "output_type": "execute_result"
    }
   ],
   "source": [
    "np.diff(np.array(sorted(returns3)))"
   ]
  },
  {
   "cell_type": "code",
   "execution_count": 7,
   "metadata": {},
   "outputs": [
    {
     "data": {
      "image/png": "[encoded data removed]",
      "text/plain": [
       "<Figure size 432x288 with 1 Axes>"
      ]
     },
     "metadata": {
      "needs_background": "light"
     },
     "output_type": "display_data"
    }
   ],
   "source": [
    "plt.ylabel('mean')\n",
    "plt.xlabel('std')\n",
    "_ = plt.plot(risks, returns2, 'y-o')"
   ]
  },
  {
   "cell_type": "code",
   "execution_count": 8,
   "metadata": {},
   "outputs": [
    {
     "data": {
      "image/png": "[encoded data removed]",
      "text/plain": [
       "<Figure size 432x288 with 1 Axes>"
      ]
     },
     "metadata": {
      "needs_background": "light"
     },
     "output_type": "display_data"
    }
   ],
   "source": [
    "plt.ylabel('mean')\n",
    "plt.xlabel('std')\n",
    "_ = plt.plot(risks, returns3, 'y-o')"
   ]
  },
  {
   "cell_type": "code",
   "execution_count": 9,
   "metadata": {},
   "outputs": [
    {
     "data": {
      "image/png": "[encoded data removed]",
      "text/plain": [
       "<Figure size 432x288 with 1 Axes>"
      ]
     },
     "metadata": {
      "needs_background": "light"
     },
     "output_type": "display_data"
    }
   ],
   "source": [
    "risks = [p.risk for p in efficiency_frontier.points]\n",
    "returns = [p.ret for p in efficiency_frontier.points]\n",
    "\n",
    "plt.ylabel('mean')\n",
    "plt.xlabel('std')\n",
    "_ = plt.plot(risks, returns, 'y-o')"
   ]
  },
  {
   "cell_type": "code",
   "execution_count": null,
   "metadata": {},
   "outputs": [],
   "source": []
  }
 ],
 "metadata": {
  "kernelspec": {
   "display_name": "Python 3",
   "language": "python",
   "name": "python3"
  },
  "language_info": {
   "codemirror_mode": {
    "name": "ipython",
    "version": 3
   },
   "file_extension": ".py",
   "mimetype": "text/x-python",
   "name": "python",
   "nbconvert_exporter": "python",
   "pygments_lexer": "ipython3",
   "version": "3.7.3"
  }
 },
 "nbformat": 4,
 "nbformat_minor": 2
}
