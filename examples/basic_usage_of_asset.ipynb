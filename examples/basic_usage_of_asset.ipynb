{
 "cells": [
  {
   "cell_type": "code",
   "execution_count": 1,
   "metadata": {},
   "outputs": [],
   "source": [
    "import yapo as y\n",
    "import pandas as pd"
   ]
  },
  {
   "cell_type": "markdown",
   "metadata": {},
   "source": [
    "## Asset Creation\n",
    "\n",
    "The library can create an `asset` in several ways. The method `portfolio_asset` accepts parameters:\n",
    "\n",
    "- either `name`, or `names` of asset(s) to be created\n",
    "- optional `start/end_period` to define date range. If no is provided then the library takes maximal range \n",
    "- optional `currency` to compute further activities. If no is provided then the library takes the default value for the financial symbol"
   ]
  },
  {
   "cell_type": "code",
   "execution_count": 2,
   "metadata": {},
   "outputs": [
    {
     "data": {
      "text/plain": [
       "PortfolioAsset(\n",
       "     symbol: micex/SBER,\n",
       "     currency: Currency(RUB),\n",
       "     period_min: 2011-11,\n",
       "     period_max: 2019-04\n",
       ")"
      ]
     },
     "execution_count": 2,
     "metadata": {},
     "output_type": "execute_result"
    }
   ],
   "source": [
    "y.portfolio_asset(name='micex/SBER')"
   ]
  },
  {
   "cell_type": "code",
   "execution_count": 3,
   "metadata": {},
   "outputs": [
    {
     "data": {
      "text/plain": [
       "PortfolioAsset(\n",
       "     symbol: micex/SBER,\n",
       "     currency: Currency(RUB),\n",
       "     period_min: 2011-11,\n",
       "     period_max: 2019-04\n",
       ")"
      ]
     },
     "execution_count": 3,
     "metadata": {},
     "output_type": "execute_result"
    }
   ],
   "source": [
    "y.portfolio_asset(name='micex/SBER', start_period='2010-1')"
   ]
  },
  {
   "cell_type": "code",
   "execution_count": 4,
   "metadata": {},
   "outputs": [
    {
     "data": {
      "text/plain": [
       "PortfolioAsset(\n",
       "     symbol: micex/SBER,\n",
       "     currency: Currency(RUB),\n",
       "     period_min: 2011-11,\n",
       "     period_max: 2013-01\n",
       ")"
      ]
     },
     "execution_count": 4,
     "metadata": {},
     "output_type": "execute_result"
    }
   ],
   "source": [
    "y.portfolio_asset(name='micex/SBER', start_period='2010-1', end_period='2013-1')"
   ]
  },
  {
   "cell_type": "code",
   "execution_count": 5,
   "metadata": {},
   "outputs": [
    {
     "data": {
      "text/plain": [
       "PortfolioAsset(\n",
       "     symbol: micex/SBER,\n",
       "     currency: Currency(USD),\n",
       "     period_min: 2011-11,\n",
       "     period_max: 2013-01\n",
       ")"
      ]
     },
     "execution_count": 5,
     "metadata": {},
     "output_type": "execute_result"
    }
   ],
   "source": [
    "asset=y.portfolio_asset(name='micex/SBER', \n",
    "                        start_period='2010-1', end_period='2013-1', \n",
    "                        currency='usd')\n",
    "asset"
   ]
  },
  {
   "cell_type": "markdown",
   "metadata": {},
   "source": [
    "## Basic Activities"
   ]
  },
  {
   "cell_type": "markdown",
   "metadata": {},
   "source": [
    "Every asset has the `close` values. The `close` method returns `TimeSeries` object that wraps `numpy` array with additional meta-information: `start_period`, `end_period`, and `TimeSeriesKind`"
   ]
  },
  {
   "cell_type": "code",
   "execution_count": 6,
   "metadata": {},
   "outputs": [
    {
     "data": {
      "text/plain": [
       "TimeSeries(start_period=2011-11, end_period=2013-01, kind=TimeSeriesKind.VALUES, values=[2.79519565 2.4661372  2.96956663 3.46075861 3.23442966 3.19963764\n",
       " 2.51734158 2.63248509 2.78767619 2.88479999 2.94305056 2.91163894\n",
       " 2.94334519 3.05998479 3.64963017]"
      ]
     },
     "execution_count": 6,
     "metadata": {},
     "output_type": "execute_result"
    }
   ],
   "source": [
    "close = asset.close()\n",
    "close"
   ]
  },
  {
   "cell_type": "code",
   "execution_count": 7,
   "metadata": {},
   "outputs": [
    {
     "data": {
      "text/plain": [
       "array([2.79519565, 2.4661372 , 2.96956663, 3.46075861, 3.23442966,\n",
       "       3.19963764, 2.51734158, 2.63248509, 2.78767619, 2.88479999,\n",
       "       2.94305056, 2.91163894, 2.94334519, 3.05998479, 3.64963017])"
      ]
     },
     "execution_count": 7,
     "metadata": {},
     "output_type": "execute_result"
    }
   ],
   "source": [
    "close.values"
   ]
  },
  {
   "cell_type": "code",
   "execution_count": 8,
   "metadata": {},
   "outputs": [
    {
     "data": {
      "text/plain": [
       "(Period('2011-11', 'M'), Period('2013-01', 'M'))"
      ]
     },
     "execution_count": 8,
     "metadata": {},
     "output_type": "execute_result"
    }
   ],
   "source": [
    "close.start_period, close.end_period"
   ]
  },
  {
   "cell_type": "code",
   "execution_count": null,
   "metadata": {},
   "outputs": [],
   "source": []
  },
  {
   "cell_type": "markdown",
   "metadata": {},
   "source": [
    "Next thing we derive from the `Close` values is [the `Return`](https://okama.io/#/glossary?page=cumulative-return). The `return` produces `TimeSeries` object that has one-month shorter `start_period` and different `kind`"
   ]
  },
  {
   "cell_type": "code",
   "execution_count": 9,
   "metadata": {},
   "outputs": [
    {
     "data": {
      "text/plain": [
       "TimeSeries(start_period=2011-12, end_period=2013-01, kind=TimeSeriesKind.DIFF, values=[-0.11772287  0.20413683  0.16540864 -0.06539865 -0.01075677 -0.21324166\n",
       "  0.04574012  0.05895232  0.03484042  0.02019224 -0.01067315  0.01088949\n",
       "  0.03962824  0.19269553]"
      ]
     },
     "execution_count": 9,
     "metadata": {},
     "output_type": "execute_result"
    }
   ],
   "source": [
    "asset.rate_of_return()"
   ]
  },
  {
   "cell_type": "code",
   "execution_count": null,
   "metadata": {},
   "outputs": [],
   "source": []
  }
 ],
 "metadata": {
  "kernelspec": {
   "display_name": "Python 3",
   "language": "python",
   "name": "python3"
  },
  "language_info": {
   "codemirror_mode": {
    "name": "ipython",
    "version": 3
   },
   "file_extension": ".py",
   "mimetype": "text/x-python",
   "name": "python",
   "nbconvert_exporter": "python",
   "pygments_lexer": "ipython3",
   "version": "3.7.3"
  }
 },
 "nbformat": 4,
 "nbformat_minor": 2
}
