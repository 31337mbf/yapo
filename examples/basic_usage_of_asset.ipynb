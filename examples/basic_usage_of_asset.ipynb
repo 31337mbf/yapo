{
 "cells": [
  {
   "cell_type": "code",
   "execution_count": 1,
   "metadata": {},
   "outputs": [],
   "source": [
    "import cifrum as lib\n",
    "import pandas as pd\n",
    "import numpy as np"
   ]
  },
  {
   "cell_type": "markdown",
   "metadata": {},
   "source": [
    "## Asset Creation\n",
    "\n",
    "The library can create an `asset` in several ways. The method `portfolio_asset` accepts parameters:\n",
    "\n",
    "- either `name: str`, or `names: List[str]` of asset(s) to be created\n",
    "- optional `start_period: str` and `end_period: str` to define date range. If nothing is provided then the library takes maximum possible range \n",
    "- optional `currency: str` to compute further activities. If no is provided then the library takes the default value for the financial symbol"
   ]
  },
  {
   "cell_type": "code",
   "execution_count": 2,
   "metadata": {},
   "outputs": [],
   "source": [
    "asset_name = 'us/SPY'"
   ]
  },
  {
   "cell_type": "code",
   "execution_count": 3,
   "metadata": {},
   "outputs": [],
   "source": [
    "def print_asset(asset):\n",
    "    print('== {}'.format(asset.symbol.identifier_str))\n",
    "    print(asset.currency)\n",
    "    print(asset._period_min)"
   ]
  },
  {
   "cell_type": "code",
   "execution_count": 4,
   "metadata": {},
   "outputs": [
    {
     "name": "stdout",
     "output_type": "stream",
     "text": [
      "== us/SPY\n",
      "Currency(USD)\n",
      "1993-01\n"
     ]
    }
   ],
   "source": [
    "print_asset(lib.portfolio_asset(name=asset_name))"
   ]
  },
  {
   "cell_type": "code",
   "execution_count": 5,
   "metadata": {},
   "outputs": [
    {
     "name": "stdout",
     "output_type": "stream",
     "text": [
      "== us/SPY\n",
      "Currency(USD)\n",
      "2010-01\n"
     ]
    }
   ],
   "source": [
    "print_asset(lib.portfolio_asset(name=asset_name, start_period='2010-1'))"
   ]
  },
  {
   "cell_type": "code",
   "execution_count": 6,
   "metadata": {},
   "outputs": [
    {
     "name": "stdout",
     "output_type": "stream",
     "text": [
      "== us/SPY\n",
      "Currency(USD)\n",
      "2010-01\n"
     ]
    }
   ],
   "source": [
    "print_asset(lib.portfolio_asset(name=asset_name, start_period='2010-1', end_period='2013-1'))"
   ]
  },
  {
   "cell_type": "code",
   "execution_count": 7,
   "metadata": {},
   "outputs": [
    {
     "name": "stdout",
     "output_type": "stream",
     "text": [
      "== us/SPY\n",
      "Currency(USD)\n",
      "2010-01\n"
     ]
    }
   ],
   "source": [
    "asset=lib.portfolio_asset(name=asset_name, \n",
    "                        start_period='2010-1', end_period='2013-1', \n",
    "                        currency='usd')\n",
    "print_asset(asset)"
   ]
  },
  {
   "cell_type": "markdown",
   "metadata": {},
   "source": [
    "## Basic Activities"
   ]
  },
  {
   "cell_type": "markdown",
   "metadata": {},
   "source": [
    "### Close\n",
    "\n",
    "Every asset has the `close` values. The `close` method returns `TimeSeries` object that wraps `numpy` array with additional meta-information: `start_period`, `end_period`, and `TimeSeriesKind`"
   ]
  },
  {
   "cell_type": "code",
   "execution_count": 8,
   "metadata": {},
   "outputs": [
    {
     "data": {
      "text/plain": [
       "TimeSeries(start_period=2010-01, end_period=2013-01, kind=TimeSeriesKind.VALUES, values=[ 87.4115  90.1379  95.6258  97.1073  89.3891  84.7649  90.5544  86.4811\n",
       "  94.2259  97.8259  97.8278 104.3657 106.7969 110.5068 110.5206 113.7215\n",
       " 112.4461 110.5484 108.3372 102.3814  95.2737 105.6728 105.2433 106.3433\n",
       " 111.2746 116.1045 119.8386 119.0387 111.8896 116.4352 117.8081 120.7595\n",
       " 123.821  121.5679 122.26   123.3479 129.6624]"
      ]
     },
     "execution_count": 8,
     "metadata": {},
     "output_type": "execute_result"
    }
   ],
   "source": [
    "close = asset.close()\n",
    "close"
   ]
  },
  {
   "cell_type": "code",
   "execution_count": 9,
   "metadata": {},
   "outputs": [
    {
     "data": {
      "text/plain": [
       "array([ 87.4115,  90.1379,  95.6258,  97.1073,  89.3891,  84.7649,\n",
       "        90.5544,  86.4811,  94.2259,  97.8259,  97.8278, 104.3657,\n",
       "       106.7969, 110.5068, 110.5206, 113.7215, 112.4461, 110.5484,\n",
       "       108.3372, 102.3814,  95.2737, 105.6728, 105.2433, 106.3433,\n",
       "       111.2746, 116.1045, 119.8386, 119.0387, 111.8896, 116.4352,\n",
       "       117.8081, 120.7595, 123.821 , 121.5679, 122.26  , 123.3479,\n",
       "       129.6624])"
      ]
     },
     "execution_count": 9,
     "metadata": {},
     "output_type": "execute_result"
    }
   ],
   "source": [
    "close.values"
   ]
  },
  {
   "cell_type": "code",
   "execution_count": 10,
   "metadata": {},
   "outputs": [
    {
     "data": {
      "text/plain": [
       "(Period('2010-01', 'M'), Period('2013-01', 'M'))"
      ]
     },
     "execution_count": 10,
     "metadata": {},
     "output_type": "execute_result"
    }
   ],
   "source": [
    "close.start_period, close.end_period"
   ]
  },
  {
   "cell_type": "code",
   "execution_count": null,
   "metadata": {},
   "outputs": [],
   "source": []
  },
  {
   "cell_type": "markdown",
   "metadata": {},
   "source": [
    "### Return\n",
    "\n",
    "Next thing we derive from the `Close` values is [the `Return`](https://okama.io/#/glossary?page=cumulative-return). The `get_return` produces `TimeSeries` object that has one-month shorter `start_period`"
   ]
  },
  {
   "cell_type": "code",
   "execution_count": 11,
   "metadata": {},
   "outputs": [
    {
     "data": {
      "text/plain": [
       "TimeSeries(start_period=2010-02, end_period=2013-01, kind=TimeSeriesKind.DIFF, values=[ 3.11904040e-02  6.08833798e-02  1.54926808e-02 -7.94811513e-02\n",
       " -5.17311395e-02  6.83006763e-02 -4.49818010e-02  8.95548276e-02\n",
       "  3.82060559e-02  1.94222593e-05  6.68306964e-02  2.32950098e-02\n",
       "  3.47378997e-02  1.24879193e-04  2.89620216e-02 -1.12151176e-02\n",
       " -1.68765302e-02 -2.00020986e-02 -5.49746532e-02 -6.94237430e-02\n",
       "  1.09149744e-01 -4.06443285e-03  1.04519718e-02  4.63715156e-02\n",
       "  4.34052335e-02  3.21615441e-02 -6.67481095e-03 -6.00569395e-02\n",
       "  4.06257597e-02  1.17911078e-02  2.50526067e-02  2.53520427e-02\n",
       " -1.81964287e-02  5.69311471e-03  8.89824963e-03  5.11926024e-02]"
      ]
     },
     "execution_count": 11,
     "metadata": {},
     "output_type": "execute_result"
    }
   ],
   "source": [
    "assert asset.get_return().start_period == asset.close().start_period + 1\n",
    "asset.get_return()"
   ]
  },
  {
   "cell_type": "markdown",
   "metadata": {},
   "source": [
    "`get_return` accepts parameters as follows:\n",
    "\n",
    "- `kind: str` that determines the time series reduction. It should be one of `values` (by default), `cumulative` or `ytd` values\n",
    "- `real: bool` that states if the return should be adjusted to corresponding inflation (`False` by default)\n",
    "\n",
    "For example, the call as follows gets the real cumulative return for the period:"
   ]
  },
  {
   "cell_type": "code",
   "execution_count": 12,
   "metadata": {},
   "outputs": [
    {
     "data": {
      "text/plain": [
       "TimeSeries(start_period=2010-02, end_period=2013-01, kind=TimeSeriesKind.CUMULATIVE, values=[ 0.0309337   0.08922806  0.10418515  0.01563613 -0.03596299  0.02966413\n",
       " -0.01800814  0.06931163  0.10878537  0.10834029  0.18038355  0.20215473\n",
       "  0.23781141  0.22601116  0.25344797  0.2335876   0.21406919  0.18873205\n",
       "  0.12029215  0.04093713  0.15694192  0.15321292  0.16814809  0.21696226\n",
       "  0.26421843  0.29504181  0.28252315  0.20691444  0.25779018  0.27469868\n",
       "  0.29940203  0.32642601  0.30279658  0.3164509   0.33175141  0.39579985]"
      ]
     },
     "execution_count": 12,
     "metadata": {},
     "output_type": "execute_result"
    }
   ],
   "source": [
    "asset.get_return(kind='cumulative', real=True)"
   ]
  },
  {
   "cell_type": "markdown",
   "metadata": {},
   "source": [
    "### CAGR\n",
    "\n",
    "Asset supports computation of [CAGR](https://okama.io/#/glossary?page=compound-annual-growth-rate) activity:"
   ]
  },
  {
   "cell_type": "code",
   "execution_count": 13,
   "metadata": {},
   "outputs": [
    {
     "data": {
      "text/plain": [
       "TimeSeries(start_period=2010-02, end_period=2013-01, kind=TimeSeriesKind.REDUCED_VALUE, values=[0.14046465]"
      ]
     },
     "execution_count": 13,
     "metadata": {},
     "output_type": "execute_result"
    }
   ],
   "source": [
    "asset.cagr()"
   ]
  },
  {
   "cell_type": "markdown",
   "metadata": {},
   "source": [
    "The asset can also compute the real CAGR:"
   ]
  },
  {
   "cell_type": "code",
   "execution_count": 14,
   "metadata": {},
   "outputs": [
    {
     "data": {
      "text/plain": [
       "TimeSeries(start_period=2010-02, end_period=2013-01, kind=TimeSeriesKind.REDUCED_VALUE, values=[0.11756909]"
      ]
     },
     "execution_count": 14,
     "metadata": {},
     "output_type": "execute_result"
    }
   ],
   "source": [
    "asset.cagr(real=True)"
   ]
  },
  {
   "cell_type": "markdown",
   "metadata": {},
   "source": [
    "### Risk"
   ]
  },
  {
   "cell_type": "markdown",
   "metadata": {},
   "source": [
    "The Risk ([Standard Deviation](https://okama.io/#/glossary?page=standard-deviation)) is computed with `risk: TimeSeries` method. It accepts `period` parameter that is either `year` (by default) or `month`:"
   ]
  },
  {
   "cell_type": "code",
   "execution_count": 15,
   "metadata": {},
   "outputs": [
    {
     "data": {
      "text/plain": [
       "TimeSeries(start_period=2010-02, end_period=2013-01, kind=TimeSeriesKind.REDUCED_VALUE, values=[0.17183847]"
      ]
     },
     "execution_count": 15,
     "metadata": {},
     "output_type": "execute_result"
    }
   ],
   "source": [
    "asset.risk()"
   ]
  },
  {
   "cell_type": "code",
   "execution_count": 16,
   "metadata": {},
   "outputs": [
    {
     "data": {
      "text/plain": [
       "TimeSeries(start_period=2010-02, end_period=2013-01, kind=TimeSeriesKind.REDUCED_VALUE, values=[0.17183847]"
      ]
     },
     "execution_count": 16,
     "metadata": {},
     "output_type": "execute_result"
    }
   ],
   "source": [
    "asset.risk(period='year')"
   ]
  },
  {
   "cell_type": "code",
   "execution_count": 17,
   "metadata": {},
   "outputs": [
    {
     "data": {
      "text/plain": [
       "TimeSeries(start_period=2010-02, end_period=2013-01, kind=TimeSeriesKind.REDUCED_VALUE, values=[0.04331195]"
      ]
     },
     "execution_count": 17,
     "metadata": {},
     "output_type": "execute_result"
    }
   ],
   "source": [
    "asset.risk(period='month')"
   ]
  },
  {
   "cell_type": "code",
   "execution_count": null,
   "metadata": {},
   "outputs": [],
   "source": []
  }
 ],
 "metadata": {
  "kernelspec": {
   "display_name": "Python 3",
   "language": "python",
   "name": "python3"
  },
  "language_info": {
   "codemirror_mode": {
    "name": "ipython",
    "version": 3
   },
   "file_extension": ".py",
   "mimetype": "text/x-python",
   "name": "python",
   "nbconvert_exporter": "python",
   "pygments_lexer": "ipython3",
   "version": "3.7.7"
  }
 },
 "nbformat": 4,
 "nbformat_minor": 2
}
