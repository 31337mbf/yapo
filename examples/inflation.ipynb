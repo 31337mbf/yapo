{
 "cells": [
  {
   "cell_type": "code",
   "execution_count": 1,
   "metadata": {},
   "outputs": [],
   "source": [
    "import yapo as y\n",
    "import pandas as pd\n",
    "import numpy as np"
   ]
  },
  {
   "cell_type": "markdown",
   "metadata": {},
   "source": [
    "# Inflation"
   ]
  },
  {
   "cell_type": "markdown",
   "metadata": {},
   "source": [
    "To compute the inflation, the library provides `inflation` method. The library supports kinds of inflation as follows:\n",
    "\n",
    "- `cumulative` - cumulative inflation\n",
    "- `a_mean` - arithmetic mean of inflation\n",
    "- `g_mean` - geometric mean of inflation\n",
    "- `yoy` - Year on Year inflation\n",
    "- `values` - raw values of inflation\n",
    "\n",
    "Another parameter is `currency` to compute the inflation against.\n",
    "\n",
    "And the last ones are periods:\n",
    "\n",
    "- `end_period` - the period till which to compute. The default value is the latest date for the existing inflation values\n",
    "- `start_period` - the period till which to compute. The default value is the earliest date for the existing inflation values\n",
    "- `years_ago` that can be only specified if `start_period` doesn't. Corresponding `start_period` is then computed as `end_period - 12 * years_ago`"
   ]
  },
  {
   "cell_type": "code",
   "execution_count": 2,
   "metadata": {},
   "outputs": [
    {
     "data": {
      "text/plain": [
       "TimeSeries(start_period=2016-01, end_period=2019-04, kind=TimeSeriesKind.DIFF, values=[ 1.653e-03  8.230e-04  4.306e-03  4.741e-03  4.046e-03  3.284e-03\n",
       " -1.618e-03  9.180e-04  2.404e-03  1.247e-03 -1.555e-03  3.270e-04\n",
       "  5.828e-03  3.146e-03  8.130e-04  2.966e-03  8.550e-04  9.070e-04\n",
       " -6.900e-04  2.994e-03  5.295e-03 -6.320e-04  2.400e-05 -5.880e-04\n",
       "  5.448e-03  4.535e-03  2.261e-03  3.975e-03  4.159e-03  1.594e-03\n",
       "  6.700e-05  5.560e-04  1.162e-03  1.767e-03 -3.349e-03 -3.194e-03\n",
       "  1.907e-03  4.227e-03  5.641e-03  5.295e-03]"
      ]
     },
     "execution_count": 2,
     "metadata": {},
     "output_type": "execute_result"
    }
   ],
   "source": [
    "y.inflation(currency='usd', start_period='2016-1', end_period='2019-4', kind='values')"
   ]
  },
  {
   "cell_type": "code",
   "execution_count": 3,
   "metadata": {},
   "outputs": [
    {
     "data": {
      "text/plain": [
       "TimeSeries(start_period=2016-01, end_period=2019-01, kind=TimeSeriesKind.YTD, values=[0.02074591 0.02109093 0.01910268 0.01717528]"
      ]
     },
     "execution_count": 3,
     "metadata": {},
     "output_type": "execute_result"
    }
   ],
   "source": [
    "y.inflation(currency='usd', start_period='2016-1', end_period='2019-4', kind='yoy')"
   ]
  },
  {
   "cell_type": "code",
   "execution_count": 4,
   "metadata": {},
   "outputs": [
    {
     "data": {
      "text/plain": [
       "TimeSeries(start_period=2010-01, end_period=2019-01, kind=TimeSeriesKind.YTD, values=[0.01495672 0.02962146 0.01741085 0.01501763 0.00756619 0.00729479\n",
       " 0.02074591 0.02109093 0.01910268 0.01717528]"
      ]
     },
     "execution_count": 4,
     "metadata": {},
     "output_type": "execute_result"
    }
   ],
   "source": [
    "y.inflation(currency='usd', end_period='2019-4', years_ago=10, kind='yoy')"
   ]
  }
 ],
 "metadata": {
  "kernelspec": {
   "display_name": "Python 3",
   "language": "python",
   "name": "python3"
  },
  "language_info": {
   "codemirror_mode": {
    "name": "ipython",
    "version": 3
   },
   "file_extension": ".py",
   "mimetype": "text/x-python",
   "name": "python",
   "nbconvert_exporter": "python",
   "pygments_lexer": "ipython3",
   "version": "3.7.3"
  }
 },
 "nbformat": 4,
 "nbformat_minor": 2
}
