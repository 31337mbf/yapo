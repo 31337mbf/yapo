{
 "cells": [
  {
   "cell_type": "code",
   "execution_count": 1,
   "metadata": {},
   "outputs": [],
   "source": [
    "import yapo as y\n",
    "import pandas as pd\n",
    "import numpy as np"
   ]
  },
  {
   "cell_type": "markdown",
   "metadata": {},
   "source": [
    "## Portfolio Manipulations\n",
    "\n",
    "The library can create a `portfolio` in several ways with the `portfolio` method. The method `portfolio` accepts parameters:\n",
    "\n",
    "- the `assets` dictionary of `name-weight` pairs \n",
    "- optional `start_period` and `end_period` to define date range. If nothing is provided then the library takes maximum possible range \n",
    "- `currency` to compute further activities. The `currency` is required (unlike it is for the an asset creation) since each asset in the portfolio might have different currency that can't be deduced automatically"
   ]
  },
  {
   "cell_type": "code",
   "execution_count": 2,
   "metadata": {},
   "outputs": [],
   "source": [
    "assets = {\n",
    "    'us/SPY': 1.,\n",
    "    'us/MSFT': 2.,\n",
    "    'us/AAPL': 3.,\n",
    "    'non/existing': 4.,\n",
    "}"
   ]
  },
  {
   "cell_type": "code",
   "execution_count": 3,
   "metadata": {},
   "outputs": [
    {
     "data": {
      "text/plain": [
       "Portfolio(\n",
       "     assets: us/SPY, us/MSFT, us/AAPL,\n",
       "     currency: Currency(USD),\n",
       ")"
      ]
     },
     "execution_count": 3,
     "metadata": {},
     "output_type": "execute_result"
    }
   ],
   "source": [
    "p = y.portfolio(assets=assets, currency='usd', start_period='2017-1', end_period='2019-4')\n",
    "p"
   ]
  },
  {
   "cell_type": "markdown",
   "metadata": {},
   "source": [
    "Note how the library created the portfolio only for existing ticker names.\n",
    "\n",
    "The library also normalizes the weights to keep its sum as much close to 1.0 as possible in computer's floating numbers:"
   ]
  },
  {
   "cell_type": "code",
   "execution_count": 4,
   "metadata": {},
   "outputs": [
    {
     "data": {
      "text/plain": [
       "array([0.1667, 0.3333, 0.5   ])"
      ]
     },
     "execution_count": 4,
     "metadata": {},
     "output_type": "execute_result"
    }
   ],
   "source": [
    "assert sum(a.weight for (_, a) in p.assets.items()) == 1.0\n",
    "\n",
    "np.round([a.weight for (_, a) in p.assets.items()], 4)"
   ]
  },
  {
   "cell_type": "markdown",
   "metadata": {},
   "source": [
    "## Basic Activities"
   ]
  },
  {
   "cell_type": "markdown",
   "metadata": {},
   "source": [
    "The portfolio doesn't have the `close` method since we can't put one-to-one weighted close values of assets of different kinds which are indices, mutual funds, currencies. The very first portfolio basic activity is [the Return](https://okama.io/#/glossary?page=cumulative-return):"
   ]
  },
  {
   "cell_type": "code",
   "execution_count": 5,
   "metadata": {},
   "outputs": [
    {
     "data": {
      "text/plain": [
       "TimeSeries(start_period=2017-02, end_period=2019-04, kind=TimeSeriesKind.DIFF, values=[ 0.07198203  0.0343488   0.01477797  0.04492542 -0.03188866  0.03800835\n",
       "  0.06530402 -0.02801218  0.09121703  0.02089592 -0.00017653  0.0409775\n",
       "  0.0252271  -0.04248055  0.00156883  0.09210289 -0.00452622  0.04541668\n",
       "  0.12652873  0.00289271 -0.04878956 -0.07327928 -0.10103958  0.05030669\n",
       "  0.05357702  0.069114    0.0708079 ]"
      ]
     },
     "execution_count": 5,
     "metadata": {},
     "output_type": "execute_result"
    }
   ],
   "source": [
    "p.get_return()"
   ]
  },
  {
   "cell_type": "code",
   "execution_count": 6,
   "metadata": {},
   "outputs": [
    {
     "data": {
      "text/plain": [
       "TimeSeries(start_period=2017-02, end_period=2019-04, kind=TimeSeriesKind.CUMULATIVE, values=[0.06862015 0.10442807 0.11743497 0.16663872 0.12841271 0.17211057\n",
       " 0.2449268  0.2036802  0.31430697 0.34173842 0.34229082 0.38972334\n",
       " 0.41834981 0.3550338  0.35178626 0.47017522 0.46119174 0.52745189\n",
       " 0.71976225 0.72273521 0.63579326 0.52101739 0.37171569 0.43797993\n",
       " 0.50864557 0.60386668 0.70838721]"
      ]
     },
     "execution_count": 6,
     "metadata": {},
     "output_type": "execute_result"
    }
   ],
   "source": [
    "p.get_return(kind='cumulative', real=True)"
   ]
  },
  {
   "cell_type": "markdown",
   "metadata": {},
   "source": [
    "The rest of basic activities are exactly the same as for the individual asset:"
   ]
  },
  {
   "cell_type": "code",
   "execution_count": 7,
   "metadata": {},
   "outputs": [
    {
     "data": {
      "text/plain": [
       "TimeSeries(start_period=2017-02, end_period=2019-04, kind=TimeSeriesKind.REDUCED_VALUE, values=[0.2978309]"
      ]
     },
     "execution_count": 7,
     "metadata": {},
     "output_type": "execute_result"
    }
   ],
   "source": [
    "p.cagr()"
   ]
  },
  {
   "cell_type": "code",
   "execution_count": 8,
   "metadata": {},
   "outputs": [
    {
     "data": {
      "text/plain": [
       "TimeSeries(start_period=2017-02, end_period=2019-04, kind=TimeSeriesKind.REDUCED_VALUE, values=[0.26873726]"
      ]
     },
     "execution_count": 8,
     "metadata": {},
     "output_type": "execute_result"
    }
   ],
   "source": [
    "p.cagr(real=True)"
   ]
  },
  {
   "cell_type": "code",
   "execution_count": 9,
   "metadata": {},
   "outputs": [
    {
     "data": {
      "text/plain": [
       "TimeSeries(start_period=2017-02, end_period=2019-04, kind=TimeSeriesKind.REDUCED_VALUE, values=[0.23545423]"
      ]
     },
     "execution_count": 9,
     "metadata": {},
     "output_type": "execute_result"
    }
   ],
   "source": [
    "p.risk()"
   ]
  },
  {
   "cell_type": "code",
   "execution_count": 10,
   "metadata": {},
   "outputs": [
    {
     "data": {
      "text/plain": [
       "TimeSeries(start_period=2017-02, end_period=2019-04, kind=TimeSeriesKind.REDUCED_VALUE, values=[0.23545423]"
      ]
     },
     "execution_count": 10,
     "metadata": {},
     "output_type": "execute_result"
    }
   ],
   "source": [
    "p.risk(period='year')"
   ]
  },
  {
   "cell_type": "code",
   "execution_count": 11,
   "metadata": {},
   "outputs": [
    {
     "data": {
      "text/plain": [
       "TimeSeries(start_period=2017-02, end_period=2019-04, kind=TimeSeriesKind.REDUCED_VALUE, values=[0.05236395]"
      ]
     },
     "execution_count": 11,
     "metadata": {},
     "output_type": "execute_result"
    }
   ],
   "source": [
    "p.risk(period='month')"
   ]
  },
  {
   "cell_type": "code",
   "execution_count": null,
   "metadata": {},
   "outputs": [],
   "source": []
  }
 ],
 "metadata": {
  "kernelspec": {
   "display_name": "Python 3",
   "language": "python",
   "name": "python3"
  },
  "language_info": {
   "codemirror_mode": {
    "name": "ipython",
    "version": 3
   },
   "file_extension": ".py",
   "mimetype": "text/x-python",
   "name": "python",
   "nbconvert_exporter": "python",
   "pygments_lexer": "ipython3",
   "version": "3.7.3"
  }
 },
 "nbformat": 4,
 "nbformat_minor": 2
}
