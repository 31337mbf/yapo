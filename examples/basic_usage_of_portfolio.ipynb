{
 "cells": [
  {
   "cell_type": "code",
   "execution_count": 1,
   "metadata": {},
   "outputs": [],
   "source": [
    "import cifrum as lib\n",
    "import pandas as pd\n",
    "import numpy as np"
   ]
  },
  {
   "cell_type": "markdown",
   "metadata": {},
   "source": [
    "## Portfolio Manipulations\n",
    "\n",
    "The library can create a `portfolio` in several ways with the `portfolio` method. The method `portfolio` accepts parameters:\n",
    "\n",
    "- the `assets` dictionary of `name-weight` pairs \n",
    "- optional `start_period` and `end_period` to define date range. If nothing is provided then the library takes maximum possible range \n",
    "- `currency` to compute further activities. The `currency` is required (unlike it is for the an asset creation) since each asset in the portfolio might have different currency that can't be deduced automatically"
   ]
  },
  {
   "cell_type": "code",
   "execution_count": 2,
   "metadata": {},
   "outputs": [],
   "source": [
    "assets = {\n",
    "    'us/SPY': 1.,\n",
    "    'us/MSFT': 2.,\n",
    "    'us/AAPL': 3.,\n",
    "    'non/existing': 4.,\n",
    "}"
   ]
  },
  {
   "cell_type": "code",
   "execution_count": 3,
   "metadata": {},
   "outputs": [
    {
     "data": {
      "text/plain": [
       "Portfolio(\n",
       "     assets: us/SPY, us/MSFT, us/AAPL,\n",
       "     currency: Currency(USD),\n",
       ")"
      ]
     },
     "execution_count": 3,
     "metadata": {},
     "output_type": "execute_result"
    }
   ],
   "source": [
    "p = lib.portfolio(assets=assets, currency='usd', start_period='2017-1', end_period='2019-4')\n",
    "p"
   ]
  },
  {
   "cell_type": "markdown",
   "metadata": {},
   "source": [
    "Note how the library created the portfolio only for existing ticker names.\n",
    "\n",
    "The library also normalizes the weights to keep its sum as much close to 1.0 as possible in computer's floating numbers:"
   ]
  },
  {
   "cell_type": "code",
   "execution_count": 4,
   "metadata": {},
   "outputs": [
    {
     "data": {
      "text/plain": [
       "array([0.1667, 0.3333, 0.5   ])"
      ]
     },
     "execution_count": 4,
     "metadata": {},
     "output_type": "execute_result"
    }
   ],
   "source": [
    "assert sum(a.weight for (_, a) in p.assets.items()) == 1.0\n",
    "\n",
    "np.round([a.weight for (_, a) in p.assets.items()], 4)"
   ]
  },
  {
   "cell_type": "markdown",
   "metadata": {},
   "source": [
    "## Basic Activities"
   ]
  },
  {
   "cell_type": "markdown",
   "metadata": {},
   "source": [
    "The portfolio doesn't have the `close` method since we can't put one-to-one weighted close values of assets of different kinds which are indices, mutual funds, currencies. The very first portfolio basic activity is [the Return](https://okama.io/#/glossary?page=cumulative-return):"
   ]
  },
  {
   "cell_type": "code",
   "execution_count": 5,
   "metadata": {},
   "outputs": [
    {
     "data": {
      "text/plain": [
       "TimeSeries(start_period=2017-02, end_period=2019-04, kind=TimeSeriesKind.DIFF, values=[ 0.07198252  0.03434907  0.01477656  0.04492678 -0.03188874  0.03800803\n",
       "  0.0653043  -0.02801297  0.0912173   0.02089656 -0.00017693  0.04097739\n",
       "  0.02522759 -0.04248088  0.00156897  0.09210244 -0.00452637  0.04541709\n",
       "  0.12652832  0.00289267 -0.04878957 -0.07327939 -0.10103923  0.05030717\n",
       "  0.05357665  0.06911362  0.0708082 ]"
      ]
     },
     "execution_count": 5,
     "metadata": {},
     "output_type": "execute_result"
    }
   ],
   "source": [
    "p.get_return()"
   ]
  },
  {
   "cell_type": "code",
   "execution_count": 6,
   "metadata": {},
   "outputs": [
    {
     "data": {
      "text/plain": [
       "TimeSeries(start_period=2017-02, end_period=2019-04, kind=TimeSeriesKind.CUMULATIVE, values=[0.06862064 0.10442887 0.11743422 0.16663946 0.12841332 0.17211085\n",
       " 0.24492742 0.20367983 0.3143069  0.34173919 0.34229106 0.38972343\n",
       " 0.41835059 0.35503408 0.35178672 0.47017512 0.46119142 0.52745214\n",
       " 0.71976191 0.7227348  0.63579287 0.52101686 0.37171574 0.43798064\n",
       " 0.50864579 0.60386636 0.70838734]"
      ]
     },
     "execution_count": 6,
     "metadata": {},
     "output_type": "execute_result"
    }
   ],
   "source": [
    "p.get_return(kind='cumulative', real=True)"
   ]
  },
  {
   "cell_type": "markdown",
   "metadata": {},
   "source": [
    "The rest of basic activities are exactly the same as for the individual asset:"
   ]
  },
  {
   "cell_type": "code",
   "execution_count": 7,
   "metadata": {},
   "outputs": [
    {
     "data": {
      "text/plain": [
       "TimeSeries(start_period=2017-02, end_period=2019-04, kind=TimeSeriesKind.REDUCED_VALUE, values=[0.29783095]"
      ]
     },
     "execution_count": 7,
     "metadata": {},
     "output_type": "execute_result"
    }
   ],
   "source": [
    "p.cagr()"
   ]
  },
  {
   "cell_type": "code",
   "execution_count": 8,
   "metadata": {},
   "outputs": [
    {
     "data": {
      "text/plain": [
       "TimeSeries(start_period=2017-02, end_period=2019-04, kind=TimeSeriesKind.REDUCED_VALUE, values=[0.2687373]"
      ]
     },
     "execution_count": 8,
     "metadata": {},
     "output_type": "execute_result"
    }
   ],
   "source": [
    "p.cagr(real=True)"
   ]
  },
  {
   "cell_type": "code",
   "execution_count": 9,
   "metadata": {},
   "outputs": [
    {
     "data": {
      "text/plain": [
       "TimeSeries(start_period=2017-02, end_period=2019-04, kind=TimeSeriesKind.REDUCED_VALUE, values=[0.23545447]"
      ]
     },
     "execution_count": 9,
     "metadata": {},
     "output_type": "execute_result"
    }
   ],
   "source": [
    "p.risk()"
   ]
  },
  {
   "cell_type": "code",
   "execution_count": 10,
   "metadata": {},
   "outputs": [
    {
     "data": {
      "text/plain": [
       "TimeSeries(start_period=2017-02, end_period=2019-04, kind=TimeSeriesKind.REDUCED_VALUE, values=[0.23545447]"
      ]
     },
     "execution_count": 10,
     "metadata": {},
     "output_type": "execute_result"
    }
   ],
   "source": [
    "p.risk(period='year')"
   ]
  },
  {
   "cell_type": "code",
   "execution_count": 11,
   "metadata": {},
   "outputs": [
    {
     "data": {
      "text/plain": [
       "TimeSeries(start_period=2017-02, end_period=2019-04, kind=TimeSeriesKind.REDUCED_VALUE, values=[0.052364]"
      ]
     },
     "execution_count": 11,
     "metadata": {},
     "output_type": "execute_result"
    }
   ],
   "source": [
    "p.risk(period='month')"
   ]
  },
  {
   "cell_type": "code",
   "execution_count": null,
   "metadata": {},
   "outputs": [],
   "source": []
  }
 ],
 "metadata": {
  "kernelspec": {
   "display_name": "Python 3",
   "language": "python",
   "name": "python3"
  },
  "language_info": {
   "codemirror_mode": {
    "name": "ipython",
    "version": 3
   },
   "file_extension": ".py",
   "mimetype": "text/x-python",
   "name": "python",
   "nbconvert_exporter": "python",
   "pygments_lexer": "ipython3",
   "version": "3.7.7"
  }
 },
 "nbformat": 4,
 "nbformat_minor": 2
}
